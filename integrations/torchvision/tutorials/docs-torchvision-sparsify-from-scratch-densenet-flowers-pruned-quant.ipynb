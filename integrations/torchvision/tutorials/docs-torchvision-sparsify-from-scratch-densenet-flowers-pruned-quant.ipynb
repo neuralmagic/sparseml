{
 "cells": [
  {
   "cell_type": "markdown",
   "id": "00e081b7",
   "metadata": {},
   "source": [
    "# Sparsifying DenseNet121 from Scratch (Flower102)\n",
    "\n",
    "In this example, we will demonstrate how to sparsify an image classification model from scratch using SparseML's PyTorch integration. We train and prune [DenseNet121](https://pytorch.org/vision/main/models/generated/torchvision.models.densenet121.html) on the downstream [Oxford Flower 102 dataset](https://pytorch.org/vision/main/generated/torchvision.datasets.Flowers102.html#:~:text=Oxford%20102%20Flower%20is%20an,scale%2C%20pose%20and%20light%20variations) using the Global Magnitude Pruning algorithm. \n",
    "\n",
    "## Agenda\n",
    "\n",
    "There are a few steps:\n",
    "\n",
    " 1. Setup the dataset\n",
    " 2. Setup the PyTorch training loop\n",
    " 3. Train a dense version of DenseNet121\n",
    " 4. Run the GMP pruning algorithm on the dense model\n",
    " \n",
    "## Installation\n",
    "\n",
    "Install SparseML with `pip`:\n",
    "\n",
    "```\n",
    "pip install sparseml[torchvision]\n",
    "```"
   ]
  },
  {
   "cell_type": "code",
   "execution_count": 1,
   "id": "1ad80edf",
   "metadata": {},
   "outputs": [],
   "source": [
    "import torch\n",
    "import sparseml\n",
    "import torchvision\n",
    "from sparseml.pytorch.optim import ScheduledModifierManager\n",
    "from sparseml.pytorch.utils import TensorBoardLogger, ModuleExporter, get_prunable_layers, tensor_sparsity\n",
    "\n",
    "from torch.utils.data import DataLoader\n",
    "from torch.nn import CrossEntropyLoss\n",
    "from torch.optim import Adam\n",
    "\n",
    "from torchvision import transforms\n",
    "from tqdm.auto import tqdm\n",
    "import math"
   ]
  },
  {
   "cell_type": "markdown",
   "id": "3a128dcc",
   "metadata": {},
   "source": [
    "## **Step 1: Setup Dataset**\n",
    "\n",
    "Oxford 102 Flower is an image classification dataset consisting of 102 flower categories. The flowers were chosen to be flowers commonly occurring in the United Kingdom. Each class consists of between 40 and 258 images. The images have large scale, pose and light variations. In addition, there are categories that have large variations within the category, and several very similar categories.\n",
    "\n",
    "We use the standard PyTorch `datasets` and `dataloaders` to manage the dataset."
   ]
  },
  {
   "cell_type": "code",
   "execution_count": 2,
   "id": "7d180bbc",
   "metadata": {},
   "outputs": [],
   "source": [
    "NUM_LABELS = 102\n",
    "BATCH_SIZE = 16\n",
    "\n",
    "# imagenet transforms\n",
    "imagenet_transform = transforms.Compose([\n",
    "   transforms.Resize(size=256, interpolation=transforms.InterpolationMode.BILINEAR, max_size=None, antialias=None),\n",
    "   transforms.CenterCrop(size=(224, 224)),\n",
    "   transforms.ToTensor(),\n",
    "   transforms.Normalize(mean=[0.485, 0.456, 0.406], std=[0.229, 0.224, 0.225])\n",
    "])\n",
    "\n",
    "# datasets\n",
    "train_dataset = torchvision.datasets.Flowers102(\n",
    "    root=\"./data\",\n",
    "    split=\"train\",\n",
    "    transform=imagenet_transform,\n",
    "    download=True\n",
    ")\n",
    "\n",
    "val_dataset = torchvision.datasets.Flowers102(\n",
    "    root=\"./data\",\n",
    "    split=\"val\",\n",
    "    transform=imagenet_transform,\n",
    "    download=True\n",
    ")\n",
    "\n",
    "# dataloaders\n",
    "train_loader = DataLoader(train_dataset, BATCH_SIZE, shuffle=True, pin_memory=True, num_workers=16)\n",
    "val_loader = DataLoader(val_dataset, BATCH_SIZE, shuffle=False, pin_memory=True, num_workers=16)"
   ]
  },
  {
   "cell_type": "markdown",
   "id": "890cca4a",
   "metadata": {},
   "source": [
    "## Step 2: Setup PyTorch Training Loop\n",
    "\n",
    "We will use this training loop below. This is standard PyTorch functionality."
   ]
  },
  {
   "cell_type": "code",
   "execution_count": 3,
   "id": "5f1b878a",
   "metadata": {},
   "outputs": [
    {
     "name": "stdout",
     "output_type": "stream",
     "text": [
      "cuda\n"
     ]
    }
   ],
   "source": [
    "device = \"cuda\" if torch.cuda.is_available() else \"cpu\"\n",
    "print(device)\n",
    "\n",
    "def run_model_one_epoch(model, data_loader, criterion, device, train=False, optimizer=None):\n",
    "    if train:\n",
    "        model.train()\n",
    "    else:\n",
    "        model.eval()\n",
    "\n",
    "    running_loss = 0.0\n",
    "    total_correct = 0\n",
    "    total_predictions = 0\n",
    "\n",
    "    # loop through batches\n",
    "    for step, (inputs, labels) in tqdm(enumerate(data_loader), total=len(data_loader)):\n",
    "        inputs = inputs.to(device)\n",
    "        labels = labels.to(device)\n",
    "\n",
    "        if train:\n",
    "            optimizer.zero_grad()\n",
    "\n",
    "        # compute loss, run backpropogation\n",
    "        outputs = model(inputs)  # model returns logits\n",
    "        loss = criterion(outputs, labels)\n",
    "        if train:\n",
    "            loss.backward()\n",
    "            optimizer.step()\n",
    "\n",
    "        running_loss += loss.item()\n",
    "\n",
    "        # run evaluation\n",
    "        predictions = outputs.argmax(dim=1)\n",
    "        total_correct += torch.sum(predictions == labels).item()\n",
    "        total_predictions += inputs.size(0)\n",
    "\n",
    "    # return loss and evaluation metric\n",
    "    loss = running_loss / (step + 1.0)\n",
    "    accuracy = total_correct / total_predictions\n",
    "    return loss, accuracy"
   ]
  },
  {
   "cell_type": "markdown",
   "id": "b385497a",
   "metadata": {},
   "source": [
    "## **Step 3: Train DenseNet121 on Flowers102**\n",
    "\n",
    "First, we will train a dense version of DenseNet121 on the Flowers dataset."
   ]
  },
  {
   "cell_type": "code",
   "execution_count": 4,
   "id": "4d554578",
   "metadata": {
    "scrolled": true
   },
   "outputs": [],
   "source": [
    "# download pre-trained model, setup classification head\n",
    "model = torchvision.models.densenet121(weights=torchvision.models.DenseNet121_Weights.DEFAULT)\n",
    "model.classifier = torch.nn.Linear(model.classifier.in_features, NUM_LABELS)\n",
    "model.to(device)\n",
    "\n",
    "# setup loss function and optimizer\n",
    "criterion = CrossEntropyLoss()\n",
    "optimizer = Adam(model.parameters(), lr=8e-3) # lr will be override by sparseml"
   ]
  },
  {
   "cell_type": "markdown",
   "id": "eb400dc3",
   "metadata": {
    "scrolled": true
   },
   "source": [
    "Next, we will use SparseML's recipes to set the hyperparameters of training loop. In this case, we will use the following recipe:\n",
    "\n",
    "```yaml\n",
    "# Epoch and Learning-Rate variables\n",
    "num_epochs: 10.0\n",
    "init_lr: 0.0005\n",
    "\n",
    "training_modifiers:\n",
    "  - !EpochRangeModifier\n",
    "    start_epoch: 0.0\n",
    "    end_epoch: eval(num_epochs)\n",
    "\n",
    "  - !LearningRateFunctionModifier\n",
    "    final_lr: 0.0\n",
    "    init_lr: eval(init_lr)\n",
    "    lr_func: cosine\n",
    "    start_epoch: 0.0\n",
    "    end_epoch: eval(num_epochs)\n",
    "```\n",
    "\n",
    "As you can see, the recipe includes an `!EpochRangeModifier` and a `!LearningRateFunctionModifier`. These modifiers simply set the number of epochs to train for and the learning rate schedule. As a result, the final model will be dense."
   ]
  },
  {
   "cell_type": "code",
   "execution_count": 5,
   "id": "5f6a53f1",
   "metadata": {},
   "outputs": [],
   "source": [
    "dense_recipe_path = \"./recipes/densenet-flowers-dense-recipe.yaml\""
   ]
  },
  {
   "cell_type": "code",
   "execution_count": null,
   "id": "8653c9bc",
   "metadata": {},
   "outputs": [],
   "source": [
    "!cat ./recipes/densenet-flowers-dense-recipe.yaml"
   ]
  },
  {
   "cell_type": "markdown",
   "id": "c31aed1b",
   "metadata": {},
   "source": [
    "Next, we use SparseML's `ScheduledModifierManager` to parse and apply the recipe. The `manager.modify` function modifies and wraps the `model` and `optimizer` with the instructions from the recipe. You can use the `model` and `optimizer` just like standard PyTorch objects."
   ]
  },
  {
   "cell_type": "code",
   "execution_count": 6,
   "id": "1749e00d",
   "metadata": {},
   "outputs": [],
   "source": [
    "# create ScheduledModifierManager and Optimizer wrapper\n",
    "manager = ScheduledModifierManager.from_yaml(dense_recipe_path)\n",
    "optimizer = manager.modify(model, optimizer, steps_per_epoch=len(train_loader))"
   ]
  },
  {
   "cell_type": "markdown",
   "id": "ee67c917",
   "metadata": {},
   "source": [
    "Kick off the transfer learning loop. Our run reached ~91.8% validation accuracy after 10 epochs."
   ]
  },
  {
   "cell_type": "code",
   "execution_count": 7,
   "id": "d00d175b",
   "metadata": {
    "scrolled": true
   },
   "outputs": [
    {
     "name": "stdout",
     "output_type": "stream",
     "text": [
      "Running Training Epoch 1/10\n"
     ]
    },
    {
     "data": {
      "application/vnd.jupyter.widget-view+json": {
       "model_id": "e3bff056f89743c3a030bf38186113dd",
       "version_major": 2,
       "version_minor": 0
      },
      "text/plain": [
       "  0%|          | 0/64 [00:00<?, ?it/s]"
      ]
     },
     "metadata": {},
     "output_type": "display_data"
    },
    {
     "name": "stdout",
     "output_type": "stream",
     "text": [
      "Training Epoch: 1/10\n",
      "Training Loss: 3.705597158521414\n",
      "Top 1 Acc: 0.25392156862745097\n",
      "\n",
      "Running Validation Epoch 1/10\n"
     ]
    },
    {
     "data": {
      "application/vnd.jupyter.widget-view+json": {
       "model_id": "b6979449794948349a2ccc8599f9958d",
       "version_major": 2,
       "version_minor": 0
      },
      "text/plain": [
       "  0%|          | 0/64 [00:00<?, ?it/s]"
      ]
     },
     "metadata": {},
     "output_type": "display_data"
    },
    {
     "name": "stdout",
     "output_type": "stream",
     "text": [
      "Validation Epoch: 1/10\n",
      "Val Loss: 2.1234971778467298\n",
      "Top 1 Acc: 0.5637254901960784\n",
      "\n",
      "Running Training Epoch 2/10\n"
     ]
    },
    {
     "data": {
      "application/vnd.jupyter.widget-view+json": {
       "model_id": "6a116d25fa6a45d193d8203737d4ecfb",
       "version_major": 2,
       "version_minor": 0
      },
      "text/plain": [
       "  0%|          | 0/64 [00:00<?, ?it/s]"
      ]
     },
     "metadata": {},
     "output_type": "display_data"
    },
    {
     "name": "stdout",
     "output_type": "stream",
     "text": [
      "Training Epoch: 2/10\n",
      "Training Loss: 1.32985198777169\n",
      "Top 1 Acc: 0.8382352941176471\n",
      "\n",
      "Running Validation Epoch 2/10\n"
     ]
    },
    {
     "data": {
      "application/vnd.jupyter.widget-view+json": {
       "model_id": "1181f510948745b69dbd75ff476135c8",
       "version_major": 2,
       "version_minor": 0
      },
      "text/plain": [
       "  0%|          | 0/64 [00:00<?, ?it/s]"
      ]
     },
     "metadata": {},
     "output_type": "display_data"
    },
    {
     "name": "stdout",
     "output_type": "stream",
     "text": [
      "Validation Epoch: 2/10\n",
      "Val Loss: 0.956481144297868\n",
      "Top 1 Acc: 0.8303921568627451\n",
      "\n",
      "Running Training Epoch 3/10\n"
     ]
    },
    {
     "data": {
      "application/vnd.jupyter.widget-view+json": {
       "model_id": "c130a002f8944a3ea6a3a4c1544c3c7a",
       "version_major": 2,
       "version_minor": 0
      },
      "text/plain": [
       "  0%|          | 0/64 [00:00<?, ?it/s]"
      ]
     },
     "metadata": {},
     "output_type": "display_data"
    },
    {
     "name": "stdout",
     "output_type": "stream",
     "text": [
      "Training Epoch: 3/10\n",
      "Training Loss: 0.4278648835606873\n",
      "Top 1 Acc: 0.9803921568627451\n",
      "\n",
      "Running Validation Epoch 3/10\n"
     ]
    },
    {
     "data": {
      "application/vnd.jupyter.widget-view+json": {
       "model_id": "a5cc3447dac84178b3800c1a30325e23",
       "version_major": 2,
       "version_minor": 0
      },
      "text/plain": [
       "  0%|          | 0/64 [00:00<?, ?it/s]"
      ]
     },
     "metadata": {},
     "output_type": "display_data"
    },
    {
     "name": "stdout",
     "output_type": "stream",
     "text": [
      "Validation Epoch: 3/10\n",
      "Val Loss: 0.6528619016171433\n",
      "Top 1 Acc: 0.8578431372549019\n",
      "\n",
      "Running Training Epoch 4/10\n"
     ]
    },
    {
     "data": {
      "application/vnd.jupyter.widget-view+json": {
       "model_id": "d68ce2162a92413d9a74ae4b8c200a95",
       "version_major": 2,
       "version_minor": 0
      },
      "text/plain": [
       "  0%|          | 0/64 [00:00<?, ?it/s]"
      ]
     },
     "metadata": {},
     "output_type": "display_data"
    },
    {
     "name": "stdout",
     "output_type": "stream",
     "text": [
      "Training Epoch: 4/10\n",
      "Training Loss: 0.15628680447116494\n",
      "Top 1 Acc: 0.9970588235294118\n",
      "\n",
      "Running Validation Epoch 4/10\n"
     ]
    },
    {
     "data": {
      "application/vnd.jupyter.widget-view+json": {
       "model_id": "f527bc8cfa6c4222b5703eeeaa2c07e9",
       "version_major": 2,
       "version_minor": 0
      },
      "text/plain": [
       "  0%|          | 0/64 [00:00<?, ?it/s]"
      ]
     },
     "metadata": {},
     "output_type": "display_data"
    },
    {
     "name": "stdout",
     "output_type": "stream",
     "text": [
      "Validation Epoch: 4/10\n",
      "Val Loss: 0.5102186386066023\n",
      "Top 1 Acc: 0.9049019607843137\n",
      "\n",
      "Running Training Epoch 5/10\n"
     ]
    },
    {
     "data": {
      "application/vnd.jupyter.widget-view+json": {
       "model_id": "d60459fa3c46401baa940ff07489ee04",
       "version_major": 2,
       "version_minor": 0
      },
      "text/plain": [
       "  0%|          | 0/64 [00:00<?, ?it/s]"
      ]
     },
     "metadata": {},
     "output_type": "display_data"
    },
    {
     "name": "stdout",
     "output_type": "stream",
     "text": [
      "Training Epoch: 5/10\n",
      "Training Loss: 0.060788551229052246\n",
      "Top 1 Acc: 1.0\n",
      "\n",
      "Running Validation Epoch 5/10\n"
     ]
    },
    {
     "data": {
      "application/vnd.jupyter.widget-view+json": {
       "model_id": "f2b5ab2844704170b08ffe5857d3bf0d",
       "version_major": 2,
       "version_minor": 0
      },
      "text/plain": [
       "  0%|          | 0/64 [00:00<?, ?it/s]"
      ]
     },
     "metadata": {},
     "output_type": "display_data"
    },
    {
     "name": "stdout",
     "output_type": "stream",
     "text": [
      "Validation Epoch: 5/10\n",
      "Val Loss: 0.42239774897461757\n",
      "Top 1 Acc: 0.9107843137254902\n",
      "\n",
      "Running Training Epoch 6/10\n"
     ]
    },
    {
     "data": {
      "application/vnd.jupyter.widget-view+json": {
       "model_id": "65c3b9cd9e844ee096d6152cc07146ae",
       "version_major": 2,
       "version_minor": 0
      },
      "text/plain": [
       "  0%|          | 0/64 [00:00<?, ?it/s]"
      ]
     },
     "metadata": {},
     "output_type": "display_data"
    },
    {
     "name": "stdout",
     "output_type": "stream",
     "text": [
      "Training Epoch: 6/10\n",
      "Training Loss: 0.0473741386376787\n",
      "Top 1 Acc: 0.9990196078431373\n",
      "\n",
      "Running Validation Epoch 6/10\n"
     ]
    },
    {
     "data": {
      "application/vnd.jupyter.widget-view+json": {
       "model_id": "9ee91c900ebb419c8da0edb371d73dda",
       "version_major": 2,
       "version_minor": 0
      },
      "text/plain": [
       "  0%|          | 0/64 [00:00<?, ?it/s]"
      ]
     },
     "metadata": {},
     "output_type": "display_data"
    },
    {
     "name": "stdout",
     "output_type": "stream",
     "text": [
      "Validation Epoch: 6/10\n",
      "Val Loss: 0.40489213640103117\n",
      "Top 1 Acc: 0.9098039215686274\n",
      "\n",
      "Running Training Epoch 7/10\n"
     ]
    },
    {
     "data": {
      "application/vnd.jupyter.widget-view+json": {
       "model_id": "c29b7b84bbaa42629bd39eb7b233f111",
       "version_major": 2,
       "version_minor": 0
      },
      "text/plain": [
       "  0%|          | 0/64 [00:00<?, ?it/s]"
      ]
     },
     "metadata": {},
     "output_type": "display_data"
    },
    {
     "name": "stdout",
     "output_type": "stream",
     "text": [
      "Training Epoch: 7/10\n",
      "Training Loss: 0.03090776341559831\n",
      "Top 1 Acc: 1.0\n",
      "\n",
      "Running Validation Epoch 7/10\n"
     ]
    },
    {
     "data": {
      "application/vnd.jupyter.widget-view+json": {
       "model_id": "a8f37fdd27b647f0a8b00a987906e355",
       "version_major": 2,
       "version_minor": 0
      },
      "text/plain": [
       "  0%|          | 0/64 [00:00<?, ?it/s]"
      ]
     },
     "metadata": {},
     "output_type": "display_data"
    },
    {
     "name": "stdout",
     "output_type": "stream",
     "text": [
      "Validation Epoch: 7/10\n",
      "Val Loss: 0.39284458926704247\n",
      "Top 1 Acc: 0.9166666666666666\n",
      "\n",
      "Running Training Epoch 8/10\n"
     ]
    },
    {
     "data": {
      "application/vnd.jupyter.widget-view+json": {
       "model_id": "f09644d377b843d6969b52284d3b80f4",
       "version_major": 2,
       "version_minor": 0
      },
      "text/plain": [
       "  0%|          | 0/64 [00:00<?, ?it/s]"
      ]
     },
     "metadata": {},
     "output_type": "display_data"
    },
    {
     "name": "stdout",
     "output_type": "stream",
     "text": [
      "Training Epoch: 8/10\n",
      "Training Loss: 0.027710435475455597\n",
      "Top 1 Acc: 1.0\n",
      "\n",
      "Running Validation Epoch 8/10\n"
     ]
    },
    {
     "data": {
      "application/vnd.jupyter.widget-view+json": {
       "model_id": "1f0d5025929b4cc2837a4e4b27e969ad",
       "version_major": 2,
       "version_minor": 0
      },
      "text/plain": [
       "  0%|          | 0/64 [00:00<?, ?it/s]"
      ]
     },
     "metadata": {},
     "output_type": "display_data"
    },
    {
     "name": "stdout",
     "output_type": "stream",
     "text": [
      "Validation Epoch: 8/10\n",
      "Val Loss: 0.3832304854586255\n",
      "Top 1 Acc: 0.9176470588235294\n",
      "\n",
      "Running Training Epoch 9/10\n"
     ]
    },
    {
     "data": {
      "application/vnd.jupyter.widget-view+json": {
       "model_id": "81aee6700e444b8cb6cb99d31c69980a",
       "version_major": 2,
       "version_minor": 0
      },
      "text/plain": [
       "  0%|          | 0/64 [00:00<?, ?it/s]"
      ]
     },
     "metadata": {},
     "output_type": "display_data"
    },
    {
     "name": "stdout",
     "output_type": "stream",
     "text": [
      "Training Epoch: 9/10\n",
      "Training Loss: 0.026527045309194364\n",
      "Top 1 Acc: 1.0\n",
      "\n",
      "Running Validation Epoch 9/10\n"
     ]
    },
    {
     "data": {
      "application/vnd.jupyter.widget-view+json": {
       "model_id": "c0e66e476ac049f487204671bb3c41ce",
       "version_major": 2,
       "version_minor": 0
      },
      "text/plain": [
       "  0%|          | 0/64 [00:00<?, ?it/s]"
      ]
     },
     "metadata": {},
     "output_type": "display_data"
    },
    {
     "name": "stdout",
     "output_type": "stream",
     "text": [
      "Validation Epoch: 9/10\n",
      "Val Loss: 0.36842548519780394\n",
      "Top 1 Acc: 0.9186274509803921\n",
      "\n",
      "Running Training Epoch 10/10\n"
     ]
    },
    {
     "data": {
      "application/vnd.jupyter.widget-view+json": {
       "model_id": "756a007a3b02480b8872b65fb88277ab",
       "version_major": 2,
       "version_minor": 0
      },
      "text/plain": [
       "  0%|          | 0/64 [00:00<?, ?it/s]"
      ]
     },
     "metadata": {},
     "output_type": "display_data"
    },
    {
     "name": "stdout",
     "output_type": "stream",
     "text": [
      "Training Epoch: 10/10\n",
      "Training Loss: 0.025542080067680217\n",
      "Top 1 Acc: 1.0\n",
      "\n",
      "Running Validation Epoch 10/10\n"
     ]
    },
    {
     "data": {
      "application/vnd.jupyter.widget-view+json": {
       "model_id": "affa32f0824e4f77a830bf1392c8b3cb",
       "version_major": 2,
       "version_minor": 0
      },
      "text/plain": [
       "  0%|          | 0/64 [00:00<?, ?it/s]"
      ]
     },
     "metadata": {},
     "output_type": "display_data"
    },
    {
     "name": "stdout",
     "output_type": "stream",
     "text": [
      "Validation Epoch: 10/10\n",
      "Val Loss: 0.3675568748876685\n",
      "Top 1 Acc: 0.9186274509803921\n",
      "\n"
     ]
    }
   ],
   "source": [
    "epoch = 0\n",
    "for epoch in range(manager.max_epochs):\n",
    "    # run training loop\n",
    "    epoch_name = f\"{epoch + 1}/{manager.max_epochs}\"\n",
    "    \n",
    "    print(f\"Running Training Epoch {epoch_name}\")\n",
    "    train_loss, train_acc = run_model_one_epoch(model, train_loader, criterion, device, train=True, optimizer=optimizer)\n",
    "    print(f\"Training Epoch: {epoch_name}\\nTraining Loss: {train_loss}\\nTop 1 Acc: {train_acc}\\n\")\n",
    "\n",
    "    # run validation loop\n",
    "    print(f\"Running Validation Epoch {epoch_name}\")\n",
    "    val_loss, val_acc = run_model_one_epoch(model, val_loader, criterion, device)\n",
    "    print(f\"Validation Epoch: {epoch_name}\\nVal Loss: {val_loss}\\nTop 1 Acc: {val_acc}\\n\")\n",
    "\n",
    "# clean up\n",
    "manager.finalize(model)"
   ]
  },
  {
   "cell_type": "markdown",
   "id": "1eb3d14e",
   "metadata": {},
   "source": [
    "Export the model in case we want to reload in the future, so we do not have to rerun."
   ]
  },
  {
   "cell_type": "code",
   "execution_count": null,
   "id": "11fa4cf2",
   "metadata": {},
   "outputs": [],
   "source": [
    "save_dir = \"densenet-models\"\n",
    "exporter = ModuleExporter(model, output_dir=save_dir)\n",
    "exporter.export_pytorch(name=\"dense-model.pth\")\n",
    "exporter.export_onnx(torch.randn(1, 3, 224, 224), name=\"dense-model.onnx\", convert_qat=True)"
   ]
  },
  {
   "cell_type": "code",
   "execution_count": 16,
   "id": "4532442e",
   "metadata": {},
   "outputs": [],
   "source": [
    "torch.cuda.empty_cache()"
   ]
  },
  {
   "cell_type": "markdown",
   "id": "8a7d6309",
   "metadata": {},
   "source": [
    "## Step 4: Prune The Model\n",
    "\n",
    "With a model trained on Flowers, we are now ready to apply the GMP algorithm to prune the model. The GMP algorithm is an interative pruning algorithm. At the end of each epoch, we identify the lowest magnitude weights (those closest to 0) and remove them from the network starting from an initial level of sparsity until a final level of sparsity. The remaining nonzero weights are then fine-tuned onto training dataset."
   ]
  },
  {
   "cell_type": "code",
   "execution_count": 17,
   "id": "8447d074",
   "metadata": {},
   "outputs": [],
   "source": [
    "# first, load the trained model from Part 3\n",
    "checkpoint = torch.load(\"./densenet-models/training/dense-model.pth\")\n",
    "model = torchvision.models.densenet121()\n",
    "model.classifier = torch.nn.Linear(model.classifier.in_features, NUM_LABELS)\n",
    "model.load_state_dict(checkpoint['state_dict'])\n",
    "model.to(device)\n",
    "\n",
    "# setup loss function and optimizer, LR will be overriden by sparseml\n",
    "criterion = CrossEntropyLoss()\n",
    "optimizer = Adam(model.parameters(), lr=8e-3)"
   ]
  },
  {
   "cell_type": "markdown",
   "id": "7a05d884",
   "metadata": {},
   "source": [
    "Next, we need to create a SparseML recipe which includes the GMP algorithm. The `!GlobalMagnitudePruningModifier` modifier instructs SparseML to apply the GMP algorithm at a global level (pruning the lowest magnitude weights across all layers).\n",
    "\n",
    "Firstly, we need to decide identify which parameters of the model to apply the GMP algorithm to. We can use the `get_prunable_layers` function to inspect:"
   ]
  },
  {
   "cell_type": "code",
   "execution_count": 18,
   "id": "d367905a",
   "metadata": {
    "scrolled": true
   },
   "outputs": [
    {
     "name": "stdout",
     "output_type": "stream",
     "text": [
      "features.conv0\n",
      "features.denseblock1.denselayer1.conv1\n",
      "features.denseblock1.denselayer1.conv2\n",
      "features.denseblock1.denselayer2.conv1\n",
      "features.denseblock1.denselayer2.conv2\n",
      "features.denseblock1.denselayer3.conv1\n",
      "features.denseblock1.denselayer3.conv2\n",
      "features.denseblock1.denselayer4.conv1\n",
      "features.denseblock1.denselayer4.conv2\n",
      "features.denseblock1.denselayer5.conv1\n",
      "features.denseblock1.denselayer5.conv2\n",
      "features.denseblock1.denselayer6.conv1\n",
      "features.denseblock1.denselayer6.conv2\n",
      "features.transition1.conv\n",
      "features.denseblock2.denselayer1.conv1\n",
      "features.denseblock2.denselayer1.conv2\n",
      "features.denseblock2.denselayer2.conv1\n",
      "features.denseblock2.denselayer2.conv2\n",
      "features.denseblock2.denselayer3.conv1\n",
      "features.denseblock2.denselayer3.conv2\n",
      "features.denseblock2.denselayer4.conv1\n",
      "features.denseblock2.denselayer4.conv2\n",
      "features.denseblock2.denselayer5.conv1\n",
      "features.denseblock2.denselayer5.conv2\n",
      "features.denseblock2.denselayer6.conv1\n",
      "features.denseblock2.denselayer6.conv2\n",
      "features.denseblock2.denselayer7.conv1\n",
      "features.denseblock2.denselayer7.conv2\n",
      "features.denseblock2.denselayer8.conv1\n",
      "features.denseblock2.denselayer8.conv2\n",
      "features.denseblock2.denselayer9.conv1\n",
      "features.denseblock2.denselayer9.conv2\n",
      "features.denseblock2.denselayer10.conv1\n",
      "features.denseblock2.denselayer10.conv2\n",
      "features.denseblock2.denselayer11.conv1\n",
      "features.denseblock2.denselayer11.conv2\n",
      "features.denseblock2.denselayer12.conv1\n",
      "features.denseblock2.denselayer12.conv2\n",
      "features.transition2.conv\n",
      "features.denseblock3.denselayer1.conv1\n",
      "features.denseblock3.denselayer1.conv2\n",
      "features.denseblock3.denselayer2.conv1\n",
      "features.denseblock3.denselayer2.conv2\n",
      "features.denseblock3.denselayer3.conv1\n",
      "features.denseblock3.denselayer3.conv2\n",
      "features.denseblock3.denselayer4.conv1\n",
      "features.denseblock3.denselayer4.conv2\n",
      "features.denseblock3.denselayer5.conv1\n",
      "features.denseblock3.denselayer5.conv2\n",
      "features.denseblock3.denselayer6.conv1\n",
      "features.denseblock3.denselayer6.conv2\n",
      "features.denseblock3.denselayer7.conv1\n",
      "features.denseblock3.denselayer7.conv2\n",
      "features.denseblock3.denselayer8.conv1\n",
      "features.denseblock3.denselayer8.conv2\n",
      "features.denseblock3.denselayer9.conv1\n",
      "features.denseblock3.denselayer9.conv2\n",
      "features.denseblock3.denselayer10.conv1\n",
      "features.denseblock3.denselayer10.conv2\n",
      "features.denseblock3.denselayer11.conv1\n",
      "features.denseblock3.denselayer11.conv2\n",
      "features.denseblock3.denselayer12.conv1\n",
      "features.denseblock3.denselayer12.conv2\n",
      "features.denseblock3.denselayer13.conv1\n",
      "features.denseblock3.denselayer13.conv2\n",
      "features.denseblock3.denselayer14.conv1\n",
      "features.denseblock3.denselayer14.conv2\n",
      "features.denseblock3.denselayer15.conv1\n",
      "features.denseblock3.denselayer15.conv2\n",
      "features.denseblock3.denselayer16.conv1\n",
      "features.denseblock3.denselayer16.conv2\n",
      "features.denseblock3.denselayer17.conv1\n",
      "features.denseblock3.denselayer17.conv2\n",
      "features.denseblock3.denselayer18.conv1\n",
      "features.denseblock3.denselayer18.conv2\n",
      "features.denseblock3.denselayer19.conv1\n",
      "features.denseblock3.denselayer19.conv2\n",
      "features.denseblock3.denselayer20.conv1\n",
      "features.denseblock3.denselayer20.conv2\n",
      "features.denseblock3.denselayer21.conv1\n",
      "features.denseblock3.denselayer21.conv2\n",
      "features.denseblock3.denselayer22.conv1\n",
      "features.denseblock3.denselayer22.conv2\n",
      "features.denseblock3.denselayer23.conv1\n",
      "features.denseblock3.denselayer23.conv2\n",
      "features.denseblock3.denselayer24.conv1\n",
      "features.denseblock3.denselayer24.conv2\n",
      "features.transition3.conv\n",
      "features.denseblock4.denselayer1.conv1\n",
      "features.denseblock4.denselayer1.conv2\n",
      "features.denseblock4.denselayer2.conv1\n",
      "features.denseblock4.denselayer2.conv2\n",
      "features.denseblock4.denselayer3.conv1\n",
      "features.denseblock4.denselayer3.conv2\n",
      "features.denseblock4.denselayer4.conv1\n",
      "features.denseblock4.denselayer4.conv2\n",
      "features.denseblock4.denselayer5.conv1\n",
      "features.denseblock4.denselayer5.conv2\n",
      "features.denseblock4.denselayer6.conv1\n",
      "features.denseblock4.denselayer6.conv2\n",
      "features.denseblock4.denselayer7.conv1\n",
      "features.denseblock4.denselayer7.conv2\n",
      "features.denseblock4.denselayer8.conv1\n",
      "features.denseblock4.denselayer8.conv2\n",
      "features.denseblock4.denselayer9.conv1\n",
      "features.denseblock4.denselayer9.conv2\n",
      "features.denseblock4.denselayer10.conv1\n",
      "features.denseblock4.denselayer10.conv2\n",
      "features.denseblock4.denselayer11.conv1\n",
      "features.denseblock4.denselayer11.conv2\n",
      "features.denseblock4.denselayer12.conv1\n",
      "features.denseblock4.denselayer12.conv2\n",
      "features.denseblock4.denselayer13.conv1\n",
      "features.denseblock4.denselayer13.conv2\n",
      "features.denseblock4.denselayer14.conv1\n",
      "features.denseblock4.denselayer14.conv2\n",
      "features.denseblock4.denselayer15.conv1\n",
      "features.denseblock4.denselayer15.conv2\n",
      "features.denseblock4.denselayer16.conv1\n",
      "features.denseblock4.denselayer16.conv2\n",
      "classifier\n"
     ]
    }
   ],
   "source": [
    "# print parameters\n",
    "for (name, layer) in get_prunable_layers(model):\n",
    "    print(f\"{name}\")"
   ]
  },
  {
   "cell_type": "markdown",
   "id": "322fa136",
   "metadata": {},
   "source": [
    "We will apply pruning to each of the `convs` and exclude the `classifier` (which is the final projection head). Fortunately, SparseML allows us to pass regexes to identify layers in the network.\n",
    "\n",
    "Here is what the recipe looks like:\n",
    "\n",
    "```yaml\n",
    "# Epoch and Learning-Rate variables\n",
    "num_epochs: 13.0\n",
    "pruning_epochs: 10.0\n",
    "init_lr: 0.0005\n",
    "final_lr: 0.0001\n",
    "inter_func: cubic\n",
    "mask_type: unstructured\n",
    "\n",
    "training_modifiers:\n",
    "  - !EpochRangeModifier\n",
    "    start_epoch: 0.0\n",
    "    end_epoch: eval(num_epochs)\n",
    "\n",
    "  - !LearningRateFunctionModifier\n",
    "    final_lr: eval(final_lr)\n",
    "    init_lr: eval(init_lr)\n",
    "    lr_func: cosine\n",
    "    start_epoch: 0.0\n",
    "    end_epoch: eval(pruning_epochs)\n",
    "    \n",
    "  - !LearningRateFunctionModifier\n",
    "    final_lr: eval(final_lr)\n",
    "    init_lr: eval(init_lr)\n",
    "    lr_func: cosine\n",
    "    start_epoch: eval(pruning_epochs)\n",
    "    end_epoch: eval(num_epochs)\n",
    "\n",
    "# Pruning\n",
    "pruning_modifiers:\n",
    "  - !GlobalMagnitudePruningModifier\n",
    "    init_sparsity: 0.05\n",
    "    final_sparsity: 0.9\n",
    "    start_epoch: 0.0\n",
    "    end_epoch: eval(pruning_epochs)\n",
    "    update_frequency: 0.5\n",
    "    params: \n",
    "        - 'features.conv0.weight'\n",
    "        - 're:features.denseblock1.*.conv1.weight'\n",
    "        - 're:features.denseblock1.*.conv2.weight'\n",
    "        - 're:features.transition1.conv.weight'\n",
    "        - 're:features.denseblock2.*.conv1.weight'\n",
    "        - 're:features.denseblock2.*.conv2.weight'\n",
    "        - 're:features.transition2.conv.weight'\n",
    "        - 're:features.denseblock3.*.conv1.weight'\n",
    "        - 're:features.denseblock3.*.conv2.weight'\n",
    "        - 're:features.transition3.conv.weight'\n",
    "        - 're:features.denseblock4.*.conv1.weight'\n",
    "        - 're:features.denseblock4.*.conv2.weight'\n",
    "    leave_enabled: True\n",
    "    inter_func: eval(inter_func)\n",
    "    mask_type: eval(mask_type)\n",
    "```\n",
    "\n",
    "This recipe specifies that we will run the GMP algorithm for the first 10 epochs. We start at an `init_sparsity` level of 5% and gradually increase sparsity to a `final_sparsity` level of 90% following a `cubic` curve across each of the `convs` in the network. The pruning is applied in an `unstructured` manner, meaning that any weight can be pruned in any pattern.\n",
    "\n",
    "Over the final 3 epochs, we fine-tune the 90% pruned model further. Since we set `leave_enabled=True` the sparsity level will be maintained as the fine-tuning occurs."
   ]
  },
  {
   "cell_type": "code",
   "execution_count": 19,
   "id": "b8518b39",
   "metadata": {},
   "outputs": [],
   "source": [
    "pruning_recipe_path = \"./recipes/densenet-flowers-pruning-recipe.yaml\""
   ]
  },
  {
   "cell_type": "code",
   "execution_count": null,
   "id": "9b17fc31",
   "metadata": {
    "scrolled": false
   },
   "outputs": [],
   "source": [
    "!cat ./recipes/densenet-flowers-pruning-recipe.yaml"
   ]
  },
  {
   "cell_type": "code",
   "execution_count": 22,
   "id": "68646bc7",
   "metadata": {},
   "outputs": [],
   "source": [
    "# create ScheduledModifierManager and Optimizer wrapper\n",
    "manager = ScheduledModifierManager.from_yaml(pruning_recipe_path)\n",
    "logger = TensorBoardLogger(log_path=\"./tensorboard_outputs/densenet/pruning-run\")\n",
    "optimizer = manager.modify(model, optimizer, loggers=[logger], steps_per_epoch=len(train_loader))"
   ]
  },
  {
   "cell_type": "markdown",
   "id": "da0a5909",
   "metadata": {},
   "source": [
    "Next, kick off the GMP training loop. \n",
    "\n",
    "As you can see, we use the wrapped `optimizer` and `model` in the same way as above. SparseML parsed the recipe and updated the `optimizer` with the logic of GMP algorithm from the recipe. This allows you to use the `optimizer` and `model` as usual, with all of the pruning-related logic handled by SparseML.\n",
    "\n",
    "Our 90% pruned model reaches ~91.8% validation accuracy (vs ~91.9% for the dense model)."
   ]
  },
  {
   "cell_type": "code",
   "execution_count": 23,
   "id": "601c8c21",
   "metadata": {
    "scrolled": true
   },
   "outputs": [
    {
     "name": "stdout",
     "output_type": "stream",
     "text": [
      "Running Training Epoch 1/13\n"
     ]
    },
    {
     "data": {
      "application/vnd.jupyter.widget-view+json": {
       "model_id": "5790f1d7b4ae4329af773cc7a7537fe2",
       "version_major": 2,
       "version_minor": 0
      },
      "text/plain": [
       "  0%|          | 0/64 [00:00<?, ?it/s]"
      ]
     },
     "metadata": {},
     "output_type": "display_data"
    },
    {
     "name": "stdout",
     "output_type": "stream",
     "text": [
      "Training Epoch: 1/13\n",
      "Training Loss: 0.22910855180816725\n",
      "Top 1 Acc: 0.9735294117647059\n",
      "\n",
      "Running Validation Epoch 1/13\n"
     ]
    },
    {
     "data": {
      "application/vnd.jupyter.widget-view+json": {
       "model_id": "bb1be77737da4057a7553cc3546c5092",
       "version_major": 2,
       "version_minor": 0
      },
      "text/plain": [
       "  0%|          | 0/64 [00:00<?, ?it/s]"
      ]
     },
     "metadata": {},
     "output_type": "display_data"
    },
    {
     "name": "stdout",
     "output_type": "stream",
     "text": [
      "Validation Epoch: 1/13\n",
      "Val Loss: 0.9752587381517515\n",
      "Top 1 Acc: 0.7333333333333333\n",
      "\n",
      "Running Training Epoch 2/13\n"
     ]
    },
    {
     "data": {
      "application/vnd.jupyter.widget-view+json": {
       "model_id": "b7c7a74efde14715a4a7148cbc748a67",
       "version_major": 2,
       "version_minor": 0
      },
      "text/plain": [
       "  0%|          | 0/64 [00:00<?, ?it/s]"
      ]
     },
     "metadata": {},
     "output_type": "display_data"
    },
    {
     "name": "stdout",
     "output_type": "stream",
     "text": [
      "Training Epoch: 2/13\n",
      "Training Loss: 0.1926842465181835\n",
      "Top 1 Acc: 0.9676470588235294\n",
      "\n",
      "Running Validation Epoch 2/13\n"
     ]
    },
    {
     "data": {
      "application/vnd.jupyter.widget-view+json": {
       "model_id": "6b841d8f660e415781a589f4c2537c6c",
       "version_major": 2,
       "version_minor": 0
      },
      "text/plain": [
       "  0%|          | 0/64 [00:00<?, ?it/s]"
      ]
     },
     "metadata": {},
     "output_type": "display_data"
    },
    {
     "name": "stdout",
     "output_type": "stream",
     "text": [
      "Validation Epoch: 2/13\n",
      "Val Loss: 0.5537524847895838\n",
      "Top 1 Acc: 0.85\n",
      "\n",
      "Running Training Epoch 3/13\n"
     ]
    },
    {
     "data": {
      "application/vnd.jupyter.widget-view+json": {
       "model_id": "0b04f316fb1b480bb9e53ba6745aca99",
       "version_major": 2,
       "version_minor": 0
      },
      "text/plain": [
       "  0%|          | 0/64 [00:00<?, ?it/s]"
      ]
     },
     "metadata": {},
     "output_type": "display_data"
    },
    {
     "name": "stdout",
     "output_type": "stream",
     "text": [
      "Training Epoch: 3/13\n",
      "Training Loss: 0.0884120583650656\n",
      "Top 1 Acc: 0.9882352941176471\n",
      "\n",
      "Running Validation Epoch 3/13\n"
     ]
    },
    {
     "data": {
      "application/vnd.jupyter.widget-view+json": {
       "model_id": "4db527bfb864464a818217a04dc6b9c3",
       "version_major": 2,
       "version_minor": 0
      },
      "text/plain": [
       "  0%|          | 0/64 [00:00<?, ?it/s]"
      ]
     },
     "metadata": {},
     "output_type": "display_data"
    },
    {
     "name": "stdout",
     "output_type": "stream",
     "text": [
      "Validation Epoch: 3/13\n",
      "Val Loss: 0.458682878066611\n",
      "Top 1 Acc: 0.8764705882352941\n",
      "\n",
      "Running Training Epoch 4/13\n"
     ]
    },
    {
     "data": {
      "application/vnd.jupyter.widget-view+json": {
       "model_id": "9715e9c734da4f598febbe6f6115f3f4",
       "version_major": 2,
       "version_minor": 0
      },
      "text/plain": [
       "  0%|          | 0/64 [00:00<?, ?it/s]"
      ]
     },
     "metadata": {},
     "output_type": "display_data"
    },
    {
     "name": "stdout",
     "output_type": "stream",
     "text": [
      "Training Epoch: 4/13\n",
      "Training Loss: 0.07008300906454679\n",
      "Top 1 Acc: 0.9941176470588236\n",
      "\n",
      "Running Validation Epoch 4/13\n"
     ]
    },
    {
     "data": {
      "application/vnd.jupyter.widget-view+json": {
       "model_id": "10fca0f38b4d486eb37fbe85151eae00",
       "version_major": 2,
       "version_minor": 0
      },
      "text/plain": [
       "  0%|          | 0/64 [00:00<?, ?it/s]"
      ]
     },
     "metadata": {},
     "output_type": "display_data"
    },
    {
     "name": "stdout",
     "output_type": "stream",
     "text": [
      "Validation Epoch: 4/13\n",
      "Val Loss: 0.4294259559828788\n",
      "Top 1 Acc: 0.8872549019607843\n",
      "\n",
      "Running Training Epoch 5/13\n"
     ]
    },
    {
     "data": {
      "application/vnd.jupyter.widget-view+json": {
       "model_id": "50143e51efae42bdb8e27f2a103f187c",
       "version_major": 2,
       "version_minor": 0
      },
      "text/plain": [
       "  0%|          | 0/64 [00:00<?, ?it/s]"
      ]
     },
     "metadata": {},
     "output_type": "display_data"
    },
    {
     "name": "stdout",
     "output_type": "stream",
     "text": [
      "Training Epoch: 5/13\n",
      "Training Loss: 0.058840728845098056\n",
      "Top 1 Acc: 0.9941176470588236\n",
      "\n",
      "Running Validation Epoch 5/13\n"
     ]
    },
    {
     "data": {
      "application/vnd.jupyter.widget-view+json": {
       "model_id": "612376311bfd4f47805fd0a943d5da8e",
       "version_major": 2,
       "version_minor": 0
      },
      "text/plain": [
       "  0%|          | 0/64 [00:00<?, ?it/s]"
      ]
     },
     "metadata": {},
     "output_type": "display_data"
    },
    {
     "name": "stdout",
     "output_type": "stream",
     "text": [
      "Validation Epoch: 5/13\n",
      "Val Loss: 0.4169776111084502\n",
      "Top 1 Acc: 0.8970588235294118\n",
      "\n",
      "Running Training Epoch 6/13\n"
     ]
    },
    {
     "data": {
      "application/vnd.jupyter.widget-view+json": {
       "model_id": "c2b54036b759447a9f11b1d38b85be1d",
       "version_major": 2,
       "version_minor": 0
      },
      "text/plain": [
       "  0%|          | 0/64 [00:00<?, ?it/s]"
      ]
     },
     "metadata": {},
     "output_type": "display_data"
    },
    {
     "name": "stdout",
     "output_type": "stream",
     "text": [
      "Training Epoch: 6/13\n",
      "Training Loss: 0.06827072701707948\n",
      "Top 1 Acc: 0.9931372549019608\n",
      "\n",
      "Running Validation Epoch 6/13\n"
     ]
    },
    {
     "data": {
      "application/vnd.jupyter.widget-view+json": {
       "model_id": "1b944f8a61c241df9c9b81cd97fda4e3",
       "version_major": 2,
       "version_minor": 0
      },
      "text/plain": [
       "  0%|          | 0/64 [00:00<?, ?it/s]"
      ]
     },
     "metadata": {},
     "output_type": "display_data"
    },
    {
     "name": "stdout",
     "output_type": "stream",
     "text": [
      "Validation Epoch: 6/13\n",
      "Val Loss: 0.4382545033295173\n",
      "Top 1 Acc: 0.8921568627450981\n",
      "\n",
      "Running Training Epoch 7/13\n"
     ]
    },
    {
     "data": {
      "application/vnd.jupyter.widget-view+json": {
       "model_id": "637f8d0ce14943cabdab66efe3755b21",
       "version_major": 2,
       "version_minor": 0
      },
      "text/plain": [
       "  0%|          | 0/64 [00:00<?, ?it/s]"
      ]
     },
     "metadata": {},
     "output_type": "display_data"
    },
    {
     "name": "stdout",
     "output_type": "stream",
     "text": [
      "Training Epoch: 7/13\n",
      "Training Loss: 0.07268102490343153\n",
      "Top 1 Acc: 0.9921568627450981\n",
      "\n",
      "Running Validation Epoch 7/13\n"
     ]
    },
    {
     "data": {
      "application/vnd.jupyter.widget-view+json": {
       "model_id": "e80a8bd36ef14a20983353949775e5a4",
       "version_major": 2,
       "version_minor": 0
      },
      "text/plain": [
       "  0%|          | 0/64 [00:00<?, ?it/s]"
      ]
     },
     "metadata": {},
     "output_type": "display_data"
    },
    {
     "name": "stdout",
     "output_type": "stream",
     "text": [
      "Validation Epoch: 7/13\n",
      "Val Loss: 0.4186342091416009\n",
      "Top 1 Acc: 0.8941176470588236\n",
      "\n",
      "Running Training Epoch 8/13\n"
     ]
    },
    {
     "data": {
      "application/vnd.jupyter.widget-view+json": {
       "model_id": "ef52b8ed50b746409cfe942bf1043cdd",
       "version_major": 2,
       "version_minor": 0
      },
      "text/plain": [
       "  0%|          | 0/64 [00:00<?, ?it/s]"
      ]
     },
     "metadata": {},
     "output_type": "display_data"
    },
    {
     "name": "stdout",
     "output_type": "stream",
     "text": [
      "Training Epoch: 8/13\n",
      "Training Loss: 0.062260200167656876\n",
      "Top 1 Acc: 0.9950980392156863\n",
      "\n",
      "Running Validation Epoch 8/13\n"
     ]
    },
    {
     "data": {
      "application/vnd.jupyter.widget-view+json": {
       "model_id": "3998fd77d6ae4769b9e829f6b7303a75",
       "version_major": 2,
       "version_minor": 0
      },
      "text/plain": [
       "  0%|          | 0/64 [00:00<?, ?it/s]"
      ]
     },
     "metadata": {},
     "output_type": "display_data"
    },
    {
     "name": "stdout",
     "output_type": "stream",
     "text": [
      "Validation Epoch: 8/13\n",
      "Val Loss: 0.4408616948639974\n",
      "Top 1 Acc: 0.8872549019607843\n",
      "\n",
      "Running Training Epoch 9/13\n"
     ]
    },
    {
     "data": {
      "application/vnd.jupyter.widget-view+json": {
       "model_id": "ec575690c5074b558e9ca9cc9b00b91c",
       "version_major": 2,
       "version_minor": 0
      },
      "text/plain": [
       "  0%|          | 0/64 [00:00<?, ?it/s]"
      ]
     },
     "metadata": {},
     "output_type": "display_data"
    },
    {
     "name": "stdout",
     "output_type": "stream",
     "text": [
      "Training Epoch: 9/13\n",
      "Training Loss: 0.0411255351791624\n",
      "Top 1 Acc: 1.0\n",
      "\n",
      "Running Validation Epoch 9/13\n"
     ]
    },
    {
     "data": {
      "application/vnd.jupyter.widget-view+json": {
       "model_id": "91c6e3618a1c4d3fa6c19768dd6d2bdb",
       "version_major": 2,
       "version_minor": 0
      },
      "text/plain": [
       "  0%|          | 0/64 [00:00<?, ?it/s]"
      ]
     },
     "metadata": {},
     "output_type": "display_data"
    },
    {
     "name": "stdout",
     "output_type": "stream",
     "text": [
      "Validation Epoch: 9/13\n",
      "Val Loss: 0.4180755140114343\n",
      "Top 1 Acc: 0.9019607843137255\n",
      "\n",
      "Running Training Epoch 10/13\n"
     ]
    },
    {
     "data": {
      "application/vnd.jupyter.widget-view+json": {
       "model_id": "781584fe5b2d4d5ea951292b374846e5",
       "version_major": 2,
       "version_minor": 0
      },
      "text/plain": [
       "  0%|          | 0/64 [00:00<?, ?it/s]"
      ]
     },
     "metadata": {},
     "output_type": "display_data"
    },
    {
     "name": "stdout",
     "output_type": "stream",
     "text": [
      "Training Epoch: 10/13\n",
      "Training Loss: 0.027908188028959557\n",
      "Top 1 Acc: 1.0\n",
      "\n",
      "Running Validation Epoch 10/13\n"
     ]
    },
    {
     "data": {
      "application/vnd.jupyter.widget-view+json": {
       "model_id": "5017b756091946a69fc2bc93809ef239",
       "version_major": 2,
       "version_minor": 0
      },
      "text/plain": [
       "  0%|          | 0/64 [00:00<?, ?it/s]"
      ]
     },
     "metadata": {},
     "output_type": "display_data"
    },
    {
     "name": "stdout",
     "output_type": "stream",
     "text": [
      "Validation Epoch: 10/13\n",
      "Val Loss: 0.40239793025830295\n",
      "Top 1 Acc: 0.8980392156862745\n",
      "\n",
      "Running Training Epoch 11/13\n"
     ]
    },
    {
     "data": {
      "application/vnd.jupyter.widget-view+json": {
       "model_id": "caf1167eb6d04a2e87614e712cee2815",
       "version_major": 2,
       "version_minor": 0
      },
      "text/plain": [
       "  0%|          | 0/64 [00:00<?, ?it/s]"
      ]
     },
     "metadata": {},
     "output_type": "display_data"
    },
    {
     "name": "stdout",
     "output_type": "stream",
     "text": [
      "Training Epoch: 11/13\n",
      "Training Loss: 0.02035851358959917\n",
      "Top 1 Acc: 1.0\n",
      "\n",
      "Running Validation Epoch 11/13\n"
     ]
    },
    {
     "data": {
      "application/vnd.jupyter.widget-view+json": {
       "model_id": "0b54ca171d254220b64003390124cde4",
       "version_major": 2,
       "version_minor": 0
      },
      "text/plain": [
       "  0%|          | 0/64 [00:00<?, ?it/s]"
      ]
     },
     "metadata": {},
     "output_type": "display_data"
    },
    {
     "name": "stdout",
     "output_type": "stream",
     "text": [
      "Validation Epoch: 11/13\n",
      "Val Loss: 0.3589820931883878\n",
      "Top 1 Acc: 0.9088235294117647\n",
      "\n",
      "Running Training Epoch 12/13\n"
     ]
    },
    {
     "data": {
      "application/vnd.jupyter.widget-view+json": {
       "model_id": "0f60ba49298345a48864fa001c26b8ce",
       "version_major": 2,
       "version_minor": 0
      },
      "text/plain": [
       "  0%|          | 0/64 [00:00<?, ?it/s]"
      ]
     },
     "metadata": {},
     "output_type": "display_data"
    },
    {
     "name": "stdout",
     "output_type": "stream",
     "text": [
      "Training Epoch: 12/13\n",
      "Training Loss: 0.012050284800352529\n",
      "Top 1 Acc: 1.0\n",
      "\n",
      "Running Validation Epoch 12/13\n"
     ]
    },
    {
     "data": {
      "application/vnd.jupyter.widget-view+json": {
       "model_id": "4b98b4757b144440b63af638152e34c2",
       "version_major": 2,
       "version_minor": 0
      },
      "text/plain": [
       "  0%|          | 0/64 [00:00<?, ?it/s]"
      ]
     },
     "metadata": {},
     "output_type": "display_data"
    },
    {
     "name": "stdout",
     "output_type": "stream",
     "text": [
      "Validation Epoch: 12/13\n",
      "Val Loss: 0.35020815586904064\n",
      "Top 1 Acc: 0.9127450980392157\n",
      "\n",
      "Running Training Epoch 13/13\n"
     ]
    },
    {
     "data": {
      "application/vnd.jupyter.widget-view+json": {
       "model_id": "e242702241c045308936b241588e3fd4",
       "version_major": 2,
       "version_minor": 0
      },
      "text/plain": [
       "  0%|          | 0/64 [00:00<?, ?it/s]"
      ]
     },
     "metadata": {},
     "output_type": "display_data"
    },
    {
     "name": "stdout",
     "output_type": "stream",
     "text": [
      "Training Epoch: 13/13\n",
      "Training Loss: 0.007597094325319631\n",
      "Top 1 Acc: 1.0\n",
      "\n",
      "Running Validation Epoch 13/13\n"
     ]
    },
    {
     "data": {
      "application/vnd.jupyter.widget-view+json": {
       "model_id": "80fa6f95af8a43b8bdbeffaa502061e1",
       "version_major": 2,
       "version_minor": 0
      },
      "text/plain": [
       "  0%|          | 0/64 [00:00<?, ?it/s]"
      ]
     },
     "metadata": {},
     "output_type": "display_data"
    },
    {
     "name": "stdout",
     "output_type": "stream",
     "text": [
      "Validation Epoch: 13/13\n",
      "Val Loss: 0.3375227072065172\n",
      "Top 1 Acc: 0.9186274509803921\n",
      "\n"
     ]
    }
   ],
   "source": [
    "# run GMP algorithm\n",
    "epoch = 0\n",
    "for epoch in range(manager.max_epochs):\n",
    "    # run training loop\n",
    "    epoch_name = f\"{epoch + 1}/{manager.max_epochs}\"\n",
    "    \n",
    "    print(f\"Running Training Epoch {epoch_name}\")\n",
    "    train_loss, train_acc = run_model_one_epoch(model, train_loader, criterion, device, train=True, optimizer=optimizer)\n",
    "    print(f\"Training Epoch: {epoch_name}\\nTraining Loss: {train_loss}\\nTop 1 Acc: {train_acc}\\n\")\n",
    "\n",
    "    # run validation loop\n",
    "    print(f\"Running Validation Epoch {epoch_name}\")\n",
    "    val_loss, val_acc = run_model_one_epoch(model, val_loader, criterion, device)\n",
    "    print(f\"Validation Epoch: {epoch_name}\\nVal Loss: {val_loss}\\nTop 1 Acc: {val_acc}\\n\")\n",
    "    \n",
    "    logger.log_scalar(\"Metrics/Loss (Train)\", train_loss, epoch)\n",
    "    logger.log_scalar(\"Metrics/Accuracy (Train)\", train_acc, epoch)\n",
    "    logger.log_scalar(\"Metrics/Loss (Validation)\", val_loss, epoch)\n",
    "    logger.log_scalar(\"Metrics/Accuracy (Validation)\", val_acc, epoch)\n",
    "\n",
    "manager.finalize(model)"
   ]
  },
  {
   "cell_type": "markdown",
   "id": "22c96232",
   "metadata": {},
   "source": [
    "Here is a sample of the TensorBoard output, showing the validation accuracy, a particular layer's sparsity level, and the learning rate over time.\n",
    "\n",
    "![tensorboard output](./images/densenet-flowers-tensorboard-output.png)\n",
    "\n",
    "The resulting model is is 90% sparse and achieves validation accuracy of ~91.8% (vs the unoptimized dense model at ~92.5%) without much hyperparameter search. Key hyperparameter experiments you may want to run include:\n",
    "- Learning rate\n",
    "- Learning rate schedule\n",
    "- Sparsity level\n",
    "- Number of pruning epochs"
   ]
  },
  {
   "cell_type": "code",
   "execution_count": 26,
   "id": "df5afa94",
   "metadata": {
    "scrolled": true
   },
   "outputs": [
    {
     "name": "stdout",
     "output_type": "stream",
     "text": [
      "Sparsity By Layer:\n",
      "features.conv0.weight: 0.4737\n",
      "features.denseblock1.denselayer1.conv1.weight: 0.7423\n",
      "features.denseblock1.denselayer1.conv2.weight: 0.8321\n",
      "features.denseblock1.denselayer2.conv1.weight: 0.7501\n",
      "features.denseblock1.denselayer2.conv2.weight: 0.8680\n",
      "features.denseblock1.denselayer3.conv1.weight: 0.7543\n",
      "features.denseblock1.denselayer3.conv2.weight: 0.8259\n",
      "features.denseblock1.denselayer4.conv1.weight: 0.8161\n",
      "features.denseblock1.denselayer4.conv2.weight: 0.8302\n",
      "features.denseblock1.denselayer5.conv1.weight: 0.8723\n",
      "features.denseblock1.denselayer5.conv2.weight: 0.8858\n",
      "features.denseblock1.denselayer6.conv1.weight: 0.8428\n",
      "features.denseblock1.denselayer6.conv2.weight: 0.8443\n",
      "features.transition1.conv.weight: 0.7129\n",
      "features.denseblock2.denselayer1.conv1.weight: 0.9314\n",
      "features.denseblock2.denselayer1.conv2.weight: 0.8886\n",
      "features.denseblock2.denselayer2.conv1.weight: 0.8830\n",
      "features.denseblock2.denselayer2.conv2.weight: 0.8611\n",
      "features.denseblock2.denselayer3.conv1.weight: 0.8865\n",
      "features.denseblock2.denselayer3.conv2.weight: 0.8476\n",
      "features.denseblock2.denselayer4.conv1.weight: 0.8632\n",
      "features.denseblock2.denselayer4.conv2.weight: 0.8669\n",
      "features.denseblock2.denselayer5.conv1.weight: 0.8920\n",
      "features.denseblock2.denselayer5.conv2.weight: 0.8509\n",
      "features.denseblock2.denselayer6.conv1.weight: 0.9111\n",
      "features.denseblock2.denselayer6.conv2.weight: 0.8686\n",
      "features.denseblock2.denselayer7.conv1.weight: 0.8802\n",
      "features.denseblock2.denselayer7.conv2.weight: 0.8758\n",
      "features.denseblock2.denselayer8.conv1.weight: 0.8886\n",
      "features.denseblock2.denselayer8.conv2.weight: 0.8620\n",
      "features.denseblock2.denselayer9.conv1.weight: 0.9019\n",
      "features.denseblock2.denselayer9.conv2.weight: 0.8794\n",
      "features.denseblock2.denselayer10.conv1.weight: 0.8742\n",
      "features.denseblock2.denselayer10.conv2.weight: 0.8851\n",
      "features.denseblock2.denselayer11.conv1.weight: 0.8860\n",
      "features.denseblock2.denselayer11.conv2.weight: 0.8894\n",
      "features.denseblock2.denselayer12.conv1.weight: 0.8729\n",
      "features.denseblock2.denselayer12.conv2.weight: 0.9024\n",
      "features.transition2.conv.weight: 0.7744\n",
      "features.denseblock3.denselayer1.conv1.weight: 0.9163\n",
      "features.denseblock3.denselayer1.conv2.weight: 0.8984\n",
      "features.denseblock3.denselayer2.conv1.weight: 0.9366\n",
      "features.denseblock3.denselayer2.conv2.weight: 0.8999\n",
      "features.denseblock3.denselayer3.conv1.weight: 0.9175\n",
      "features.denseblock3.denselayer3.conv2.weight: 0.9029\n",
      "features.denseblock3.denselayer4.conv1.weight: 0.9195\n",
      "features.denseblock3.denselayer4.conv2.weight: 0.8846\n",
      "features.denseblock3.denselayer5.conv1.weight: 0.9337\n",
      "features.denseblock3.denselayer5.conv2.weight: 0.8808\n",
      "features.denseblock3.denselayer6.conv1.weight: 0.9185\n",
      "features.denseblock3.denselayer6.conv2.weight: 0.8808\n",
      "features.denseblock3.denselayer7.conv1.weight: 0.9392\n",
      "features.denseblock3.denselayer7.conv2.weight: 0.8726\n",
      "features.denseblock3.denselayer8.conv1.weight: 0.9046\n",
      "features.denseblock3.denselayer8.conv2.weight: 0.8859\n",
      "features.denseblock3.denselayer9.conv1.weight: 0.9096\n",
      "features.denseblock3.denselayer9.conv2.weight: 0.8791\n",
      "features.denseblock3.denselayer10.conv1.weight: 0.9393\n",
      "features.denseblock3.denselayer10.conv2.weight: 0.8824\n",
      "features.denseblock3.denselayer11.conv1.weight: 0.9334\n",
      "features.denseblock3.denselayer11.conv2.weight: 0.8691\n",
      "features.denseblock3.denselayer12.conv1.weight: 0.9233\n",
      "features.denseblock3.denselayer12.conv2.weight: 0.8895\n",
      "features.denseblock3.denselayer13.conv1.weight: 0.9379\n",
      "features.denseblock3.denselayer13.conv2.weight: 0.8606\n",
      "features.denseblock3.denselayer14.conv1.weight: 0.9445\n",
      "features.denseblock3.denselayer14.conv2.weight: 0.8798\n",
      "features.denseblock3.denselayer15.conv1.weight: 0.9243\n",
      "features.denseblock3.denselayer15.conv2.weight: 0.8870\n",
      "features.denseblock3.denselayer16.conv1.weight: 0.9368\n",
      "features.denseblock3.denselayer16.conv2.weight: 0.9131\n",
      "features.denseblock3.denselayer17.conv1.weight: 0.9187\n",
      "features.denseblock3.denselayer17.conv2.weight: 0.9029\n",
      "features.denseblock3.denselayer18.conv1.weight: 0.9293\n",
      "features.denseblock3.denselayer18.conv2.weight: 0.8975\n",
      "features.denseblock3.denselayer19.conv1.weight: 0.9232\n",
      "features.denseblock3.denselayer19.conv2.weight: 0.8956\n",
      "features.denseblock3.denselayer20.conv1.weight: 0.9250\n",
      "features.denseblock3.denselayer20.conv2.weight: 0.9041\n",
      "features.denseblock3.denselayer21.conv1.weight: 0.9216\n",
      "features.denseblock3.denselayer21.conv2.weight: 0.8955\n",
      "features.denseblock3.denselayer22.conv1.weight: 0.9245\n",
      "features.denseblock3.denselayer22.conv2.weight: 0.8802\n",
      "features.denseblock3.denselayer23.conv1.weight: 0.9230\n",
      "features.denseblock3.denselayer23.conv2.weight: 0.9111\n",
      "features.denseblock3.denselayer24.conv1.weight: 0.9264\n",
      "features.denseblock3.denselayer24.conv2.weight: 0.9092\n",
      "features.transition3.conv.weight: 0.8496\n",
      "features.denseblock4.denselayer1.conv1.weight: 0.8750\n",
      "features.denseblock4.denselayer1.conv2.weight: 0.9133\n",
      "features.denseblock4.denselayer2.conv1.weight: 0.8727\n",
      "features.denseblock4.denselayer2.conv2.weight: 0.9468\n",
      "features.denseblock4.denselayer3.conv1.weight: 0.8816\n",
      "features.denseblock4.denselayer3.conv2.weight: 0.9228\n",
      "features.denseblock4.denselayer4.conv1.weight: 0.9007\n",
      "features.denseblock4.denselayer4.conv2.weight: 0.9406\n",
      "features.denseblock4.denselayer5.conv1.weight: 0.9005\n",
      "features.denseblock4.denselayer5.conv2.weight: 0.9582\n",
      "features.denseblock4.denselayer6.conv1.weight: 0.8966\n",
      "features.denseblock4.denselayer6.conv2.weight: 0.9577\n",
      "features.denseblock4.denselayer7.conv1.weight: 0.9111\n",
      "features.denseblock4.denselayer7.conv2.weight: 0.9601\n",
      "features.denseblock4.denselayer8.conv1.weight: 0.9141\n",
      "features.denseblock4.denselayer8.conv2.weight: 0.9624\n",
      "features.denseblock4.denselayer9.conv1.weight: 0.9165\n",
      "features.denseblock4.denselayer9.conv2.weight: 0.9656\n",
      "features.denseblock4.denselayer10.conv1.weight: 0.9182\n",
      "features.denseblock4.denselayer10.conv2.weight: 0.9647\n",
      "features.denseblock4.denselayer11.conv1.weight: 0.9191\n",
      "features.denseblock4.denselayer11.conv2.weight: 0.9645\n",
      "features.denseblock4.denselayer12.conv1.weight: 0.9226\n",
      "features.denseblock4.denselayer12.conv2.weight: 0.9655\n",
      "features.denseblock4.denselayer13.conv1.weight: 0.9245\n",
      "features.denseblock4.denselayer13.conv2.weight: 0.9638\n",
      "features.denseblock4.denselayer14.conv1.weight: 0.9280\n",
      "features.denseblock4.denselayer14.conv2.weight: 0.9642\n",
      "features.denseblock4.denselayer15.conv1.weight: 0.9290\n",
      "features.denseblock4.denselayer15.conv2.weight: 0.9638\n",
      "features.denseblock4.denselayer16.conv1.weight: 0.9251\n",
      "features.denseblock4.denselayer16.conv2.weight: 0.9610\n",
      "classifier.weight: 0.0000\n"
     ]
    }
   ],
   "source": [
    "print(\"Sparsity By Layer:\")\n",
    "for (name, layer) in get_prunable_layers(model):\n",
    "    print(f\"{name}.weight: {tensor_sparsity(layer.weight).item():.4f}\")"
   ]
  },
  {
   "cell_type": "markdown",
   "id": "18fed85b",
   "metadata": {},
   "source": [
    "Finally, export your model to ONNX."
   ]
  },
  {
   "cell_type": "code",
   "execution_count": null,
   "id": "417ac105",
   "metadata": {},
   "outputs": [],
   "source": [
    "save_dir = \"densenet-models\"\n",
    "exporter = ModuleExporter(model, output_dir=save_dir)\n",
    "exporter.export_pytorch(name=\"densenet-pruned-fp32.pth\")\n",
    "exporter.export_onnx(torch.randn(1, 3, 224, 224), name=\"pruned-fp32-model.onnx\", convert_qat=True)"
   ]
  },
  {
   "cell_type": "markdown",
   "id": "c379d623",
   "metadata": {},
   "source": [
    "## Step 5: Quantize the Model\n",
    "\n",
    "With a sparse model trained on Flowers, we are now ready to apply the QAT algorithm to quantize the model. Generally, we can run QAT for 5-6 epochs. Quantizing the model together with pruning allows us to gain a speedup when running with DeepSparse."
   ]
  },
  {
   "cell_type": "code",
   "execution_count": 38,
   "id": "11f97312",
   "metadata": {},
   "outputs": [],
   "source": [
    "torch.cuda.empty_cache()"
   ]
  },
  {
   "cell_type": "code",
   "execution_count": 40,
   "id": "fda0599c",
   "metadata": {},
   "outputs": [],
   "source": [
    "# first, load the trained model from Step 4\n",
    "checkpoint = torch.load(\"./densenet-models/training/densenet-pruned-fp32.pth\")\n",
    "model = torchvision.models.densenet121()\n",
    "model.classifier = torch.nn.Linear(model.classifier.in_features, NUM_LABELS)\n",
    "model.load_state_dict(checkpoint['state_dict'])\n",
    "model.to(device)\n",
    "\n",
    "# setup loss function and optimizer, LR will be overriden by sparseml\n",
    "criterion = CrossEntropyLoss()\n",
    "optimizer = Adam(model.parameters(), lr=8e-3)"
   ]
  },
  {
   "cell_type": "markdown",
   "id": "0473fcbd",
   "metadata": {},
   "source": [
    "Next, we will create a Quantization recipe. We will us the `QuantizationModifier` (which instructs SparseML to run QAT) along with the `ConstantPruningModifier` (which instructs SparseML to maintain sparsity).\n",
    "\n",
    "Here is what the recipe looks like:\n",
    "\n",
    "```yaml\n",
    "# Epoch and Learning-Rate variables\n",
    "num_epochs: 6.0\n",
    "init_lr: 0.0004\n",
    "\n",
    "# quantization variables\n",
    "quantization_epochs: 6.0\n",
    "\n",
    "training_modifiers:\n",
    "  - !EpochRangeModifier\n",
    "    start_epoch: 0.0\n",
    "    end_epoch: eval(num_epochs)\n",
    "\n",
    "  - !LearningRateFunctionModifier\n",
    "    final_lr: 0.0\n",
    "    init_lr: eval(init_lr)\n",
    "    lr_func: cosine\n",
    "    start_epoch: 0.0\n",
    "    end_epoch: eval(num_epochs)\n",
    "\n",
    "# Phase 1 Sparse Transfer Learning / Recovery\n",
    "sparse_transfer_learning_modifiers:\n",
    "  - !ConstantPruningModifier\n",
    "    start_epoch: 0.0\n",
    "    params: __ALL_PRUNABLE__\n",
    "\n",
    "# Phase 2 Apply quantization\n",
    "sparse_quantized_transfer_learning_modifiers:\n",
    "  - !QuantizationModifier\n",
    "    start_epoch: eval(num_epochs - quantization_epochs)\n",
    "```"
   ]
  },
  {
   "cell_type": "code",
   "execution_count": 41,
   "id": "6d2c1be3",
   "metadata": {},
   "outputs": [],
   "source": [
    "quantization_recipe_path = \"./recipes/quantization-recipe.yaml\""
   ]
  },
  {
   "cell_type": "code",
   "execution_count": 42,
   "id": "6b8a4324",
   "metadata": {},
   "outputs": [],
   "source": [
    "# create ScheduledModifierManager and Optimizer wrapper\n",
    "manager = ScheduledModifierManager.from_yaml(quantization_recipe_path)\n",
    "logger = TensorBoardLogger(log_path=\"./tensorboard_outputs/densenet/quantization-run\")\n",
    "optimizer = manager.modify(model, optimizer, loggers=[logger], steps_per_epoch=len(train_loader))"
   ]
  },
  {
   "cell_type": "code",
   "execution_count": 43,
   "id": "208fc85c",
   "metadata": {},
   "outputs": [
    {
     "name": "stdout",
     "output_type": "stream",
     "text": [
      "Running Training Epoch 1/5\n"
     ]
    },
    {
     "data": {
      "application/vnd.jupyter.widget-view+json": {
       "model_id": "4ed2d6e3d1ac42369f8a9ea020909d50",
       "version_major": 2,
       "version_minor": 0
      },
      "text/plain": [
       "  0%|          | 0/64 [00:00<?, ?it/s]"
      ]
     },
     "metadata": {},
     "output_type": "display_data"
    },
    {
     "name": "stdout",
     "output_type": "stream",
     "text": [
      "Training Epoch: 1/5\n",
      "Training Loss: 0.020167092072369996\n",
      "Top 1 Acc: 1.0\n",
      "\n",
      "Running Validation Epoch 1/5\n"
     ]
    },
    {
     "data": {
      "application/vnd.jupyter.widget-view+json": {
       "model_id": "8426880f7f1c4c2aa5aa022b0909288d",
       "version_major": 2,
       "version_minor": 0
      },
      "text/plain": [
       "  0%|          | 0/64 [00:00<?, ?it/s]"
      ]
     },
     "metadata": {},
     "output_type": "display_data"
    },
    {
     "name": "stdout",
     "output_type": "stream",
     "text": [
      "Validation Epoch: 1/5\n",
      "Val Loss: 0.3898960210317455\n",
      "Top 1 Acc: 0.8980392156862745\n",
      "\n",
      "Running Training Epoch 2/5\n"
     ]
    },
    {
     "data": {
      "application/vnd.jupyter.widget-view+json": {
       "model_id": "2c368eb0488549a0b50aca44c594bbf5",
       "version_major": 2,
       "version_minor": 0
      },
      "text/plain": [
       "  0%|          | 0/64 [00:00<?, ?it/s]"
      ]
     },
     "metadata": {},
     "output_type": "display_data"
    },
    {
     "name": "stdout",
     "output_type": "stream",
     "text": [
      "Training Epoch: 2/5\n",
      "Training Loss: 0.011033405537091312\n",
      "Top 1 Acc: 1.0\n",
      "\n",
      "Running Validation Epoch 2/5\n"
     ]
    },
    {
     "data": {
      "application/vnd.jupyter.widget-view+json": {
       "model_id": "03148f10352a4213a5b49f7db26e2b4f",
       "version_major": 2,
       "version_minor": 0
      },
      "text/plain": [
       "  0%|          | 0/64 [00:00<?, ?it/s]"
      ]
     },
     "metadata": {},
     "output_type": "display_data"
    },
    {
     "name": "stdout",
     "output_type": "stream",
     "text": [
      "Validation Epoch: 2/5\n",
      "Val Loss: 0.381910876960319\n",
      "Top 1 Acc: 0.8970588235294118\n",
      "\n",
      "Running Training Epoch 3/5\n"
     ]
    },
    {
     "data": {
      "application/vnd.jupyter.widget-view+json": {
       "model_id": "73988d5735404cc08795116a2d27e19e",
       "version_major": 2,
       "version_minor": 0
      },
      "text/plain": [
       "  0%|          | 0/64 [00:00<?, ?it/s]"
      ]
     },
     "metadata": {},
     "output_type": "display_data"
    },
    {
     "name": "stdout",
     "output_type": "stream",
     "text": [
      "Training Epoch: 3/5\n",
      "Training Loss: 0.006457825023971964\n",
      "Top 1 Acc: 1.0\n",
      "\n",
      "Running Validation Epoch 3/5\n"
     ]
    },
    {
     "data": {
      "application/vnd.jupyter.widget-view+json": {
       "model_id": "61e8db2842564befb05c6c18582093ff",
       "version_major": 2,
       "version_minor": 0
      },
      "text/plain": [
       "  0%|          | 0/64 [00:00<?, ?it/s]"
      ]
     },
     "metadata": {},
     "output_type": "display_data"
    },
    {
     "name": "stdout",
     "output_type": "stream",
     "text": [
      "Validation Epoch: 3/5\n",
      "Val Loss: 0.33566539320781885\n",
      "Top 1 Acc: 0.9137254901960784\n",
      "\n",
      "Running Training Epoch 4/5\n"
     ]
    },
    {
     "data": {
      "application/vnd.jupyter.widget-view+json": {
       "model_id": "d548a06770834517ad9db8fdb99a1ae3",
       "version_major": 2,
       "version_minor": 0
      },
      "text/plain": [
       "  0%|          | 0/64 [00:00<?, ?it/s]"
      ]
     },
     "metadata": {},
     "output_type": "display_data"
    },
    {
     "name": "stdout",
     "output_type": "stream",
     "text": [
      "Training Epoch: 4/5\n",
      "Training Loss: 0.003771477568989212\n",
      "Top 1 Acc: 1.0\n",
      "\n",
      "Running Validation Epoch 4/5\n"
     ]
    },
    {
     "data": {
      "application/vnd.jupyter.widget-view+json": {
       "model_id": "13afa51fa11b44aaa237067823ae9137",
       "version_major": 2,
       "version_minor": 0
      },
      "text/plain": [
       "  0%|          | 0/64 [00:00<?, ?it/s]"
      ]
     },
     "metadata": {},
     "output_type": "display_data"
    },
    {
     "name": "stdout",
     "output_type": "stream",
     "text": [
      "Validation Epoch: 4/5\n",
      "Val Loss: 0.34420355190604823\n",
      "Top 1 Acc: 0.907843137254902\n",
      "\n",
      "Running Training Epoch 5/5\n"
     ]
    },
    {
     "data": {
      "application/vnd.jupyter.widget-view+json": {
       "model_id": "857e1593d5ca457ba73918723f04c008",
       "version_major": 2,
       "version_minor": 0
      },
      "text/plain": [
       "  0%|          | 0/64 [00:00<?, ?it/s]"
      ]
     },
     "metadata": {},
     "output_type": "display_data"
    },
    {
     "name": "stdout",
     "output_type": "stream",
     "text": [
      "Training Epoch: 5/5\n",
      "Training Loss: 0.002937028719316004\n",
      "Top 1 Acc: 1.0\n",
      "\n",
      "Running Validation Epoch 5/5\n"
     ]
    },
    {
     "data": {
      "application/vnd.jupyter.widget-view+json": {
       "model_id": "3be1fd3d62ed487fb2d6bacecebc4160",
       "version_major": 2,
       "version_minor": 0
      },
      "text/plain": [
       "  0%|          | 0/64 [00:00<?, ?it/s]"
      ]
     },
     "metadata": {},
     "output_type": "display_data"
    },
    {
     "name": "stdout",
     "output_type": "stream",
     "text": [
      "Validation Epoch: 5/5\n",
      "Val Loss: 0.3459806305090751\n",
      "Top 1 Acc: 0.9088235294117647\n",
      "\n"
     ]
    }
   ],
   "source": [
    "# run QAT algorithm\n",
    "epoch = 0\n",
    "for epoch in range(manager.max_epochs):\n",
    "    # run training loop\n",
    "    epoch_name = f\"{epoch + 1}/{manager.max_epochs}\"\n",
    "    \n",
    "    print(f\"Running Training Epoch {epoch_name}\")\n",
    "    train_loss, train_acc = run_model_one_epoch(model, train_loader, criterion, device, train=True, optimizer=optimizer)\n",
    "    print(f\"Training Epoch: {epoch_name}\\nTraining Loss: {train_loss}\\nTop 1 Acc: {train_acc}\\n\")\n",
    "\n",
    "    # run validation loop\n",
    "    print(f\"Running Validation Epoch {epoch_name}\")\n",
    "    val_loss, val_acc = run_model_one_epoch(model, val_loader, criterion, device)\n",
    "    print(f\"Validation Epoch: {epoch_name}\\nVal Loss: {val_loss}\\nTop 1 Acc: {val_acc}\\n\")\n",
    "    \n",
    "    logger.log_scalar(\"Metrics/Loss (Train)\", train_loss, epoch)\n",
    "    logger.log_scalar(\"Metrics/Accuracy (Train)\", train_acc, epoch)\n",
    "    logger.log_scalar(\"Metrics/Loss (Validation)\", val_loss, epoch)\n",
    "    logger.log_scalar(\"Metrics/Accuracy (Validation)\", val_acc, epoch)\n",
    "\n",
    "manager.finalize(model)"
   ]
  },
  {
   "cell_type": "markdown",
   "id": "52ac51e0",
   "metadata": {},
   "source": [
    "The resulting model is is 90% sparse and INT8 quantized and achieves validation accuracy of ~90.9% (vs the unoptimized dense model at ~91.9%) without much hyperparameter search. Key hyperparameter experiments you may want to run for QAT are:\n",
    "- Learning rate"
   ]
  },
  {
   "cell_type": "markdown",
   "id": "eec331b7",
   "metadata": {},
   "source": [
    "Finally, export to ONNX:"
   ]
  },
  {
   "cell_type": "code",
   "execution_count": 44,
   "id": "87f21bc7",
   "metadata": {},
   "outputs": [
    {
     "name": "stderr",
     "output_type": "stream",
     "text": [
      "2023-03-14 23:27:05 sparseml.pytorch.sparsification.quantization.quantize_qat_export INFO     Converted 59 quantizable Conv ops with weight and bias to ConvInteger and Add\n",
      "2023-03-14 23:27:05 sparseml.pytorch.sparsification.quantization.quantize_qat_export INFO     Converted 1 quantizable Gemm ops with weight and bias to MatMulInteger and Add\n"
     ]
    }
   ],
   "source": [
    "save_dir = \"densenet-models\"\n",
    "exporter = ModuleExporter(model, output_dir=save_dir)\n",
    "exporter.export_pytorch(name=\"densenet-pruned-int8.pth\")\n",
    "exporter.export_onnx(torch.randn(1, 3, 224, 224), name=\"pruned-int8-model.onnx\", convert_qat=True)"
   ]
  }
 ],
 "metadata": {
  "kernelspec": {
   "display_name": "Python 3 (ipykernel)",
   "language": "python",
   "name": "python3"
  },
  "language_info": {
   "codemirror_mode": {
    "name": "ipython",
    "version": 3
   },
   "file_extension": ".py",
   "mimetype": "text/x-python",
   "name": "python",
   "nbconvert_exporter": "python",
   "pygments_lexer": "ipython3",
   "version": "3.8.10"
  }
 },
 "nbformat": 4,
 "nbformat_minor": 5
}
