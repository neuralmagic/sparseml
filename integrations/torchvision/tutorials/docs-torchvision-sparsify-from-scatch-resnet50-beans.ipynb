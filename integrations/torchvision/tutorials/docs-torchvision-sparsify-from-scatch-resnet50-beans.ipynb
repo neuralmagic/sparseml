{
 "cells": [
  {
   "cell_type": "code",
   "execution_count": 3,
   "id": "1ad80edf",
   "metadata": {},
   "outputs": [
    {
     "name": "stdout",
     "output_type": "stream",
     "text": [
      "1.12.1+cu116\n"
     ]
    }
   ],
   "source": [
    "import sparseml\n",
    "import sparsezoo\n",
    "import torch\n",
    "import torchvision\n",
    "print(torch.__version__)"
   ]
  },
  {
   "cell_type": "code",
   "execution_count": 4,
   "id": "4d554578",
   "metadata": {},
   "outputs": [
    {
     "name": "stdout",
     "output_type": "stream",
     "text": [
      "ResNet(\n",
      "  (conv1): Conv2d(3, 64, kernel_size=(7, 7), stride=(2, 2), padding=(3, 3), bias=False)\n",
      "  (bn1): BatchNorm2d(64, eps=1e-05, momentum=0.1, affine=True, track_running_stats=True)\n",
      "  (relu): ReLU(inplace=True)\n",
      "  (maxpool): MaxPool2d(kernel_size=3, stride=2, padding=1, dilation=1, ceil_mode=False)\n",
      "  (layer1): Sequential(\n",
      "    (0): Bottleneck(\n",
      "      (conv1): Conv2d(64, 64, kernel_size=(1, 1), stride=(1, 1), bias=False)\n",
      "      (bn1): BatchNorm2d(64, eps=1e-05, momentum=0.1, affine=True, track_running_stats=True)\n",
      "      (conv2): Conv2d(64, 64, kernel_size=(3, 3), stride=(1, 1), padding=(1, 1), bias=False)\n",
      "      (bn2): BatchNorm2d(64, eps=1e-05, momentum=0.1, affine=True, track_running_stats=True)\n",
      "      (conv3): Conv2d(64, 256, kernel_size=(1, 1), stride=(1, 1), bias=False)\n",
      "      (bn3): BatchNorm2d(256, eps=1e-05, momentum=0.1, affine=True, track_running_stats=True)\n",
      "      (relu): ReLU(inplace=True)\n",
      "      (downsample): Sequential(\n",
      "        (0): Conv2d(64, 256, kernel_size=(1, 1), stride=(1, 1), bias=False)\n",
      "        (1): BatchNorm2d(256, eps=1e-05, momentum=0.1, affine=True, track_running_stats=True)\n",
      "      )\n",
      "    )\n",
      "    (1): Bottleneck(\n",
      "      (conv1): Conv2d(256, 64, kernel_size=(1, 1), stride=(1, 1), bias=False)\n",
      "      (bn1): BatchNorm2d(64, eps=1e-05, momentum=0.1, affine=True, track_running_stats=True)\n",
      "      (conv2): Conv2d(64, 64, kernel_size=(3, 3), stride=(1, 1), padding=(1, 1), bias=False)\n",
      "      (bn2): BatchNorm2d(64, eps=1e-05, momentum=0.1, affine=True, track_running_stats=True)\n",
      "      (conv3): Conv2d(64, 256, kernel_size=(1, 1), stride=(1, 1), bias=False)\n",
      "      (bn3): BatchNorm2d(256, eps=1e-05, momentum=0.1, affine=True, track_running_stats=True)\n",
      "      (relu): ReLU(inplace=True)\n",
      "    )\n",
      "    (2): Bottleneck(\n",
      "      (conv1): Conv2d(256, 64, kernel_size=(1, 1), stride=(1, 1), bias=False)\n",
      "      (bn1): BatchNorm2d(64, eps=1e-05, momentum=0.1, affine=True, track_running_stats=True)\n",
      "      (conv2): Conv2d(64, 64, kernel_size=(3, 3), stride=(1, 1), padding=(1, 1), bias=False)\n",
      "      (bn2): BatchNorm2d(64, eps=1e-05, momentum=0.1, affine=True, track_running_stats=True)\n",
      "      (conv3): Conv2d(64, 256, kernel_size=(1, 1), stride=(1, 1), bias=False)\n",
      "      (bn3): BatchNorm2d(256, eps=1e-05, momentum=0.1, affine=True, track_running_stats=True)\n",
      "      (relu): ReLU(inplace=True)\n",
      "    )\n",
      "  )\n",
      "  (layer2): Sequential(\n",
      "    (0): Bottleneck(\n",
      "      (conv1): Conv2d(256, 128, kernel_size=(1, 1), stride=(1, 1), bias=False)\n",
      "      (bn1): BatchNorm2d(128, eps=1e-05, momentum=0.1, affine=True, track_running_stats=True)\n",
      "      (conv2): Conv2d(128, 128, kernel_size=(3, 3), stride=(2, 2), padding=(1, 1), bias=False)\n",
      "      (bn2): BatchNorm2d(128, eps=1e-05, momentum=0.1, affine=True, track_running_stats=True)\n",
      "      (conv3): Conv2d(128, 512, kernel_size=(1, 1), stride=(1, 1), bias=False)\n",
      "      (bn3): BatchNorm2d(512, eps=1e-05, momentum=0.1, affine=True, track_running_stats=True)\n",
      "      (relu): ReLU(inplace=True)\n",
      "      (downsample): Sequential(\n",
      "        (0): Conv2d(256, 512, kernel_size=(1, 1), stride=(2, 2), bias=False)\n",
      "        (1): BatchNorm2d(512, eps=1e-05, momentum=0.1, affine=True, track_running_stats=True)\n",
      "      )\n",
      "    )\n",
      "    (1): Bottleneck(\n",
      "      (conv1): Conv2d(512, 128, kernel_size=(1, 1), stride=(1, 1), bias=False)\n",
      "      (bn1): BatchNorm2d(128, eps=1e-05, momentum=0.1, affine=True, track_running_stats=True)\n",
      "      (conv2): Conv2d(128, 128, kernel_size=(3, 3), stride=(1, 1), padding=(1, 1), bias=False)\n",
      "      (bn2): BatchNorm2d(128, eps=1e-05, momentum=0.1, affine=True, track_running_stats=True)\n",
      "      (conv3): Conv2d(128, 512, kernel_size=(1, 1), stride=(1, 1), bias=False)\n",
      "      (bn3): BatchNorm2d(512, eps=1e-05, momentum=0.1, affine=True, track_running_stats=True)\n",
      "      (relu): ReLU(inplace=True)\n",
      "    )\n",
      "    (2): Bottleneck(\n",
      "      (conv1): Conv2d(512, 128, kernel_size=(1, 1), stride=(1, 1), bias=False)\n",
      "      (bn1): BatchNorm2d(128, eps=1e-05, momentum=0.1, affine=True, track_running_stats=True)\n",
      "      (conv2): Conv2d(128, 128, kernel_size=(3, 3), stride=(1, 1), padding=(1, 1), bias=False)\n",
      "      (bn2): BatchNorm2d(128, eps=1e-05, momentum=0.1, affine=True, track_running_stats=True)\n",
      "      (conv3): Conv2d(128, 512, kernel_size=(1, 1), stride=(1, 1), bias=False)\n",
      "      (bn3): BatchNorm2d(512, eps=1e-05, momentum=0.1, affine=True, track_running_stats=True)\n",
      "      (relu): ReLU(inplace=True)\n",
      "    )\n",
      "    (3): Bottleneck(\n",
      "      (conv1): Conv2d(512, 128, kernel_size=(1, 1), stride=(1, 1), bias=False)\n",
      "      (bn1): BatchNorm2d(128, eps=1e-05, momentum=0.1, affine=True, track_running_stats=True)\n",
      "      (conv2): Conv2d(128, 128, kernel_size=(3, 3), stride=(1, 1), padding=(1, 1), bias=False)\n",
      "      (bn2): BatchNorm2d(128, eps=1e-05, momentum=0.1, affine=True, track_running_stats=True)\n",
      "      (conv3): Conv2d(128, 512, kernel_size=(1, 1), stride=(1, 1), bias=False)\n",
      "      (bn3): BatchNorm2d(512, eps=1e-05, momentum=0.1, affine=True, track_running_stats=True)\n",
      "      (relu): ReLU(inplace=True)\n",
      "    )\n",
      "  )\n",
      "  (layer3): Sequential(\n",
      "    (0): Bottleneck(\n",
      "      (conv1): Conv2d(512, 256, kernel_size=(1, 1), stride=(1, 1), bias=False)\n",
      "      (bn1): BatchNorm2d(256, eps=1e-05, momentum=0.1, affine=True, track_running_stats=True)\n",
      "      (conv2): Conv2d(256, 256, kernel_size=(3, 3), stride=(2, 2), padding=(1, 1), bias=False)\n",
      "      (bn2): BatchNorm2d(256, eps=1e-05, momentum=0.1, affine=True, track_running_stats=True)\n",
      "      (conv3): Conv2d(256, 1024, kernel_size=(1, 1), stride=(1, 1), bias=False)\n",
      "      (bn3): BatchNorm2d(1024, eps=1e-05, momentum=0.1, affine=True, track_running_stats=True)\n",
      "      (relu): ReLU(inplace=True)\n",
      "      (downsample): Sequential(\n",
      "        (0): Conv2d(512, 1024, kernel_size=(1, 1), stride=(2, 2), bias=False)\n",
      "        (1): BatchNorm2d(1024, eps=1e-05, momentum=0.1, affine=True, track_running_stats=True)\n",
      "      )\n",
      "    )\n",
      "    (1): Bottleneck(\n",
      "      (conv1): Conv2d(1024, 256, kernel_size=(1, 1), stride=(1, 1), bias=False)\n",
      "      (bn1): BatchNorm2d(256, eps=1e-05, momentum=0.1, affine=True, track_running_stats=True)\n",
      "      (conv2): Conv2d(256, 256, kernel_size=(3, 3), stride=(1, 1), padding=(1, 1), bias=False)\n",
      "      (bn2): BatchNorm2d(256, eps=1e-05, momentum=0.1, affine=True, track_running_stats=True)\n",
      "      (conv3): Conv2d(256, 1024, kernel_size=(1, 1), stride=(1, 1), bias=False)\n",
      "      (bn3): BatchNorm2d(1024, eps=1e-05, momentum=0.1, affine=True, track_running_stats=True)\n",
      "      (relu): ReLU(inplace=True)\n",
      "    )\n",
      "    (2): Bottleneck(\n",
      "      (conv1): Conv2d(1024, 256, kernel_size=(1, 1), stride=(1, 1), bias=False)\n",
      "      (bn1): BatchNorm2d(256, eps=1e-05, momentum=0.1, affine=True, track_running_stats=True)\n",
      "      (conv2): Conv2d(256, 256, kernel_size=(3, 3), stride=(1, 1), padding=(1, 1), bias=False)\n",
      "      (bn2): BatchNorm2d(256, eps=1e-05, momentum=0.1, affine=True, track_running_stats=True)\n",
      "      (conv3): Conv2d(256, 1024, kernel_size=(1, 1), stride=(1, 1), bias=False)\n",
      "      (bn3): BatchNorm2d(1024, eps=1e-05, momentum=0.1, affine=True, track_running_stats=True)\n",
      "      (relu): ReLU(inplace=True)\n",
      "    )\n",
      "    (3): Bottleneck(\n",
      "      (conv1): Conv2d(1024, 256, kernel_size=(1, 1), stride=(1, 1), bias=False)\n",
      "      (bn1): BatchNorm2d(256, eps=1e-05, momentum=0.1, affine=True, track_running_stats=True)\n",
      "      (conv2): Conv2d(256, 256, kernel_size=(3, 3), stride=(1, 1), padding=(1, 1), bias=False)\n",
      "      (bn2): BatchNorm2d(256, eps=1e-05, momentum=0.1, affine=True, track_running_stats=True)\n",
      "      (conv3): Conv2d(256, 1024, kernel_size=(1, 1), stride=(1, 1), bias=False)\n",
      "      (bn3): BatchNorm2d(1024, eps=1e-05, momentum=0.1, affine=True, track_running_stats=True)\n",
      "      (relu): ReLU(inplace=True)\n",
      "    )\n",
      "    (4): Bottleneck(\n",
      "      (conv1): Conv2d(1024, 256, kernel_size=(1, 1), stride=(1, 1), bias=False)\n",
      "      (bn1): BatchNorm2d(256, eps=1e-05, momentum=0.1, affine=True, track_running_stats=True)\n",
      "      (conv2): Conv2d(256, 256, kernel_size=(3, 3), stride=(1, 1), padding=(1, 1), bias=False)\n",
      "      (bn2): BatchNorm2d(256, eps=1e-05, momentum=0.1, affine=True, track_running_stats=True)\n",
      "      (conv3): Conv2d(256, 1024, kernel_size=(1, 1), stride=(1, 1), bias=False)\n",
      "      (bn3): BatchNorm2d(1024, eps=1e-05, momentum=0.1, affine=True, track_running_stats=True)\n",
      "      (relu): ReLU(inplace=True)\n",
      "    )\n",
      "    (5): Bottleneck(\n",
      "      (conv1): Conv2d(1024, 256, kernel_size=(1, 1), stride=(1, 1), bias=False)\n",
      "      (bn1): BatchNorm2d(256, eps=1e-05, momentum=0.1, affine=True, track_running_stats=True)\n",
      "      (conv2): Conv2d(256, 256, kernel_size=(3, 3), stride=(1, 1), padding=(1, 1), bias=False)\n",
      "      (bn2): BatchNorm2d(256, eps=1e-05, momentum=0.1, affine=True, track_running_stats=True)\n",
      "      (conv3): Conv2d(256, 1024, kernel_size=(1, 1), stride=(1, 1), bias=False)\n",
      "      (bn3): BatchNorm2d(1024, eps=1e-05, momentum=0.1, affine=True, track_running_stats=True)\n",
      "      (relu): ReLU(inplace=True)\n",
      "    )\n",
      "  )\n",
      "  (layer4): Sequential(\n",
      "    (0): Bottleneck(\n",
      "      (conv1): Conv2d(1024, 512, kernel_size=(1, 1), stride=(1, 1), bias=False)\n",
      "      (bn1): BatchNorm2d(512, eps=1e-05, momentum=0.1, affine=True, track_running_stats=True)\n",
      "      (conv2): Conv2d(512, 512, kernel_size=(3, 3), stride=(2, 2), padding=(1, 1), bias=False)\n",
      "      (bn2): BatchNorm2d(512, eps=1e-05, momentum=0.1, affine=True, track_running_stats=True)\n",
      "      (conv3): Conv2d(512, 2048, kernel_size=(1, 1), stride=(1, 1), bias=False)\n",
      "      (bn3): BatchNorm2d(2048, eps=1e-05, momentum=0.1, affine=True, track_running_stats=True)\n",
      "      (relu): ReLU(inplace=True)\n",
      "      (downsample): Sequential(\n",
      "        (0): Conv2d(1024, 2048, kernel_size=(1, 1), stride=(2, 2), bias=False)\n",
      "        (1): BatchNorm2d(2048, eps=1e-05, momentum=0.1, affine=True, track_running_stats=True)\n",
      "      )\n",
      "    )\n",
      "    (1): Bottleneck(\n",
      "      (conv1): Conv2d(2048, 512, kernel_size=(1, 1), stride=(1, 1), bias=False)\n",
      "      (bn1): BatchNorm2d(512, eps=1e-05, momentum=0.1, affine=True, track_running_stats=True)\n",
      "      (conv2): Conv2d(512, 512, kernel_size=(3, 3), stride=(1, 1), padding=(1, 1), bias=False)\n",
      "      (bn2): BatchNorm2d(512, eps=1e-05, momentum=0.1, affine=True, track_running_stats=True)\n",
      "      (conv3): Conv2d(512, 2048, kernel_size=(1, 1), stride=(1, 1), bias=False)\n",
      "      (bn3): BatchNorm2d(2048, eps=1e-05, momentum=0.1, affine=True, track_running_stats=True)\n",
      "      (relu): ReLU(inplace=True)\n",
      "    )\n",
      "    (2): Bottleneck(\n",
      "      (conv1): Conv2d(2048, 512, kernel_size=(1, 1), stride=(1, 1), bias=False)\n",
      "      (bn1): BatchNorm2d(512, eps=1e-05, momentum=0.1, affine=True, track_running_stats=True)\n",
      "      (conv2): Conv2d(512, 512, kernel_size=(3, 3), stride=(1, 1), padding=(1, 1), bias=False)\n",
      "      (bn2): BatchNorm2d(512, eps=1e-05, momentum=0.1, affine=True, track_running_stats=True)\n",
      "      (conv3): Conv2d(512, 2048, kernel_size=(1, 1), stride=(1, 1), bias=False)\n",
      "      (bn3): BatchNorm2d(2048, eps=1e-05, momentum=0.1, affine=True, track_running_stats=True)\n",
      "      (relu): ReLU(inplace=True)\n",
      "    )\n",
      "  )\n",
      "  (avgpool): AdaptiveAvgPool2d(output_size=(1, 1))\n",
      "  (fc): Linear(in_features=2048, out_features=3, bias=True)\n",
      ")\n"
     ]
    }
   ],
   "source": [
    "NUM_LABELS = 3\n",
    "model = torchvision.models.resnet50(weights=torchvision.models.ResNet50_Weights.DEFAULT)\n",
    "model.fc = torch.nn.Linear(model.fc.in_features, NUM_LABELS)\n",
    "print(model)"
   ]
  },
  {
   "cell_type": "code",
   "execution_count": 5,
   "id": "3f49303e",
   "metadata": {},
   "outputs": [
    {
     "name": "stderr",
     "output_type": "stream",
     "text": [
      "Using custom data configuration default\n",
      "Reusing dataset beans (/home/ubuntu/.cache/huggingface/datasets/beans/default/0.0.0/d5abfbb94de45599d871182cff389bc870bf145b4829c4b0fe20f0cccd637cbd)\n"
     ]
    },
    {
     "data": {
      "application/vnd.jupyter.widget-view+json": {
       "model_id": "631d7dbbd3b7461da9fdc14f1130f89e",
       "version_major": 2,
       "version_minor": 0
      },
      "text/plain": [
       "  0%|          | 0/3 [00:00<?, ?it/s]"
      ]
     },
     "metadata": {},
     "output_type": "display_data"
    },
    {
     "name": "stdout",
     "output_type": "stream",
     "text": [
      "/home/ubuntu/.cache/huggingface/datasets/downloads/extracted/eeb026374cf5ecfd5f40131a3159be9b9055ac21a3da11690e7eb4d117c99eee/train/bean_rust/bean_rust_train.84.jpg\n",
      "/home/ubuntu/.cache/huggingface/datasets/downloads/extracted/f287261265d2f9a3e8f87a5526a54d1847b17f7c3ec5714e5719432f2b3e4a73/validation/bean_rust/bean_rust_val.36.jpg\n"
     ]
    }
   ],
   "source": [
    "import datasets\n",
    "beans_dataset = datasets.load_dataset(\"beans\")\n",
    "print(beans_dataset[\"train\"][0][\"image_file_path\"])\n",
    "print(beans_dataset[\"validation\"][0][\"image_file_path\"])"
   ]
  },
  {
   "cell_type": "code",
   "execution_count": 6,
   "id": "7d180bbc",
   "metadata": {},
   "outputs": [],
   "source": [
    "from torchvision import transforms\n",
    "\n",
    "imagenet_transform = transforms.Compose([\n",
    "   transforms.Resize(size=256, interpolation=transforms.InterpolationMode.BILINEAR, max_size=None, antialias=None),\n",
    "   transforms.CenterCrop(size=(224, 224)),\n",
    "   transforms.ToTensor(),\n",
    "   transforms.Normalize(mean=[0.485, 0.456, 0.406], std=[0.229, 0.224, 0.225])\n",
    "])\n",
    "\n",
    "train_dataset = torchvision.datasets.ImageFolder(\n",
    "    root=\"/home/ubuntu/.cache/huggingface/datasets/downloads/extracted/eeb026374cf5ecfd5f40131a3159be9b9055ac21a3da11690e7eb4d117c99eee/train\",\n",
    "    transform=imagenet_transform\n",
    ")\n",
    "\n",
    "val_dataset = torchvision.datasets.ImageFolder(\n",
    "    root=\"/home/ubuntu/.cache/huggingface/datasets/downloads/extracted/f287261265d2f9a3e8f87a5526a54d1847b17f7c3ec5714e5719432f2b3e4a73/validation\",\n",
    "    transform=imagenet_transform\n",
    ")"
   ]
  },
  {
   "cell_type": "code",
   "execution_count": 7,
   "id": "5f1b878a",
   "metadata": {},
   "outputs": [],
   "source": [
    "from tqdm.auto import tqdm\n",
    "import math\n",
    "\n",
    "def run_model_one_epoch(model, data_loader, criterion, device, train=False, optimizer=None):\n",
    "    if train:\n",
    "        model.train()\n",
    "    else:\n",
    "        model.eval()\n",
    "\n",
    "    running_loss = 0.0\n",
    "    total_correct = 0\n",
    "    total_predictions = 0\n",
    "\n",
    "    # loop through batches\n",
    "    for step, (inputs, labels) in tqdm(enumerate(data_loader), total=len(data_loader)):\n",
    "        inputs = inputs.to(device)\n",
    "        labels = labels.to(device)\n",
    "\n",
    "        if train:\n",
    "            optimizer.zero_grad()\n",
    "\n",
    "        # compute loss, run backpropogation\n",
    "        outputs = model(inputs)  # model returns logits\n",
    "        loss = criterion(outputs, labels)\n",
    "        if train:\n",
    "            loss.backward()\n",
    "            optimizer.step()\n",
    "\n",
    "        running_loss += loss.item()\n",
    "\n",
    "        # run evaluation\n",
    "        predictions = outputs.argmax(dim=1)\n",
    "        total_correct += torch.sum(predictions == labels).item()\n",
    "        total_predictions += inputs.size(0)\n",
    "\n",
    "    # return loss and evaluation metric\n",
    "    loss = running_loss / (step + 1.0)\n",
    "    accuracy = total_correct / total_predictions\n",
    "    return loss, accuracy"
   ]
  },
  {
   "cell_type": "code",
   "execution_count": 8,
   "id": "b0a623e1",
   "metadata": {},
   "outputs": [
    {
     "name": "stdout",
     "output_type": "stream",
     "text": [
      "Using device: cuda\n"
     ]
    }
   ],
   "source": [
    "from torch.utils.data import DataLoader\n",
    "from torch.nn import CrossEntropyLoss\n",
    "from torch.optim import Adam\n",
    "\n",
    "# hyperparameters\n",
    "BATCH_SIZE = 64\n",
    "\n",
    "# setup device\n",
    "device = \"cuda\" if torch.cuda.is_available() else \"cpu\"\n",
    "model.to(device)\n",
    "print(f\"Using device: {device}\")\n",
    "\n",
    "# setup data loaders\n",
    "train_loader = DataLoader(\n",
    "    train_dataset, BATCH_SIZE, shuffle=True, pin_memory=True, num_workers=16\n",
    ")\n",
    "val_loader = DataLoader(\n",
    "    val_dataset, BATCH_SIZE, shuffle=False, pin_memory=True, num_workers=16\n",
    ")\n",
    "\n",
    "# setup loss function and optimizer, LR will be overriden by sparseml\n",
    "criterion = CrossEntropyLoss()\n",
    "optimizer = Adam(model.parameters(), lr=8e-3)"
   ]
  },
  {
   "cell_type": "code",
   "execution_count": 9,
   "id": "d4553beb",
   "metadata": {},
   "outputs": [
    {
     "name": "stdout",
     "output_type": "stream",
     "text": [
      "\r\n",
      "# Epoch and Learning-Rate variables\r\n",
      "num_epochs: 10.0\r\n",
      "init_lr: 0.0005\r\n",
      "\r\n",
      "training_modifiers:\r\n",
      "  - !EpochRangeModifier\r\n",
      "    start_epoch: 0.0\r\n",
      "    end_epoch: eval(num_epochs)\r\n",
      "\r\n",
      "  - !LearningRateFunctionModifier\r\n",
      "    final_lr: 0.0\r\n",
      "    init_lr: eval(init_lr)\r\n",
      "    lr_func: cosine\r\n",
      "    start_epoch: 0.0\r\n",
      "    end_epoch: eval(num_epochs)\r\n",
      "\r\n",
      "# Phase 1 Sparse Transfer Learning / Recovery\r\n",
      "sparse_transfer_learning_modifiers:\r\n",
      "  - !ConstantPruningModifier\r\n",
      "    start_epoch: 0.0\r\n",
      "    params: __ALL_PRUNABLE__\r\n"
     ]
    }
   ],
   "source": [
    "!cat ./dense_model/dense-recipe.yaml"
   ]
  },
  {
   "cell_type": "code",
   "execution_count": 10,
   "id": "1749e00d",
   "metadata": {},
   "outputs": [],
   "source": [
    "from sparseml.pytorch.optim import ScheduledModifierManager\n",
    "\n",
    "# create ScheduledModifierManager and Optimizer wrapper\n",
    "manager = ScheduledModifierManager.from_yaml(\"./dense_model/dense-recipe.yaml\")\n",
    "optimizer = manager.modify(model, optimizer, steps_per_epoch=len(train_loader))"
   ]
  },
  {
   "cell_type": "code",
   "execution_count": 11,
   "id": "1217c3e9",
   "metadata": {},
   "outputs": [
    {
     "name": "stdout",
     "output_type": "stream",
     "text": [
      "conv1.weight: 0.0000\n",
      "layer1.0.conv1.weight: 0.0000\n",
      "layer1.0.conv2.weight: 0.0000\n",
      "layer1.0.conv3.weight: 0.0000\n",
      "layer1.0.downsample.0.weight: 0.0000\n",
      "layer1.1.conv1.weight: 0.0000\n",
      "layer1.1.conv2.weight: 0.0000\n",
      "layer1.1.conv3.weight: 0.0000\n",
      "layer1.2.conv1.weight: 0.0000\n",
      "layer1.2.conv2.weight: 0.0000\n",
      "layer1.2.conv3.weight: 0.0000\n",
      "layer2.0.conv1.weight: 0.0000\n",
      "layer2.0.conv2.weight: 0.0000\n",
      "layer2.0.conv3.weight: 0.0000\n",
      "layer2.0.downsample.0.weight: 0.0000\n",
      "layer2.1.conv1.weight: 0.0000\n",
      "layer2.1.conv2.weight: 0.0000\n",
      "layer2.1.conv3.weight: 0.0000\n",
      "layer2.2.conv1.weight: 0.0000\n",
      "layer2.2.conv2.weight: 0.0000\n",
      "layer2.2.conv3.weight: 0.0000\n",
      "layer2.3.conv1.weight: 0.0000\n",
      "layer2.3.conv2.weight: 0.0000\n",
      "layer2.3.conv3.weight: 0.0000\n",
      "layer3.0.conv1.weight: 0.0000\n",
      "layer3.0.conv2.weight: 0.0000\n",
      "layer3.0.conv3.weight: 0.0000\n",
      "layer3.0.downsample.0.weight: 0.0000\n",
      "layer3.1.conv1.weight: 0.0000\n",
      "layer3.1.conv2.weight: 0.0000\n",
      "layer3.1.conv3.weight: 0.0000\n",
      "layer3.2.conv1.weight: 0.0000\n",
      "layer3.2.conv2.weight: 0.0000\n",
      "layer3.2.conv3.weight: 0.0000\n",
      "layer3.3.conv1.weight: 0.0000\n",
      "layer3.3.conv2.weight: 0.0000\n",
      "layer3.3.conv3.weight: 0.0000\n",
      "layer3.4.conv1.weight: 0.0000\n",
      "layer3.4.conv2.weight: 0.0000\n",
      "layer3.4.conv3.weight: 0.0000\n",
      "layer3.5.conv1.weight: 0.0000\n",
      "layer3.5.conv2.weight: 0.0000\n",
      "layer3.5.conv3.weight: 0.0000\n",
      "layer4.0.conv1.weight: 0.0000\n",
      "layer4.0.conv2.weight: 0.0000\n",
      "layer4.0.conv3.weight: 0.0000\n",
      "layer4.0.downsample.0.weight: 0.0000\n",
      "layer4.1.conv1.weight: 0.0000\n",
      "layer4.1.conv2.weight: 0.0000\n",
      "layer4.1.conv3.weight: 0.0000\n",
      "layer4.2.conv1.weight: 0.0000\n",
      "layer4.2.conv2.weight: 0.0000\n",
      "layer4.2.conv3.weight: 0.0000\n",
      "fc.weight: 0.0000\n"
     ]
    }
   ],
   "source": [
    "from sparseml.pytorch.utils import get_prunable_layers, tensor_sparsity\n",
    "\n",
    "# print sparsities of each layer\n",
    "for (name, layer) in get_prunable_layers(model):\n",
    "    print(f\"{name}.weight: {tensor_sparsity(layer.weight).item():.4f}\")"
   ]
  },
  {
   "cell_type": "code",
   "execution_count": 12,
   "id": "d00d175b",
   "metadata": {
    "scrolled": false
   },
   "outputs": [
    {
     "name": "stdout",
     "output_type": "stream",
     "text": [
      "Running Training Epoch 1/10\n"
     ]
    },
    {
     "data": {
      "application/vnd.jupyter.widget-view+json": {
       "model_id": "ddc6372a986f463ebfd4eb9a87f3a394",
       "version_major": 2,
       "version_minor": 0
      },
      "text/plain": [
       "  0%|          | 0/17 [00:00<?, ?it/s]"
      ]
     },
     "metadata": {},
     "output_type": "display_data"
    },
    {
     "name": "stdout",
     "output_type": "stream",
     "text": [
      "Training Epoch: 1/10\n",
      "Training Loss: 0.4339083959074581\n",
      "Top 1 Acc: 0.8404255319148937\n",
      "\n",
      "Running Validation Epoch 1/10\n"
     ]
    },
    {
     "data": {
      "application/vnd.jupyter.widget-view+json": {
       "model_id": "50459accdf814889a17105987bb67241",
       "version_major": 2,
       "version_minor": 0
      },
      "text/plain": [
       "  0%|          | 0/3 [00:00<?, ?it/s]"
      ]
     },
     "metadata": {},
     "output_type": "display_data"
    },
    {
     "name": "stdout",
     "output_type": "stream",
     "text": [
      "Validation Epoch: 1/10\n",
      "Val Loss: 0.248091588417689\n",
      "Top 1 Acc: 0.9548872180451128\n",
      "\n",
      "Running Training Epoch 2/10\n"
     ]
    },
    {
     "data": {
      "application/vnd.jupyter.widget-view+json": {
       "model_id": "83df4e5627e44235b934280a8401808a",
       "version_major": 2,
       "version_minor": 0
      },
      "text/plain": [
       "  0%|          | 0/17 [00:00<?, ?it/s]"
      ]
     },
     "metadata": {},
     "output_type": "display_data"
    },
    {
     "name": "stdout",
     "output_type": "stream",
     "text": [
      "Training Epoch: 2/10\n",
      "Training Loss: 0.06769604531719405\n",
      "Top 1 Acc: 0.9816247582205029\n",
      "\n",
      "Running Validation Epoch 2/10\n"
     ]
    },
    {
     "data": {
      "application/vnd.jupyter.widget-view+json": {
       "model_id": "4861ebb90907415c96ca05b18eb6fd1f",
       "version_major": 2,
       "version_minor": 0
      },
      "text/plain": [
       "  0%|          | 0/3 [00:00<?, ?it/s]"
      ]
     },
     "metadata": {},
     "output_type": "display_data"
    },
    {
     "name": "stdout",
     "output_type": "stream",
     "text": [
      "Validation Epoch: 2/10\n",
      "Val Loss: 0.16374425676379664\n",
      "Top 1 Acc: 0.924812030075188\n",
      "\n",
      "Running Training Epoch 3/10\n"
     ]
    },
    {
     "data": {
      "application/vnd.jupyter.widget-view+json": {
       "model_id": "3b68fbd6e4e04a21ba278144368a48f4",
       "version_major": 2,
       "version_minor": 0
      },
      "text/plain": [
       "  0%|          | 0/17 [00:00<?, ?it/s]"
      ]
     },
     "metadata": {},
     "output_type": "display_data"
    },
    {
     "name": "stdout",
     "output_type": "stream",
     "text": [
      "Training Epoch: 3/10\n",
      "Training Loss: 0.02384376264971626\n",
      "Top 1 Acc: 0.9932301740812379\n",
      "\n",
      "Running Validation Epoch 3/10\n"
     ]
    },
    {
     "data": {
      "application/vnd.jupyter.widget-view+json": {
       "model_id": "c12285e040534bd0b2a1e22649ddc1f9",
       "version_major": 2,
       "version_minor": 0
      },
      "text/plain": [
       "  0%|          | 0/3 [00:00<?, ?it/s]"
      ]
     },
     "metadata": {},
     "output_type": "display_data"
    },
    {
     "name": "stdout",
     "output_type": "stream",
     "text": [
      "Validation Epoch: 3/10\n",
      "Val Loss: 0.049745342917352296\n",
      "Top 1 Acc: 0.9849624060150376\n",
      "\n",
      "Running Training Epoch 4/10\n"
     ]
    },
    {
     "data": {
      "application/vnd.jupyter.widget-view+json": {
       "model_id": "ce8896643f1345828a2058e04a497b0f",
       "version_major": 2,
       "version_minor": 0
      },
      "text/plain": [
       "  0%|          | 0/17 [00:00<?, ?it/s]"
      ]
     },
     "metadata": {},
     "output_type": "display_data"
    },
    {
     "name": "stdout",
     "output_type": "stream",
     "text": [
      "Training Epoch: 4/10\n",
      "Training Loss: 0.09208150484653957\n",
      "Top 1 Acc: 0.9922630560928434\n",
      "\n",
      "Running Validation Epoch 4/10\n"
     ]
    },
    {
     "data": {
      "application/vnd.jupyter.widget-view+json": {
       "model_id": "e1443e8ceaee4563884b43951fadb32d",
       "version_major": 2,
       "version_minor": 0
      },
      "text/plain": [
       "  0%|          | 0/3 [00:00<?, ?it/s]"
      ]
     },
     "metadata": {},
     "output_type": "display_data"
    },
    {
     "name": "stdout",
     "output_type": "stream",
     "text": [
      "Validation Epoch: 4/10\n",
      "Val Loss: 0.0414201499883499\n",
      "Top 1 Acc: 0.9774436090225563\n",
      "\n",
      "Running Training Epoch 5/10\n"
     ]
    },
    {
     "data": {
      "application/vnd.jupyter.widget-view+json": {
       "model_id": "e158ef40dbb24e1e82dba48a5175094f",
       "version_major": 2,
       "version_minor": 0
      },
      "text/plain": [
       "  0%|          | 0/17 [00:00<?, ?it/s]"
      ]
     },
     "metadata": {},
     "output_type": "display_data"
    },
    {
     "name": "stdout",
     "output_type": "stream",
     "text": [
      "Training Epoch: 5/10\n",
      "Training Loss: 0.05627283230697846\n",
      "Top 1 Acc: 0.9835589941972921\n",
      "\n",
      "Running Validation Epoch 5/10\n"
     ]
    },
    {
     "data": {
      "application/vnd.jupyter.widget-view+json": {
       "model_id": "35196861a6e04149b0da473fd551894f",
       "version_major": 2,
       "version_minor": 0
      },
      "text/plain": [
       "  0%|          | 0/3 [00:00<?, ?it/s]"
      ]
     },
     "metadata": {},
     "output_type": "display_data"
    },
    {
     "name": "stdout",
     "output_type": "stream",
     "text": [
      "Validation Epoch: 5/10\n",
      "Val Loss: 0.018425415522263695\n",
      "Top 1 Acc: 0.9849624060150376\n",
      "\n",
      "Running Training Epoch 6/10\n"
     ]
    },
    {
     "data": {
      "application/vnd.jupyter.widget-view+json": {
       "model_id": "f376300a2992438e987705b61ed3622c",
       "version_major": 2,
       "version_minor": 0
      },
      "text/plain": [
       "  0%|          | 0/17 [00:00<?, ?it/s]"
      ]
     },
     "metadata": {},
     "output_type": "display_data"
    },
    {
     "name": "stdout",
     "output_type": "stream",
     "text": [
      "Training Epoch: 6/10\n",
      "Training Loss: 0.01825398319017361\n",
      "Top 1 Acc: 0.995164410058027\n",
      "\n",
      "Running Validation Epoch 6/10\n"
     ]
    },
    {
     "data": {
      "application/vnd.jupyter.widget-view+json": {
       "model_id": "e6989019b3844c5a8babb06109624adf",
       "version_major": 2,
       "version_minor": 0
      },
      "text/plain": [
       "  0%|          | 0/3 [00:00<?, ?it/s]"
      ]
     },
     "metadata": {},
     "output_type": "display_data"
    },
    {
     "name": "stdout",
     "output_type": "stream",
     "text": [
      "Validation Epoch: 6/10\n",
      "Val Loss: 0.03305983874209536\n",
      "Top 1 Acc: 0.9849624060150376\n",
      "\n",
      "Running Training Epoch 7/10\n"
     ]
    },
    {
     "data": {
      "application/vnd.jupyter.widget-view+json": {
       "model_id": "3b87fa5de0374b5e835cc9506c001459",
       "version_major": 2,
       "version_minor": 0
      },
      "text/plain": [
       "  0%|          | 0/17 [00:00<?, ?it/s]"
      ]
     },
     "metadata": {},
     "output_type": "display_data"
    },
    {
     "name": "stdout",
     "output_type": "stream",
     "text": [
      "Training Epoch: 7/10\n",
      "Training Loss: 0.019919913084081867\n",
      "Top 1 Acc: 0.9980657640232108\n",
      "\n",
      "Running Validation Epoch 7/10\n"
     ]
    },
    {
     "data": {
      "application/vnd.jupyter.widget-view+json": {
       "model_id": "985407c44f8f43c9826e187ce6ee211b",
       "version_major": 2,
       "version_minor": 0
      },
      "text/plain": [
       "  0%|          | 0/3 [00:00<?, ?it/s]"
      ]
     },
     "metadata": {},
     "output_type": "display_data"
    },
    {
     "name": "stdout",
     "output_type": "stream",
     "text": [
      "Validation Epoch: 7/10\n",
      "Val Loss: 0.009156467043794692\n",
      "Top 1 Acc: 1.0\n",
      "\n",
      "Running Training Epoch 8/10\n"
     ]
    },
    {
     "data": {
      "application/vnd.jupyter.widget-view+json": {
       "model_id": "a02f509c95664f7f97826611c5bfe256",
       "version_major": 2,
       "version_minor": 0
      },
      "text/plain": [
       "  0%|          | 0/17 [00:00<?, ?it/s]"
      ]
     },
     "metadata": {},
     "output_type": "display_data"
    },
    {
     "name": "stdout",
     "output_type": "stream",
     "text": [
      "Training Epoch: 8/10\n",
      "Training Loss: 0.027912832608254737\n",
      "Top 1 Acc: 0.9990328820116054\n",
      "\n",
      "Running Validation Epoch 8/10\n"
     ]
    },
    {
     "data": {
      "application/vnd.jupyter.widget-view+json": {
       "model_id": "1fe9ca9b315447d7bd4726d5ad51c3bb",
       "version_major": 2,
       "version_minor": 0
      },
      "text/plain": [
       "  0%|          | 0/3 [00:00<?, ?it/s]"
      ]
     },
     "metadata": {},
     "output_type": "display_data"
    },
    {
     "name": "stdout",
     "output_type": "stream",
     "text": [
      "Validation Epoch: 8/10\n",
      "Val Loss: 0.008448541047982872\n",
      "Top 1 Acc: 1.0\n",
      "\n",
      "Running Training Epoch 9/10\n"
     ]
    },
    {
     "data": {
      "application/vnd.jupyter.widget-view+json": {
       "model_id": "0733093fce85461ba8206421e11783c4",
       "version_major": 2,
       "version_minor": 0
      },
      "text/plain": [
       "  0%|          | 0/17 [00:00<?, ?it/s]"
      ]
     },
     "metadata": {},
     "output_type": "display_data"
    },
    {
     "name": "stdout",
     "output_type": "stream",
     "text": [
      "Training Epoch: 9/10\n",
      "Training Loss: 0.006125200964400873\n",
      "Top 1 Acc: 1.0\n",
      "\n",
      "Running Validation Epoch 9/10\n"
     ]
    },
    {
     "data": {
      "application/vnd.jupyter.widget-view+json": {
       "model_id": "fe544acaa799482389d56fc964a92a6e",
       "version_major": 2,
       "version_minor": 0
      },
      "text/plain": [
       "  0%|          | 0/3 [00:00<?, ?it/s]"
      ]
     },
     "metadata": {},
     "output_type": "display_data"
    },
    {
     "name": "stdout",
     "output_type": "stream",
     "text": [
      "Validation Epoch: 9/10\n",
      "Val Loss: 0.006565663294168189\n",
      "Top 1 Acc: 1.0\n",
      "\n",
      "Running Training Epoch 10/10\n"
     ]
    },
    {
     "data": {
      "application/vnd.jupyter.widget-view+json": {
       "model_id": "d77f15fd932b4bea875da981f61428cf",
       "version_major": 2,
       "version_minor": 0
      },
      "text/plain": [
       "  0%|          | 0/17 [00:00<?, ?it/s]"
      ]
     },
     "metadata": {},
     "output_type": "display_data"
    },
    {
     "name": "stdout",
     "output_type": "stream",
     "text": [
      "Training Epoch: 10/10\n",
      "Training Loss: 0.003272765227045645\n",
      "Top 1 Acc: 1.0\n",
      "\n",
      "Running Validation Epoch 10/10\n"
     ]
    },
    {
     "data": {
      "application/vnd.jupyter.widget-view+json": {
       "model_id": "45026f95773c4f2799d18ed949360aab",
       "version_major": 2,
       "version_minor": 0
      },
      "text/plain": [
       "  0%|          | 0/3 [00:00<?, ?it/s]"
      ]
     },
     "metadata": {},
     "output_type": "display_data"
    },
    {
     "name": "stdout",
     "output_type": "stream",
     "text": [
      "Validation Epoch: 10/10\n",
      "Val Loss: 0.007307609868197081\n",
      "Top 1 Acc: 1.0\n",
      "\n"
     ]
    }
   ],
   "source": [
    "# run transfer learning\n",
    "epoch = 0\n",
    "for epoch in range(manager.max_epochs):\n",
    "    # run training loop\n",
    "    epoch_name = f\"{epoch + 1}/{manager.max_epochs}\"\n",
    "    print(f\"Running Training Epoch {epoch_name}\")\n",
    "    train_loss, train_acc = run_model_one_epoch(\n",
    "        model, train_loader, criterion, device, train=True, optimizer=optimizer\n",
    "    )\n",
    "    print(\n",
    "        f\"Training Epoch: {epoch_name}\\nTraining Loss: {train_loss}\\nTop 1 Acc: {train_acc}\\n\"\n",
    "    )\n",
    "\n",
    "    # run validation loop\n",
    "    print(f\"Running Validation Epoch {epoch_name}\")\n",
    "    val_loss, val_acc = run_model_one_epoch(model, val_loader, criterion, device)\n",
    "    print(\n",
    "        f\"Validation Epoch: {epoch_name}\\nVal Loss: {val_loss}\\nTop 1 Acc: {val_acc}\\n\"\n",
    "    )\n",
    "\n",
    "manager.finalize(model)"
   ]
  },
  {
   "cell_type": "code",
   "execution_count": 13,
   "id": "11fa4cf2",
   "metadata": {},
   "outputs": [],
   "source": [
    "from sparseml.pytorch.utils import ModuleExporter\n",
    "\n",
    "save_dir = \"dense_model\"\n",
    "exporter = ModuleExporter(model, output_dir=save_dir)\n",
    "exporter.export_pytorch(name=\"resnet-50-dense-beans.pth\")"
   ]
  },
  {
   "cell_type": "code",
   "execution_count": 36,
   "id": "9b17fc31",
   "metadata": {},
   "outputs": [
    {
     "name": "stdout",
     "output_type": "stream",
     "text": [
      "# Epoch and Learning-Rate variables\r\n",
      "num_epochs: 10.0\r\n",
      "init_lr: 0.00025\r\n",
      "inter_func: cubic\r\n",
      "mask_type: unstructured\r\n",
      "\r\n",
      "training_modifiers:\r\n",
      "  - !EpochRangeModifier\r\n",
      "    start_epoch: 0.0\r\n",
      "    end_epoch: eval(num_epochs)\r\n",
      "\r\n",
      "  - !LearningRateFunctionModifier\r\n",
      "    final_lr: 0.0\r\n",
      "    init_lr: eval(init_lr)\r\n",
      "    lr_func: cosine\r\n",
      "    start_epoch: 0.0\r\n",
      "    end_epoch: eval(num_epochs)\r\n",
      "\r\n",
      "# Pruning\r\n",
      "pruning_modifiers:\r\n",
      "   - !GlobalMagnitudePruningModifier\r\n",
      "     init_sparsity: 0.05\r\n",
      "     final_sparsity: 0.90\r\n",
      "     start_epoch: 0.0\r\n",
      "     end_epoch: eval(num_epochs)\r\n",
      "     update_frequency: 1.0\r\n",
      "     params: \r\n",
      "        - 're:layer1.*.conv1.weight'\r\n",
      "        - 're:layer1.*.conv2.weight'\r\n",
      "        - 're:layer1.*.conv3.weight'\r\n",
      "        - 're:layer1.0.downsample.0.weight'\r\n",
      "        - 're:layer2.*.conv1.weight'\r\n",
      "        - 're:layer2.*.conv2.weight'\r\n",
      "        - 're:layer2.*.conv3.weight'\r\n",
      "        - 're:layer2.0.downsample.0.weight'\r\n",
      "        - 're:layer3.*.conv1.weight'\r\n",
      "        - 're:layer3.*.conv2.weight'\r\n",
      "        - 're:layer3.*.conv3.weight'\r\n",
      "        - 're:layer3.0.downsample.0.weight'\r\n",
      "        - 're:layer4.*.conv1.weight'\r\n",
      "        - 're:layer4.*.conv2.weight'\r\n",
      "        - 're:layer4.*.conv3.weight'\r\n",
      "        - 're:layer4.0.downsample.0.weight'\r\n",
      "     leave_enabled: True\r\n",
      "     inter_func: eval(inter_func)\r\n",
      "     mask_type: eval(mask_type)\r\n"
     ]
    }
   ],
   "source": [
    "%cat recipe-0.yaml"
   ]
  },
  {
   "cell_type": "code",
   "execution_count": 37,
   "id": "8447d074",
   "metadata": {},
   "outputs": [],
   "source": [
    "checkpoint = torch.load(\"./dense_model/training/resnet-50-dense-beans.pth\")\n",
    "model = torchvision.models.resnet50()\n",
    "model.fc = torch.nn.Linear(model.fc.in_features, NUM_LABELS)\n",
    "model.load_state_dict(checkpoint['state_dict'])\n",
    "model.to(device)\n",
    "\n",
    "# setup loss function and optimizer, LR will be overriden by sparseml\n",
    "criterion = CrossEntropyLoss()\n",
    "optimizer = Adam(model.parameters(), lr=8e-3)"
   ]
  },
  {
   "cell_type": "code",
   "execution_count": 38,
   "id": "9154d351",
   "metadata": {
    "scrolled": false
   },
   "outputs": [
    {
     "name": "stdout",
     "output_type": "stream",
     "text": [
      "ResNet(\n",
      "  (conv1): Conv2d(3, 64, kernel_size=(7, 7), stride=(2, 2), padding=(3, 3), bias=False)\n",
      "  (bn1): BatchNorm2d(64, eps=1e-05, momentum=0.1, affine=True, track_running_stats=True)\n",
      "  (relu): ReLU(inplace=True)\n",
      "  (maxpool): MaxPool2d(kernel_size=3, stride=2, padding=1, dilation=1, ceil_mode=False)\n",
      "  (layer1): Sequential(\n",
      "    (0): Bottleneck(\n",
      "      (conv1): Conv2d(64, 64, kernel_size=(1, 1), stride=(1, 1), bias=False)\n",
      "      (bn1): BatchNorm2d(64, eps=1e-05, momentum=0.1, affine=True, track_running_stats=True)\n",
      "      (conv2): Conv2d(64, 64, kernel_size=(3, 3), stride=(1, 1), padding=(1, 1), bias=False)\n",
      "      (bn2): BatchNorm2d(64, eps=1e-05, momentum=0.1, affine=True, track_running_stats=True)\n",
      "      (conv3): Conv2d(64, 256, kernel_size=(1, 1), stride=(1, 1), bias=False)\n",
      "      (bn3): BatchNorm2d(256, eps=1e-05, momentum=0.1, affine=True, track_running_stats=True)\n",
      "      (relu): ReLU(inplace=True)\n",
      "      (downsample): Sequential(\n",
      "        (0): Conv2d(64, 256, kernel_size=(1, 1), stride=(1, 1), bias=False)\n",
      "        (1): BatchNorm2d(256, eps=1e-05, momentum=0.1, affine=True, track_running_stats=True)\n",
      "      )\n",
      "    )\n",
      "    (1): Bottleneck(\n",
      "      (conv1): Conv2d(256, 64, kernel_size=(1, 1), stride=(1, 1), bias=False)\n",
      "      (bn1): BatchNorm2d(64, eps=1e-05, momentum=0.1, affine=True, track_running_stats=True)\n",
      "      (conv2): Conv2d(64, 64, kernel_size=(3, 3), stride=(1, 1), padding=(1, 1), bias=False)\n",
      "      (bn2): BatchNorm2d(64, eps=1e-05, momentum=0.1, affine=True, track_running_stats=True)\n",
      "      (conv3): Conv2d(64, 256, kernel_size=(1, 1), stride=(1, 1), bias=False)\n",
      "      (bn3): BatchNorm2d(256, eps=1e-05, momentum=0.1, affine=True, track_running_stats=True)\n",
      "      (relu): ReLU(inplace=True)\n",
      "    )\n",
      "    (2): Bottleneck(\n",
      "      (conv1): Conv2d(256, 64, kernel_size=(1, 1), stride=(1, 1), bias=False)\n",
      "      (bn1): BatchNorm2d(64, eps=1e-05, momentum=0.1, affine=True, track_running_stats=True)\n",
      "      (conv2): Conv2d(64, 64, kernel_size=(3, 3), stride=(1, 1), padding=(1, 1), bias=False)\n",
      "      (bn2): BatchNorm2d(64, eps=1e-05, momentum=0.1, affine=True, track_running_stats=True)\n",
      "      (conv3): Conv2d(64, 256, kernel_size=(1, 1), stride=(1, 1), bias=False)\n",
      "      (bn3): BatchNorm2d(256, eps=1e-05, momentum=0.1, affine=True, track_running_stats=True)\n",
      "      (relu): ReLU(inplace=True)\n",
      "    )\n",
      "  )\n",
      "  (layer2): Sequential(\n",
      "    (0): Bottleneck(\n",
      "      (conv1): Conv2d(256, 128, kernel_size=(1, 1), stride=(1, 1), bias=False)\n",
      "      (bn1): BatchNorm2d(128, eps=1e-05, momentum=0.1, affine=True, track_running_stats=True)\n",
      "      (conv2): Conv2d(128, 128, kernel_size=(3, 3), stride=(2, 2), padding=(1, 1), bias=False)\n",
      "      (bn2): BatchNorm2d(128, eps=1e-05, momentum=0.1, affine=True, track_running_stats=True)\n",
      "      (conv3): Conv2d(128, 512, kernel_size=(1, 1), stride=(1, 1), bias=False)\n",
      "      (bn3): BatchNorm2d(512, eps=1e-05, momentum=0.1, affine=True, track_running_stats=True)\n",
      "      (relu): ReLU(inplace=True)\n",
      "      (downsample): Sequential(\n",
      "        (0): Conv2d(256, 512, kernel_size=(1, 1), stride=(2, 2), bias=False)\n",
      "        (1): BatchNorm2d(512, eps=1e-05, momentum=0.1, affine=True, track_running_stats=True)\n",
      "      )\n",
      "    )\n",
      "    (1): Bottleneck(\n",
      "      (conv1): Conv2d(512, 128, kernel_size=(1, 1), stride=(1, 1), bias=False)\n",
      "      (bn1): BatchNorm2d(128, eps=1e-05, momentum=0.1, affine=True, track_running_stats=True)\n",
      "      (conv2): Conv2d(128, 128, kernel_size=(3, 3), stride=(1, 1), padding=(1, 1), bias=False)\n",
      "      (bn2): BatchNorm2d(128, eps=1e-05, momentum=0.1, affine=True, track_running_stats=True)\n",
      "      (conv3): Conv2d(128, 512, kernel_size=(1, 1), stride=(1, 1), bias=False)\n",
      "      (bn3): BatchNorm2d(512, eps=1e-05, momentum=0.1, affine=True, track_running_stats=True)\n",
      "      (relu): ReLU(inplace=True)\n",
      "    )\n",
      "    (2): Bottleneck(\n",
      "      (conv1): Conv2d(512, 128, kernel_size=(1, 1), stride=(1, 1), bias=False)\n",
      "      (bn1): BatchNorm2d(128, eps=1e-05, momentum=0.1, affine=True, track_running_stats=True)\n",
      "      (conv2): Conv2d(128, 128, kernel_size=(3, 3), stride=(1, 1), padding=(1, 1), bias=False)\n",
      "      (bn2): BatchNorm2d(128, eps=1e-05, momentum=0.1, affine=True, track_running_stats=True)\n",
      "      (conv3): Conv2d(128, 512, kernel_size=(1, 1), stride=(1, 1), bias=False)\n",
      "      (bn3): BatchNorm2d(512, eps=1e-05, momentum=0.1, affine=True, track_running_stats=True)\n",
      "      (relu): ReLU(inplace=True)\n",
      "    )\n",
      "    (3): Bottleneck(\n",
      "      (conv1): Conv2d(512, 128, kernel_size=(1, 1), stride=(1, 1), bias=False)\n",
      "      (bn1): BatchNorm2d(128, eps=1e-05, momentum=0.1, affine=True, track_running_stats=True)\n",
      "      (conv2): Conv2d(128, 128, kernel_size=(3, 3), stride=(1, 1), padding=(1, 1), bias=False)\n",
      "      (bn2): BatchNorm2d(128, eps=1e-05, momentum=0.1, affine=True, track_running_stats=True)\n",
      "      (conv3): Conv2d(128, 512, kernel_size=(1, 1), stride=(1, 1), bias=False)\n",
      "      (bn3): BatchNorm2d(512, eps=1e-05, momentum=0.1, affine=True, track_running_stats=True)\n",
      "      (relu): ReLU(inplace=True)\n",
      "    )\n",
      "  )\n",
      "  (layer3): Sequential(\n",
      "    (0): Bottleneck(\n",
      "      (conv1): Conv2d(512, 256, kernel_size=(1, 1), stride=(1, 1), bias=False)\n",
      "      (bn1): BatchNorm2d(256, eps=1e-05, momentum=0.1, affine=True, track_running_stats=True)\n",
      "      (conv2): Conv2d(256, 256, kernel_size=(3, 3), stride=(2, 2), padding=(1, 1), bias=False)\n",
      "      (bn2): BatchNorm2d(256, eps=1e-05, momentum=0.1, affine=True, track_running_stats=True)\n",
      "      (conv3): Conv2d(256, 1024, kernel_size=(1, 1), stride=(1, 1), bias=False)\n",
      "      (bn3): BatchNorm2d(1024, eps=1e-05, momentum=0.1, affine=True, track_running_stats=True)\n",
      "      (relu): ReLU(inplace=True)\n",
      "      (downsample): Sequential(\n",
      "        (0): Conv2d(512, 1024, kernel_size=(1, 1), stride=(2, 2), bias=False)\n",
      "        (1): BatchNorm2d(1024, eps=1e-05, momentum=0.1, affine=True, track_running_stats=True)\n",
      "      )\n",
      "    )\n",
      "    (1): Bottleneck(\n",
      "      (conv1): Conv2d(1024, 256, kernel_size=(1, 1), stride=(1, 1), bias=False)\n",
      "      (bn1): BatchNorm2d(256, eps=1e-05, momentum=0.1, affine=True, track_running_stats=True)\n",
      "      (conv2): Conv2d(256, 256, kernel_size=(3, 3), stride=(1, 1), padding=(1, 1), bias=False)\n",
      "      (bn2): BatchNorm2d(256, eps=1e-05, momentum=0.1, affine=True, track_running_stats=True)\n",
      "      (conv3): Conv2d(256, 1024, kernel_size=(1, 1), stride=(1, 1), bias=False)\n",
      "      (bn3): BatchNorm2d(1024, eps=1e-05, momentum=0.1, affine=True, track_running_stats=True)\n",
      "      (relu): ReLU(inplace=True)\n",
      "    )\n",
      "    (2): Bottleneck(\n",
      "      (conv1): Conv2d(1024, 256, kernel_size=(1, 1), stride=(1, 1), bias=False)\n",
      "      (bn1): BatchNorm2d(256, eps=1e-05, momentum=0.1, affine=True, track_running_stats=True)\n",
      "      (conv2): Conv2d(256, 256, kernel_size=(3, 3), stride=(1, 1), padding=(1, 1), bias=False)\n",
      "      (bn2): BatchNorm2d(256, eps=1e-05, momentum=0.1, affine=True, track_running_stats=True)\n",
      "      (conv3): Conv2d(256, 1024, kernel_size=(1, 1), stride=(1, 1), bias=False)\n",
      "      (bn3): BatchNorm2d(1024, eps=1e-05, momentum=0.1, affine=True, track_running_stats=True)\n",
      "      (relu): ReLU(inplace=True)\n",
      "    )\n",
      "    (3): Bottleneck(\n",
      "      (conv1): Conv2d(1024, 256, kernel_size=(1, 1), stride=(1, 1), bias=False)\n",
      "      (bn1): BatchNorm2d(256, eps=1e-05, momentum=0.1, affine=True, track_running_stats=True)\n",
      "      (conv2): Conv2d(256, 256, kernel_size=(3, 3), stride=(1, 1), padding=(1, 1), bias=False)\n",
      "      (bn2): BatchNorm2d(256, eps=1e-05, momentum=0.1, affine=True, track_running_stats=True)\n",
      "      (conv3): Conv2d(256, 1024, kernel_size=(1, 1), stride=(1, 1), bias=False)\n",
      "      (bn3): BatchNorm2d(1024, eps=1e-05, momentum=0.1, affine=True, track_running_stats=True)\n",
      "      (relu): ReLU(inplace=True)\n",
      "    )\n",
      "    (4): Bottleneck(\n",
      "      (conv1): Conv2d(1024, 256, kernel_size=(1, 1), stride=(1, 1), bias=False)\n",
      "      (bn1): BatchNorm2d(256, eps=1e-05, momentum=0.1, affine=True, track_running_stats=True)\n",
      "      (conv2): Conv2d(256, 256, kernel_size=(3, 3), stride=(1, 1), padding=(1, 1), bias=False)\n",
      "      (bn2): BatchNorm2d(256, eps=1e-05, momentum=0.1, affine=True, track_running_stats=True)\n",
      "      (conv3): Conv2d(256, 1024, kernel_size=(1, 1), stride=(1, 1), bias=False)\n",
      "      (bn3): BatchNorm2d(1024, eps=1e-05, momentum=0.1, affine=True, track_running_stats=True)\n",
      "      (relu): ReLU(inplace=True)\n",
      "    )\n",
      "    (5): Bottleneck(\n",
      "      (conv1): Conv2d(1024, 256, kernel_size=(1, 1), stride=(1, 1), bias=False)\n",
      "      (bn1): BatchNorm2d(256, eps=1e-05, momentum=0.1, affine=True, track_running_stats=True)\n",
      "      (conv2): Conv2d(256, 256, kernel_size=(3, 3), stride=(1, 1), padding=(1, 1), bias=False)\n",
      "      (bn2): BatchNorm2d(256, eps=1e-05, momentum=0.1, affine=True, track_running_stats=True)\n",
      "      (conv3): Conv2d(256, 1024, kernel_size=(1, 1), stride=(1, 1), bias=False)\n",
      "      (bn3): BatchNorm2d(1024, eps=1e-05, momentum=0.1, affine=True, track_running_stats=True)\n",
      "      (relu): ReLU(inplace=True)\n",
      "    )\n",
      "  )\n",
      "  (layer4): Sequential(\n",
      "    (0): Bottleneck(\n",
      "      (conv1): Conv2d(1024, 512, kernel_size=(1, 1), stride=(1, 1), bias=False)\n",
      "      (bn1): BatchNorm2d(512, eps=1e-05, momentum=0.1, affine=True, track_running_stats=True)\n",
      "      (conv2): Conv2d(512, 512, kernel_size=(3, 3), stride=(2, 2), padding=(1, 1), bias=False)\n",
      "      (bn2): BatchNorm2d(512, eps=1e-05, momentum=0.1, affine=True, track_running_stats=True)\n",
      "      (conv3): Conv2d(512, 2048, kernel_size=(1, 1), stride=(1, 1), bias=False)\n",
      "      (bn3): BatchNorm2d(2048, eps=1e-05, momentum=0.1, affine=True, track_running_stats=True)\n",
      "      (relu): ReLU(inplace=True)\n",
      "      (downsample): Sequential(\n",
      "        (0): Conv2d(1024, 2048, kernel_size=(1, 1), stride=(2, 2), bias=False)\n",
      "        (1): BatchNorm2d(2048, eps=1e-05, momentum=0.1, affine=True, track_running_stats=True)\n",
      "      )\n",
      "    )\n",
      "    (1): Bottleneck(\n",
      "      (conv1): Conv2d(2048, 512, kernel_size=(1, 1), stride=(1, 1), bias=False)\n",
      "      (bn1): BatchNorm2d(512, eps=1e-05, momentum=0.1, affine=True, track_running_stats=True)\n",
      "      (conv2): Conv2d(512, 512, kernel_size=(3, 3), stride=(1, 1), padding=(1, 1), bias=False)\n",
      "      (bn2): BatchNorm2d(512, eps=1e-05, momentum=0.1, affine=True, track_running_stats=True)\n",
      "      (conv3): Conv2d(512, 2048, kernel_size=(1, 1), stride=(1, 1), bias=False)\n",
      "      (bn3): BatchNorm2d(2048, eps=1e-05, momentum=0.1, affine=True, track_running_stats=True)\n",
      "      (relu): ReLU(inplace=True)\n",
      "    )\n",
      "    (2): Bottleneck(\n",
      "      (conv1): Conv2d(2048, 512, kernel_size=(1, 1), stride=(1, 1), bias=False)\n",
      "      (bn1): BatchNorm2d(512, eps=1e-05, momentum=0.1, affine=True, track_running_stats=True)\n",
      "      (conv2): Conv2d(512, 512, kernel_size=(3, 3), stride=(1, 1), padding=(1, 1), bias=False)\n",
      "      (bn2): BatchNorm2d(512, eps=1e-05, momentum=0.1, affine=True, track_running_stats=True)\n",
      "      (conv3): Conv2d(512, 2048, kernel_size=(1, 1), stride=(1, 1), bias=False)\n",
      "      (bn3): BatchNorm2d(2048, eps=1e-05, momentum=0.1, affine=True, track_running_stats=True)\n",
      "      (relu): ReLU(inplace=True)\n",
      "    )\n",
      "  )\n",
      "  (avgpool): AdaptiveAvgPool2d(output_size=(1, 1))\n",
      "  (fc): Linear(in_features=2048, out_features=3, bias=True)\n",
      ")\n"
     ]
    }
   ],
   "source": [
    "print(model)"
   ]
  },
  {
   "cell_type": "code",
   "execution_count": 39,
   "id": "68646bc7",
   "metadata": {},
   "outputs": [],
   "source": [
    "# create ScheduledModifierManager and Optimizer wrapper\n",
    "manager = ScheduledModifierManager.from_yaml(\"./recipe-0.yaml\")\n",
    "optimizer = manager.modify(model, optimizer, steps_per_epoch=len(train_loader))"
   ]
  },
  {
   "cell_type": "code",
   "execution_count": 40,
   "id": "00d26fb4",
   "metadata": {},
   "outputs": [
    {
     "name": "stdout",
     "output_type": "stream",
     "text": [
      "conv1.weight: 0.0000\n",
      "layer1.0.conv1.weight: 0.0000\n",
      "layer1.0.conv2.weight: 0.0000\n",
      "layer1.0.conv3.weight: 0.0000\n",
      "layer1.0.downsample.0.weight: 0.0000\n",
      "layer1.1.conv1.weight: 0.0000\n",
      "layer1.1.conv2.weight: 0.0000\n",
      "layer1.1.conv3.weight: 0.0000\n",
      "layer1.2.conv1.weight: 0.0000\n",
      "layer1.2.conv2.weight: 0.0000\n",
      "layer1.2.conv3.weight: 0.0000\n",
      "layer2.0.conv1.weight: 0.0000\n",
      "layer2.0.conv2.weight: 0.0000\n",
      "layer2.0.conv3.weight: 0.0000\n",
      "layer2.0.downsample.0.weight: 0.0000\n",
      "layer2.1.conv1.weight: 0.0000\n",
      "layer2.1.conv2.weight: 0.0000\n",
      "layer2.1.conv3.weight: 0.0000\n",
      "layer2.2.conv1.weight: 0.0000\n",
      "layer2.2.conv2.weight: 0.0000\n",
      "layer2.2.conv3.weight: 0.0000\n",
      "layer2.3.conv1.weight: 0.0000\n",
      "layer2.3.conv2.weight: 0.0000\n",
      "layer2.3.conv3.weight: 0.0000\n",
      "layer3.0.conv1.weight: 0.0000\n",
      "layer3.0.conv2.weight: 0.0000\n",
      "layer3.0.conv3.weight: 0.0000\n",
      "layer3.0.downsample.0.weight: 0.0000\n",
      "layer3.1.conv1.weight: 0.0000\n",
      "layer3.1.conv2.weight: 0.0000\n",
      "layer3.1.conv3.weight: 0.0000\n",
      "layer3.2.conv1.weight: 0.0000\n",
      "layer3.2.conv2.weight: 0.0000\n",
      "layer3.2.conv3.weight: 0.0000\n",
      "layer3.3.conv1.weight: 0.0000\n",
      "layer3.3.conv2.weight: 0.0000\n",
      "layer3.3.conv3.weight: 0.0000\n",
      "layer3.4.conv1.weight: 0.0000\n",
      "layer3.4.conv2.weight: 0.0000\n",
      "layer3.4.conv3.weight: 0.0000\n",
      "layer3.5.conv1.weight: 0.0000\n",
      "layer3.5.conv2.weight: 0.0000\n",
      "layer3.5.conv3.weight: 0.0000\n",
      "layer4.0.conv1.weight: 0.0000\n",
      "layer4.0.conv2.weight: 0.0000\n",
      "layer4.0.conv3.weight: 0.0000\n",
      "layer4.0.downsample.0.weight: 0.0000\n",
      "layer4.1.conv1.weight: 0.0000\n",
      "layer4.1.conv2.weight: 0.0000\n",
      "layer4.1.conv3.weight: 0.0000\n",
      "layer4.2.conv1.weight: 0.0000\n",
      "layer4.2.conv2.weight: 0.0000\n",
      "layer4.2.conv3.weight: 0.0000\n",
      "fc.weight: 0.0000\n"
     ]
    }
   ],
   "source": [
    "for (name, layer) in get_prunable_layers(model):\n",
    "    print(f\"{name}.weight: {tensor_sparsity(layer.weight).item():.4f}\")"
   ]
  },
  {
   "cell_type": "code",
   "execution_count": 41,
   "id": "601c8c21",
   "metadata": {
    "scrolled": false
   },
   "outputs": [
    {
     "name": "stdout",
     "output_type": "stream",
     "text": [
      "Running Training Epoch 1/10\n"
     ]
    },
    {
     "data": {
      "application/vnd.jupyter.widget-view+json": {
       "model_id": "64ff653882a846d382ff70d2c9a9a261",
       "version_major": 2,
       "version_minor": 0
      },
      "text/plain": [
       "  0%|          | 0/17 [00:00<?, ?it/s]"
      ]
     },
     "metadata": {},
     "output_type": "display_data"
    },
    {
     "name": "stdout",
     "output_type": "stream",
     "text": [
      "Training Epoch: 1/10\n",
      "Training Loss: 0.009745531282319194\n",
      "Top 1 Acc: 0.9980657640232108\n",
      "\n",
      "Running Validation Epoch 1/10\n"
     ]
    },
    {
     "data": {
      "application/vnd.jupyter.widget-view+json": {
       "model_id": "ade404c92c814dc987f0db7b70b101c7",
       "version_major": 2,
       "version_minor": 0
      },
      "text/plain": [
       "  0%|          | 0/3 [00:00<?, ?it/s]"
      ]
     },
     "metadata": {},
     "output_type": "display_data"
    },
    {
     "name": "stdout",
     "output_type": "stream",
     "text": [
      "Validation Epoch: 1/10\n",
      "Val Loss: 0.03642222502579292\n",
      "Top 1 Acc: 0.9849624060150376\n",
      "\n",
      "\n",
      "\n",
      "Checking Sparsity Level:\n",
      "conv1.weight: 0.0000\n",
      "layer1.0.conv1.weight: 0.0156\n",
      "layer1.0.conv2.weight: 0.0299\n",
      "layer1.0.conv3.weight: 0.0468\n",
      "layer1.0.downsample.0.weight: 0.0452\n",
      "layer1.1.conv1.weight: 0.0623\n",
      "layer1.1.conv2.weight: 0.0414\n",
      "layer1.1.conv3.weight: 0.0328\n",
      "layer1.2.conv1.weight: 0.0204\n",
      "layer1.2.conv2.weight: 0.0228\n",
      "layer1.2.conv3.weight: 0.0385\n",
      "layer2.0.conv1.weight: 0.0201\n",
      "layer2.0.conv2.weight: 0.0337\n",
      "layer2.0.conv3.weight: 0.0354\n",
      "layer2.0.downsample.0.weight: 0.0452\n",
      "layer2.1.conv1.weight: 0.0430\n",
      "layer2.1.conv2.weight: 0.0410\n",
      "layer2.1.conv3.weight: 0.0340\n",
      "layer2.2.conv1.weight: 0.0350\n",
      "layer2.2.conv2.weight: 0.0398\n",
      "layer2.2.conv3.weight: 0.0384\n",
      "layer2.3.conv1.weight: 0.0297\n",
      "layer2.3.conv2.weight: 0.0348\n",
      "layer2.3.conv3.weight: 0.0418\n",
      "layer3.0.conv1.weight: 0.0280\n",
      "layer3.0.conv2.weight: 0.0441\n",
      "layer3.0.conv3.weight: 0.0345\n",
      "layer3.0.downsample.0.weight: 0.0551\n",
      "layer3.1.conv1.weight: 0.0492\n",
      "layer3.1.conv2.weight: 0.0541\n",
      "layer3.1.conv3.weight: 0.0430\n",
      "layer3.2.conv1.weight: 0.0506\n",
      "layer3.2.conv2.weight: 0.0511\n",
      "layer3.2.conv3.weight: 0.0486\n",
      "layer3.3.conv1.weight: 0.0428\n",
      "layer3.3.conv2.weight: 0.0527\n",
      "layer3.3.conv3.weight: 0.0412\n",
      "layer3.4.conv1.weight: 0.0438\n",
      "layer3.4.conv2.weight: 0.0504\n",
      "layer3.4.conv3.weight: 0.0482\n",
      "layer3.5.conv1.weight: 0.0380\n",
      "layer3.5.conv2.weight: 0.0488\n",
      "layer3.5.conv3.weight: 0.0383\n",
      "layer4.0.conv1.weight: 0.0313\n",
      "layer4.0.conv2.weight: 0.0505\n",
      "layer4.0.conv3.weight: 0.0333\n",
      "layer4.0.downsample.0.weight: 0.0511\n",
      "layer4.1.conv1.weight: 0.0444\n",
      "layer4.1.conv2.weight: 0.0595\n",
      "layer4.1.conv3.weight: 0.0412\n",
      "layer4.2.conv1.weight: 0.0575\n",
      "layer4.2.conv2.weight: 0.0707\n",
      "layer4.2.conv3.weight: 0.0466\n",
      "fc.weight: 0.0000\n",
      "\n",
      "\n",
      "Running Training Epoch 2/10\n"
     ]
    },
    {
     "data": {
      "application/vnd.jupyter.widget-view+json": {
       "model_id": "38d0e8566f17400d90237dcc75d62a33",
       "version_major": 2,
       "version_minor": 0
      },
      "text/plain": [
       "  0%|          | 0/17 [00:00<?, ?it/s]"
      ]
     },
     "metadata": {},
     "output_type": "display_data"
    },
    {
     "name": "stdout",
     "output_type": "stream",
     "text": [
      "Training Epoch: 2/10\n",
      "Training Loss: 0.015113459074414363\n",
      "Top 1 Acc: 0.9961315280464217\n",
      "\n",
      "Running Validation Epoch 2/10\n"
     ]
    },
    {
     "data": {
      "application/vnd.jupyter.widget-view+json": {
       "model_id": "249d4ceffa7e406cab363e7088925422",
       "version_major": 2,
       "version_minor": 0
      },
      "text/plain": [
       "  0%|          | 0/3 [00:00<?, ?it/s]"
      ]
     },
     "metadata": {},
     "output_type": "display_data"
    },
    {
     "name": "stdout",
     "output_type": "stream",
     "text": [
      "Validation Epoch: 2/10\n",
      "Val Loss: 0.09295554442602831\n",
      "Top 1 Acc: 0.9774436090225563\n",
      "\n",
      "\n",
      "\n",
      "Checking Sparsity Level:\n",
      "conv1.weight: 0.0000\n",
      "layer1.0.conv1.weight: 0.1057\n",
      "layer1.0.conv2.weight: 0.1675\n",
      "layer1.0.conv3.weight: 0.1412\n",
      "layer1.0.downsample.0.weight: 0.1352\n",
      "layer1.1.conv1.weight: 0.1551\n",
      "layer1.1.conv2.weight: 0.1612\n",
      "layer1.1.conv3.weight: 0.1602\n",
      "layer1.2.conv1.weight: 0.1138\n",
      "layer1.2.conv2.weight: 0.1321\n",
      "layer1.2.conv3.weight: 0.1959\n",
      "layer2.0.conv1.weight: 0.1172\n",
      "layer2.0.conv2.weight: 0.1901\n",
      "layer2.0.conv3.weight: 0.1868\n",
      "layer2.0.downsample.0.weight: 0.2431\n",
      "layer2.1.conv1.weight: 0.2298\n",
      "layer2.1.conv2.weight: 0.2323\n",
      "layer2.1.conv3.weight: 0.1968\n",
      "layer2.2.conv1.weight: 0.1970\n",
      "layer2.2.conv2.weight: 0.2298\n",
      "layer2.2.conv3.weight: 0.2151\n",
      "layer2.3.conv1.weight: 0.1743\n",
      "layer2.3.conv2.weight: 0.1960\n",
      "layer2.3.conv3.weight: 0.2179\n",
      "layer3.0.conv1.weight: 0.1623\n",
      "layer3.0.conv2.weight: 0.2515\n",
      "layer3.0.conv3.weight: 0.1914\n",
      "layer3.0.downsample.0.weight: 0.3051\n",
      "layer3.1.conv1.weight: 0.2738\n",
      "layer3.1.conv2.weight: 0.3052\n",
      "layer3.1.conv3.weight: 0.2408\n",
      "layer3.2.conv1.weight: 0.2821\n",
      "layer3.2.conv2.weight: 0.2875\n",
      "layer3.2.conv3.weight: 0.2696\n",
      "layer3.3.conv1.weight: 0.2445\n",
      "layer3.3.conv2.weight: 0.2954\n",
      "layer3.3.conv3.weight: 0.2352\n",
      "layer3.4.conv1.weight: 0.2484\n",
      "layer3.4.conv2.weight: 0.2833\n",
      "layer3.4.conv3.weight: 0.2671\n",
      "layer3.5.conv1.weight: 0.2132\n",
      "layer3.5.conv2.weight: 0.2781\n",
      "layer3.5.conv3.weight: 0.2168\n",
      "layer4.0.conv1.weight: 0.1792\n",
      "layer4.0.conv2.weight: 0.2859\n",
      "layer4.0.conv3.weight: 0.1912\n",
      "layer4.0.downsample.0.weight: 0.2878\n",
      "layer4.1.conv1.weight: 0.2527\n",
      "layer4.1.conv2.weight: 0.3319\n",
      "layer4.1.conv3.weight: 0.2348\n",
      "layer4.2.conv1.weight: 0.3199\n",
      "layer4.2.conv2.weight: 0.3903\n",
      "layer4.2.conv3.weight: 0.2633\n",
      "fc.weight: 0.0000\n",
      "\n",
      "\n",
      "Running Training Epoch 3/10\n"
     ]
    },
    {
     "data": {
      "application/vnd.jupyter.widget-view+json": {
       "model_id": "8cbddc0bfc5148f38735d36f84fb9b90",
       "version_major": 2,
       "version_minor": 0
      },
      "text/plain": [
       "  0%|          | 0/17 [00:00<?, ?it/s]"
      ]
     },
     "metadata": {},
     "output_type": "display_data"
    },
    {
     "name": "stdout",
     "output_type": "stream",
     "text": [
      "Training Epoch: 3/10\n",
      "Training Loss: 0.02089866736616172\n",
      "Top 1 Acc: 0.9941972920696325\n",
      "\n",
      "Running Validation Epoch 3/10\n"
     ]
    },
    {
     "data": {
      "application/vnd.jupyter.widget-view+json": {
       "model_id": "cbd250fdf3f8465c93e35cf7cfe92e4c",
       "version_major": 2,
       "version_minor": 0
      },
      "text/plain": [
       "  0%|          | 0/3 [00:00<?, ?it/s]"
      ]
     },
     "metadata": {},
     "output_type": "display_data"
    },
    {
     "name": "stdout",
     "output_type": "stream",
     "text": [
      "Validation Epoch: 3/10\n",
      "Val Loss: 0.08353681061453244\n",
      "Top 1 Acc: 0.9624060150375939\n",
      "\n",
      "\n",
      "\n",
      "Checking Sparsity Level:\n",
      "conv1.weight: 0.0000\n",
      "layer1.0.conv1.weight: 0.1858\n",
      "layer1.0.conv2.weight: 0.2866\n",
      "layer1.0.conv3.weight: 0.2258\n",
      "layer1.0.downsample.0.weight: 0.2141\n",
      "layer1.1.conv1.weight: 0.2385\n",
      "layer1.1.conv2.weight: 0.2649\n",
      "layer1.1.conv3.weight: 0.2523\n",
      "layer1.2.conv1.weight: 0.1957\n",
      "layer1.2.conv2.weight: 0.2279\n",
      "layer1.2.conv3.weight: 0.2909\n",
      "layer2.0.conv1.weight: 0.2060\n",
      "layer2.0.conv2.weight: 0.3258\n",
      "layer2.0.conv3.weight: 0.3037\n",
      "layer2.0.downsample.0.weight: 0.4047\n",
      "layer2.1.conv1.weight: 0.3805\n",
      "layer2.1.conv2.weight: 0.3882\n",
      "layer2.1.conv3.weight: 0.3278\n",
      "layer2.2.conv1.weight: 0.3349\n",
      "layer2.2.conv2.weight: 0.3848\n",
      "layer2.2.conv3.weight: 0.3596\n",
      "layer2.3.conv1.weight: 0.2998\n",
      "layer2.3.conv2.weight: 0.3358\n",
      "layer2.3.conv3.weight: 0.3437\n",
      "layer3.0.conv1.weight: 0.2781\n",
      "layer3.0.conv2.weight: 0.4216\n",
      "layer3.0.conv3.weight: 0.3248\n",
      "layer3.0.downsample.0.weight: 0.5016\n",
      "layer3.1.conv1.weight: 0.4533\n",
      "layer3.1.conv2.weight: 0.5018\n",
      "layer3.1.conv3.weight: 0.4027\n",
      "layer3.2.conv1.weight: 0.4691\n",
      "layer3.2.conv2.weight: 0.4779\n",
      "layer3.2.conv3.weight: 0.4415\n",
      "layer3.3.conv1.weight: 0.4132\n",
      "layer3.3.conv2.weight: 0.4892\n",
      "layer3.3.conv3.weight: 0.3989\n",
      "layer3.4.conv1.weight: 0.4183\n",
      "layer3.4.conv2.weight: 0.4721\n",
      "layer3.4.conv3.weight: 0.4356\n",
      "layer3.5.conv1.weight: 0.3642\n",
      "layer3.5.conv2.weight: 0.4648\n",
      "layer3.5.conv3.weight: 0.3642\n",
      "layer4.0.conv1.weight: 0.3088\n",
      "layer4.0.conv2.weight: 0.4800\n",
      "layer4.0.conv3.weight: 0.3284\n",
      "layer4.0.downsample.0.weight: 0.4799\n",
      "layer4.1.conv1.weight: 0.4277\n",
      "layer4.1.conv2.weight: 0.5443\n",
      "layer4.1.conv3.weight: 0.3966\n",
      "layer4.2.conv1.weight: 0.5248\n",
      "layer4.2.conv2.weight: 0.6232\n",
      "layer4.2.conv3.weight: 0.4406\n",
      "fc.weight: 0.0000\n",
      "\n",
      "\n",
      "Running Training Epoch 4/10\n"
     ]
    },
    {
     "data": {
      "application/vnd.jupyter.widget-view+json": {
       "model_id": "65f312eb29cc4b109bc31210fdf87624",
       "version_major": 2,
       "version_minor": 0
      },
      "text/plain": [
       "  0%|          | 0/17 [00:00<?, ?it/s]"
      ]
     },
     "metadata": {},
     "output_type": "display_data"
    },
    {
     "name": "stdout",
     "output_type": "stream",
     "text": [
      "Training Epoch: 4/10\n",
      "Training Loss: 0.015480193025295567\n",
      "Top 1 Acc: 0.9961315280464217\n",
      "\n",
      "Running Validation Epoch 4/10\n"
     ]
    },
    {
     "data": {
      "application/vnd.jupyter.widget-view+json": {
       "model_id": "70dbf636607d486a916e0ae141e3f11b",
       "version_major": 2,
       "version_minor": 0
      },
      "text/plain": [
       "  0%|          | 0/3 [00:00<?, ?it/s]"
      ]
     },
     "metadata": {},
     "output_type": "display_data"
    },
    {
     "name": "stdout",
     "output_type": "stream",
     "text": [
      "Validation Epoch: 4/10\n",
      "Val Loss: 0.014964782571648053\n",
      "Top 1 Acc: 0.9924812030075187\n",
      "\n",
      "\n",
      "\n",
      "Checking Sparsity Level:\n",
      "conv1.weight: 0.0000\n",
      "layer1.0.conv1.weight: 0.2566\n",
      "layer1.0.conv2.weight: 0.3874\n",
      "layer1.0.conv3.weight: 0.3030\n",
      "layer1.0.downsample.0.weight: 0.2864\n",
      "layer1.1.conv1.weight: 0.3156\n",
      "layer1.1.conv2.weight: 0.3574\n",
      "layer1.1.conv3.weight: 0.3226\n",
      "layer1.2.conv1.weight: 0.2751\n",
      "layer1.2.conv2.weight: 0.3190\n",
      "layer1.2.conv3.weight: 0.3697\n",
      "layer2.0.conv1.weight: 0.2869\n",
      "layer2.0.conv2.weight: 0.4424\n",
      "layer2.0.conv3.weight: 0.4022\n",
      "layer2.0.downsample.0.weight: 0.5349\n",
      "layer2.1.conv1.weight: 0.5007\n",
      "layer2.1.conv2.weight: 0.5141\n",
      "layer2.1.conv3.weight: 0.4416\n",
      "layer2.2.conv1.weight: 0.4510\n",
      "layer2.2.conv2.weight: 0.5120\n",
      "layer2.2.conv3.weight: 0.4785\n",
      "layer2.3.conv1.weight: 0.4095\n",
      "layer2.3.conv2.weight: 0.4572\n",
      "layer2.3.conv3.weight: 0.4486\n",
      "layer3.0.conv1.weight: 0.3802\n",
      "layer3.0.conv2.weight: 0.5596\n",
      "layer3.0.conv3.weight: 0.4387\n",
      "layer3.0.downsample.0.weight: 0.6490\n",
      "layer3.1.conv1.weight: 0.5910\n",
      "layer3.1.conv2.weight: 0.6490\n",
      "layer3.1.conv3.weight: 0.5365\n",
      "layer3.2.conv1.weight: 0.6155\n",
      "layer3.2.conv2.weight: 0.6249\n",
      "layer3.2.conv3.weight: 0.5757\n",
      "layer3.3.conv1.weight: 0.5515\n",
      "layer3.3.conv2.weight: 0.6381\n",
      "layer3.3.conv3.weight: 0.5339\n",
      "layer3.4.conv1.weight: 0.5571\n",
      "layer3.4.conv2.weight: 0.6195\n",
      "layer3.4.conv3.weight: 0.5667\n",
      "layer3.5.conv1.weight: 0.4933\n",
      "layer3.5.conv2.weight: 0.6143\n",
      "layer3.5.conv3.weight: 0.4884\n",
      "layer4.0.conv1.weight: 0.4240\n",
      "layer4.0.conv2.weight: 0.6356\n",
      "layer4.0.conv3.weight: 0.4503\n",
      "layer4.0.downsample.0.weight: 0.6323\n",
      "layer4.1.conv1.weight: 0.5730\n",
      "layer4.1.conv2.weight: 0.7009\n",
      "layer4.1.conv3.weight: 0.5320\n",
      "layer4.2.conv1.weight: 0.6791\n",
      "layer4.2.conv2.weight: 0.7776\n",
      "layer4.2.conv3.weight: 0.5834\n",
      "fc.weight: 0.0000\n",
      "\n",
      "\n",
      "Running Training Epoch 5/10\n"
     ]
    },
    {
     "data": {
      "application/vnd.jupyter.widget-view+json": {
       "model_id": "c7080d69b9ac454e96e7960ec2ac0906",
       "version_major": 2,
       "version_minor": 0
      },
      "text/plain": [
       "  0%|          | 0/17 [00:00<?, ?it/s]"
      ]
     },
     "metadata": {},
     "output_type": "display_data"
    },
    {
     "name": "stdout",
     "output_type": "stream",
     "text": [
      "Training Epoch: 5/10\n",
      "Training Loss: 0.006244629046277088\n",
      "Top 1 Acc: 0.9980657640232108\n",
      "\n",
      "Running Validation Epoch 5/10\n"
     ]
    },
    {
     "data": {
      "application/vnd.jupyter.widget-view+json": {
       "model_id": "06cae8b501d141d482d2c96256324ba9",
       "version_major": 2,
       "version_minor": 0
      },
      "text/plain": [
       "  0%|          | 0/3 [00:00<?, ?it/s]"
      ]
     },
     "metadata": {},
     "output_type": "display_data"
    },
    {
     "name": "stdout",
     "output_type": "stream",
     "text": [
      "Validation Epoch: 5/10\n",
      "Val Loss: 0.007931285625090823\n",
      "Top 1 Acc: 1.0\n",
      "\n",
      "\n",
      "\n",
      "Checking Sparsity Level:\n",
      "conv1.weight: 0.0000\n",
      "layer1.0.conv1.weight: 0.3132\n",
      "layer1.0.conv2.weight: 0.4789\n",
      "layer1.0.conv3.weight: 0.3718\n",
      "layer1.0.downsample.0.weight: 0.3507\n",
      "layer1.1.conv1.weight: 0.3847\n",
      "layer1.1.conv2.weight: 0.4396\n",
      "layer1.1.conv3.weight: 0.3866\n",
      "layer1.2.conv1.weight: 0.3459\n",
      "layer1.2.conv2.weight: 0.3991\n",
      "layer1.2.conv3.weight: 0.4357\n",
      "layer2.0.conv1.weight: 0.3589\n",
      "layer2.0.conv2.weight: 0.5409\n",
      "layer2.0.conv3.weight: 0.4852\n",
      "layer2.0.downsample.0.weight: 0.6344\n",
      "layer2.1.conv1.weight: 0.5958\n",
      "layer2.1.conv2.weight: 0.6136\n",
      "layer2.1.conv3.weight: 0.5360\n",
      "layer2.2.conv1.weight: 0.5475\n",
      "layer2.2.conv2.weight: 0.6120\n",
      "layer2.2.conv3.weight: 0.5734\n",
      "layer2.3.conv1.weight: 0.5049\n",
      "layer2.3.conv2.weight: 0.5596\n",
      "layer2.3.conv3.weight: 0.5365\n",
      "layer3.0.conv1.weight: 0.4702\n",
      "layer3.0.conv2.weight: 0.6687\n",
      "layer3.0.conv3.weight: 0.5361\n",
      "layer3.0.downsample.0.weight: 0.7558\n",
      "layer3.1.conv1.weight: 0.6969\n",
      "layer3.1.conv2.weight: 0.7545\n",
      "layer3.1.conv3.weight: 0.6435\n",
      "layer3.2.conv1.weight: 0.7257\n",
      "layer3.2.conv2.weight: 0.7344\n",
      "layer3.2.conv3.weight: 0.6780\n",
      "layer3.3.conv1.weight: 0.6604\n",
      "layer3.3.conv2.weight: 0.7478\n",
      "layer3.3.conv3.weight: 0.6437\n",
      "layer3.4.conv1.weight: 0.6665\n",
      "layer3.4.conv2.weight: 0.7308\n",
      "layer3.4.conv3.weight: 0.6682\n",
      "layer3.5.conv1.weight: 0.6015\n",
      "layer3.5.conv2.weight: 0.7284\n",
      "layer3.5.conv3.weight: 0.5912\n",
      "layer4.0.conv1.weight: 0.5244\n",
      "layer4.0.conv2.weight: 0.7543\n",
      "layer4.0.conv3.weight: 0.5572\n",
      "layer4.0.downsample.0.weight: 0.7473\n",
      "layer4.1.conv1.weight: 0.6891\n",
      "layer4.1.conv2.weight: 0.8100\n",
      "layer4.1.conv3.weight: 0.6422\n",
      "layer4.2.conv1.weight: 0.7877\n",
      "layer4.2.conv2.weight: 0.8729\n",
      "layer4.2.conv3.weight: 0.6948\n",
      "fc.weight: 0.0000\n",
      "\n",
      "\n",
      "Running Training Epoch 6/10\n"
     ]
    },
    {
     "data": {
      "application/vnd.jupyter.widget-view+json": {
       "model_id": "416b62306b5c44ef9318d2dd93b811d7",
       "version_major": 2,
       "version_minor": 0
      },
      "text/plain": [
       "  0%|          | 0/17 [00:00<?, ?it/s]"
      ]
     },
     "metadata": {},
     "output_type": "display_data"
    },
    {
     "name": "stdout",
     "output_type": "stream",
     "text": [
      "Training Epoch: 6/10\n",
      "Training Loss: 0.010191820685149115\n",
      "Top 1 Acc: 0.9970986460348162\n",
      "\n",
      "Running Validation Epoch 6/10\n"
     ]
    },
    {
     "data": {
      "application/vnd.jupyter.widget-view+json": {
       "model_id": "62622232c7f8445886e3628039f1e8e2",
       "version_major": 2,
       "version_minor": 0
      },
      "text/plain": [
       "  0%|          | 0/3 [00:00<?, ?it/s]"
      ]
     },
     "metadata": {},
     "output_type": "display_data"
    },
    {
     "name": "stdout",
     "output_type": "stream",
     "text": [
      "Validation Epoch: 6/10\n",
      "Val Loss: 0.013040244715133062\n",
      "Top 1 Acc: 0.9924812030075187\n",
      "\n",
      "\n",
      "\n",
      "Checking Sparsity Level:\n",
      "conv1.weight: 0.0000\n",
      "layer1.0.conv1.weight: 0.3665\n",
      "layer1.0.conv2.weight: 0.5532\n",
      "layer1.0.conv3.weight: 0.4306\n",
      "layer1.0.downsample.0.weight: 0.4067\n",
      "layer1.1.conv1.weight: 0.4468\n",
      "layer1.1.conv2.weight: 0.5105\n",
      "layer1.1.conv3.weight: 0.4446\n",
      "layer1.2.conv1.weight: 0.4129\n",
      "layer1.2.conv2.weight: 0.4703\n",
      "layer1.2.conv3.weight: 0.4930\n",
      "layer2.0.conv1.weight: 0.4214\n",
      "layer2.0.conv2.weight: 0.6199\n",
      "layer2.0.conv3.weight: 0.5578\n",
      "layer2.0.downsample.0.weight: 0.7127\n",
      "layer2.1.conv1.weight: 0.6706\n",
      "layer2.1.conv2.weight: 0.6892\n",
      "layer2.1.conv3.weight: 0.6139\n",
      "layer2.2.conv1.weight: 0.6265\n",
      "layer2.2.conv2.weight: 0.6889\n",
      "layer2.2.conv3.weight: 0.6487\n",
      "layer2.3.conv1.weight: 0.5859\n",
      "layer2.3.conv2.weight: 0.6432\n",
      "layer2.3.conv3.weight: 0.6093\n",
      "layer3.0.conv1.weight: 0.5457\n",
      "layer3.0.conv2.weight: 0.7501\n",
      "layer3.0.conv3.weight: 0.6161\n",
      "layer3.0.downsample.0.weight: 0.8281\n",
      "layer3.1.conv1.weight: 0.7758\n",
      "layer3.1.conv2.weight: 0.8263\n",
      "layer3.1.conv3.weight: 0.7255\n",
      "layer3.2.conv1.weight: 0.8025\n",
      "layer3.2.conv2.weight: 0.8117\n",
      "layer3.2.conv3.weight: 0.7537\n",
      "layer3.3.conv1.weight: 0.7438\n",
      "layer3.3.conv2.weight: 0.8234\n",
      "layer3.3.conv3.weight: 0.7287\n",
      "layer3.4.conv1.weight: 0.7485\n",
      "layer3.4.conv2.weight: 0.8092\n",
      "layer3.4.conv3.weight: 0.7441\n",
      "layer3.5.conv1.weight: 0.6878\n",
      "layer3.5.conv2.weight: 0.8099\n",
      "layer3.5.conv3.weight: 0.6757\n",
      "layer4.0.conv1.weight: 0.6091\n",
      "layer4.0.conv2.weight: 0.8388\n",
      "layer4.0.conv3.weight: 0.6473\n",
      "layer4.0.downsample.0.weight: 0.8285\n",
      "layer4.1.conv1.weight: 0.7774\n",
      "layer4.1.conv2.weight: 0.8814\n",
      "layer4.1.conv3.weight: 0.7288\n",
      "layer4.2.conv1.weight: 0.8599\n",
      "layer4.2.conv2.weight: 0.9266\n",
      "layer4.2.conv3.weight: 0.7776\n",
      "fc.weight: 0.0000\n",
      "\n",
      "\n",
      "Running Training Epoch 7/10\n"
     ]
    },
    {
     "data": {
      "application/vnd.jupyter.widget-view+json": {
       "model_id": "58cc3f7d549141e59efb73fda109a56d",
       "version_major": 2,
       "version_minor": 0
      },
      "text/plain": [
       "  0%|          | 0/17 [00:00<?, ?it/s]"
      ]
     },
     "metadata": {},
     "output_type": "display_data"
    },
    {
     "name": "stdout",
     "output_type": "stream",
     "text": [
      "Training Epoch: 7/10\n",
      "Training Loss: 0.028277927598751643\n",
      "Top 1 Acc: 0.9970986460348162\n",
      "\n",
      "Running Validation Epoch 7/10\n"
     ]
    },
    {
     "data": {
      "application/vnd.jupyter.widget-view+json": {
       "model_id": "41e15a14b2e84cc58892842004de6eea",
       "version_major": 2,
       "version_minor": 0
      },
      "text/plain": [
       "  0%|          | 0/3 [00:00<?, ?it/s]"
      ]
     },
     "metadata": {},
     "output_type": "display_data"
    },
    {
     "name": "stdout",
     "output_type": "stream",
     "text": [
      "Validation Epoch: 7/10\n",
      "Val Loss: 0.027645598476131756\n",
      "Top 1 Acc: 1.0\n",
      "\n",
      "\n",
      "\n",
      "Checking Sparsity Level:\n",
      "conv1.weight: 0.0000\n",
      "layer1.0.conv1.weight: 0.4146\n",
      "layer1.0.conv2.weight: 0.6099\n",
      "layer1.0.conv3.weight: 0.4810\n",
      "layer1.0.downsample.0.weight: 0.4547\n",
      "layer1.1.conv1.weight: 0.4962\n",
      "layer1.1.conv2.weight: 0.5668\n",
      "layer1.1.conv3.weight: 0.4924\n",
      "layer1.2.conv1.weight: 0.4672\n",
      "layer1.2.conv2.weight: 0.5302\n",
      "layer1.2.conv3.weight: 0.5394\n",
      "layer2.0.conv1.weight: 0.4760\n",
      "layer2.0.conv2.weight: 0.6813\n",
      "layer2.0.conv3.weight: 0.6140\n",
      "layer2.0.downsample.0.weight: 0.7674\n",
      "layer2.1.conv1.weight: 0.7262\n",
      "layer2.1.conv2.weight: 0.7451\n",
      "layer2.1.conv3.weight: 0.6732\n",
      "layer2.2.conv1.weight: 0.6854\n",
      "layer2.2.conv2.weight: 0.7446\n",
      "layer2.2.conv3.weight: 0.7042\n",
      "layer2.3.conv1.weight: 0.6469\n",
      "layer2.3.conv2.weight: 0.7082\n",
      "layer2.3.conv3.weight: 0.6685\n",
      "layer3.0.conv1.weight: 0.6048\n",
      "layer3.0.conv2.weight: 0.8069\n",
      "layer3.0.conv3.weight: 0.6779\n",
      "layer3.0.downsample.0.weight: 0.8744\n",
      "layer3.1.conv1.weight: 0.8290\n",
      "layer3.1.conv2.weight: 0.8717\n",
      "layer3.1.conv3.weight: 0.7826\n",
      "layer3.2.conv1.weight: 0.8528\n",
      "layer3.2.conv2.weight: 0.8624\n",
      "layer3.2.conv3.weight: 0.8075\n",
      "layer3.3.conv1.weight: 0.8027\n",
      "layer3.3.conv2.weight: 0.8722\n",
      "layer3.3.conv3.weight: 0.7889\n",
      "layer3.4.conv1.weight: 0.8073\n",
      "layer3.4.conv2.weight: 0.8622\n",
      "layer3.4.conv3.weight: 0.7983\n",
      "layer3.5.conv1.weight: 0.7526\n",
      "layer3.5.conv2.weight: 0.8639\n",
      "layer3.5.conv3.weight: 0.7386\n",
      "layer4.0.conv1.weight: 0.6762\n",
      "layer4.0.conv2.weight: 0.8933\n",
      "layer4.0.conv3.weight: 0.7177\n",
      "layer4.0.downsample.0.weight: 0.8815\n",
      "layer4.1.conv1.weight: 0.8387\n",
      "layer4.1.conv2.weight: 0.9241\n",
      "layer4.1.conv3.weight: 0.7919\n",
      "layer4.2.conv1.weight: 0.9043\n",
      "layer4.2.conv2.weight: 0.9547\n",
      "layer4.2.conv3.weight: 0.8350\n",
      "fc.weight: 0.0000\n",
      "\n",
      "\n",
      "Running Training Epoch 8/10\n"
     ]
    },
    {
     "data": {
      "application/vnd.jupyter.widget-view+json": {
       "model_id": "040dac607a08475691f7697cb6d6ab12",
       "version_major": 2,
       "version_minor": 0
      },
      "text/plain": [
       "  0%|          | 0/17 [00:00<?, ?it/s]"
      ]
     },
     "metadata": {},
     "output_type": "display_data"
    },
    {
     "name": "stdout",
     "output_type": "stream",
     "text": [
      "Training Epoch: 8/10\n",
      "Training Loss: 0.0318604385589852\n",
      "Top 1 Acc: 1.0\n",
      "\n",
      "Running Validation Epoch 8/10\n"
     ]
    },
    {
     "data": {
      "application/vnd.jupyter.widget-view+json": {
       "model_id": "e39e2a04a13447e6809a1c7f460b17c9",
       "version_major": 2,
       "version_minor": 0
      },
      "text/plain": [
       "  0%|          | 0/3 [00:00<?, ?it/s]"
      ]
     },
     "metadata": {},
     "output_type": "display_data"
    },
    {
     "name": "stdout",
     "output_type": "stream",
     "text": [
      "Validation Epoch: 8/10\n",
      "Val Loss: 0.03692007825399438\n",
      "Top 1 Acc: 1.0\n",
      "\n",
      "\n",
      "\n",
      "Checking Sparsity Level:\n",
      "conv1.weight: 0.0000\n",
      "layer1.0.conv1.weight: 0.4473\n",
      "layer1.0.conv2.weight: 0.6496\n",
      "layer1.0.conv3.weight: 0.5182\n",
      "layer1.0.downsample.0.weight: 0.4882\n",
      "layer1.1.conv1.weight: 0.5353\n",
      "layer1.1.conv2.weight: 0.6064\n",
      "layer1.1.conv3.weight: 0.5291\n",
      "layer1.2.conv1.weight: 0.5075\n",
      "layer1.2.conv2.weight: 0.5724\n",
      "layer1.2.conv3.weight: 0.5753\n",
      "layer2.0.conv1.weight: 0.5150\n",
      "layer2.0.conv2.weight: 0.7218\n",
      "layer2.0.conv3.weight: 0.6547\n",
      "layer2.0.downsample.0.weight: 0.8039\n",
      "layer2.1.conv1.weight: 0.7629\n",
      "layer2.1.conv2.weight: 0.7809\n",
      "layer2.1.conv3.weight: 0.7136\n",
      "layer2.2.conv1.weight: 0.7243\n",
      "layer2.2.conv2.weight: 0.7808\n",
      "layer2.2.conv3.weight: 0.7411\n",
      "layer2.3.conv1.weight: 0.6886\n",
      "layer2.3.conv2.weight: 0.7515\n",
      "layer2.3.conv3.weight: 0.7091\n",
      "layer3.0.conv1.weight: 0.6459\n",
      "layer3.0.conv2.weight: 0.8426\n",
      "layer3.0.conv3.weight: 0.7206\n",
      "layer3.0.downsample.0.weight: 0.9014\n",
      "layer3.1.conv1.weight: 0.8622\n",
      "layer3.1.conv2.weight: 0.8985\n",
      "layer3.1.conv3.weight: 0.8194\n",
      "layer3.2.conv1.weight: 0.8831\n",
      "layer3.2.conv2.weight: 0.8925\n",
      "layer3.2.conv3.weight: 0.8410\n",
      "layer3.3.conv1.weight: 0.8398\n",
      "layer3.3.conv2.weight: 0.9006\n",
      "layer3.3.conv3.weight: 0.8277\n",
      "layer3.4.conv1.weight: 0.8433\n",
      "layer3.4.conv2.weight: 0.8935\n",
      "layer3.4.conv3.weight: 0.8327\n",
      "layer3.5.conv1.weight: 0.7953\n",
      "layer3.5.conv2.weight: 0.8958\n",
      "layer3.5.conv3.weight: 0.7811\n",
      "layer4.0.conv1.weight: 0.7225\n",
      "layer4.0.conv2.weight: 0.9244\n",
      "layer4.0.conv3.weight: 0.7660\n",
      "layer4.0.downsample.0.weight: 0.9126\n",
      "layer4.1.conv1.weight: 0.8765\n",
      "layer4.1.conv2.weight: 0.9474\n",
      "layer4.1.conv3.weight: 0.8325\n",
      "layer4.2.conv1.weight: 0.9283\n",
      "layer4.2.conv2.weight: 0.9687\n",
      "layer4.2.conv3.weight: 0.8709\n",
      "fc.weight: 0.0000\n",
      "\n",
      "\n",
      "Running Training Epoch 9/10\n"
     ]
    },
    {
     "data": {
      "application/vnd.jupyter.widget-view+json": {
       "model_id": "58e103e988ae452494e887e42d40e5ea",
       "version_major": 2,
       "version_minor": 0
      },
      "text/plain": [
       "  0%|          | 0/17 [00:00<?, ?it/s]"
      ]
     },
     "metadata": {},
     "output_type": "display_data"
    },
    {
     "name": "stdout",
     "output_type": "stream",
     "text": [
      "Training Epoch: 9/10\n",
      "Training Loss: 0.036725726197747624\n",
      "Top 1 Acc: 1.0\n",
      "\n",
      "Running Validation Epoch 9/10\n"
     ]
    },
    {
     "data": {
      "application/vnd.jupyter.widget-view+json": {
       "model_id": "99694a447b274b2da56353ec12fd897e",
       "version_major": 2,
       "version_minor": 0
      },
      "text/plain": [
       "  0%|          | 0/3 [00:00<?, ?it/s]"
      ]
     },
     "metadata": {},
     "output_type": "display_data"
    },
    {
     "name": "stdout",
     "output_type": "stream",
     "text": [
      "Validation Epoch: 9/10\n",
      "Val Loss: 0.046517357851068176\n",
      "Top 1 Acc: 1.0\n",
      "\n",
      "\n",
      "\n",
      "Checking Sparsity Level:\n",
      "conv1.weight: 0.0000\n",
      "layer1.0.conv1.weight: 0.4712\n",
      "layer1.0.conv2.weight: 0.6728\n",
      "layer1.0.conv3.weight: 0.5400\n",
      "layer1.0.downsample.0.weight: 0.5073\n",
      "layer1.1.conv1.weight: 0.5588\n",
      "layer1.1.conv2.weight: 0.6290\n",
      "layer1.1.conv3.weight: 0.5516\n",
      "layer1.2.conv1.weight: 0.5294\n",
      "layer1.2.conv2.weight: 0.5957\n",
      "layer1.2.conv3.weight: 0.5948\n",
      "layer2.0.conv1.weight: 0.5384\n",
      "layer2.0.conv2.weight: 0.7441\n",
      "layer2.0.conv3.weight: 0.6780\n",
      "layer2.0.downsample.0.weight: 0.8222\n",
      "layer2.1.conv1.weight: 0.7831\n",
      "layer2.1.conv2.weight: 0.8004\n",
      "layer2.1.conv3.weight: 0.7358\n",
      "layer2.2.conv1.weight: 0.7461\n",
      "layer2.2.conv2.weight: 0.8004\n",
      "layer2.2.conv3.weight: 0.7619\n",
      "layer2.3.conv1.weight: 0.7125\n",
      "layer2.3.conv2.weight: 0.7751\n",
      "layer2.3.conv3.weight: 0.7315\n",
      "layer3.0.conv1.weight: 0.6695\n",
      "layer3.0.conv2.weight: 0.8614\n",
      "layer3.0.conv3.weight: 0.7442\n",
      "layer3.0.downsample.0.weight: 0.9151\n",
      "layer3.1.conv1.weight: 0.8794\n",
      "layer3.1.conv2.weight: 0.9120\n",
      "layer3.1.conv3.weight: 0.8389\n",
      "layer3.2.conv1.weight: 0.8988\n",
      "layer3.2.conv2.weight: 0.9078\n",
      "layer3.2.conv3.weight: 0.8592\n",
      "layer3.3.conv1.weight: 0.8593\n",
      "layer3.3.conv2.weight: 0.9149\n",
      "layer3.3.conv3.weight: 0.8482\n",
      "layer3.4.conv1.weight: 0.8624\n",
      "layer3.4.conv2.weight: 0.9092\n",
      "layer3.4.conv3.weight: 0.8514\n",
      "layer3.5.conv1.weight: 0.8185\n",
      "layer3.5.conv2.weight: 0.9122\n",
      "layer3.5.conv3.weight: 0.8044\n",
      "layer4.0.conv1.weight: 0.7488\n",
      "layer4.0.conv2.weight: 0.9396\n",
      "layer4.0.conv3.weight: 0.7929\n",
      "layer4.0.downsample.0.weight: 0.9281\n",
      "layer4.1.conv1.weight: 0.8959\n",
      "layer4.1.conv2.weight: 0.9582\n",
      "layer4.1.conv3.weight: 0.8543\n",
      "layer4.2.conv1.weight: 0.9398\n",
      "layer4.2.conv2.weight: 0.9750\n",
      "layer4.2.conv3.weight: 0.8893\n",
      "fc.weight: 0.0000\n",
      "\n",
      "\n",
      "Running Training Epoch 10/10\n"
     ]
    },
    {
     "data": {
      "application/vnd.jupyter.widget-view+json": {
       "model_id": "d88362b1c1b043efafd998b3f606d60c",
       "version_major": 2,
       "version_minor": 0
      },
      "text/plain": [
       "  0%|          | 0/17 [00:00<?, ?it/s]"
      ]
     },
     "metadata": {},
     "output_type": "display_data"
    },
    {
     "name": "stdout",
     "output_type": "stream",
     "text": [
      "Training Epoch: 10/10\n",
      "Training Loss: 0.032790856435894966\n",
      "Top 1 Acc: 1.0\n",
      "\n",
      "Running Validation Epoch 10/10\n"
     ]
    },
    {
     "data": {
      "application/vnd.jupyter.widget-view+json": {
       "model_id": "7c120c79e4424fbdbf80afed481e3b94",
       "version_major": 2,
       "version_minor": 0
      },
      "text/plain": [
       "  0%|          | 0/3 [00:00<?, ?it/s]"
      ]
     },
     "metadata": {},
     "output_type": "display_data"
    },
    {
     "name": "stdout",
     "output_type": "stream",
     "text": [
      "Validation Epoch: 10/10\n",
      "Val Loss: 0.0411220183596015\n",
      "Top 1 Acc: 1.0\n",
      "\n",
      "\n",
      "\n",
      "Checking Sparsity Level:\n",
      "conv1.weight: 0.0000\n",
      "layer1.0.conv1.weight: 0.4783\n",
      "layer1.0.conv2.weight: 0.6819\n",
      "layer1.0.conv3.weight: 0.5481\n",
      "layer1.0.downsample.0.weight: 0.5146\n",
      "layer1.1.conv1.weight: 0.5688\n",
      "layer1.1.conv2.weight: 0.6389\n",
      "layer1.1.conv3.weight: 0.5606\n",
      "layer1.2.conv1.weight: 0.5388\n",
      "layer1.2.conv2.weight: 0.6055\n",
      "layer1.2.conv3.weight: 0.6023\n",
      "layer2.0.conv1.weight: 0.5475\n",
      "layer2.0.conv2.weight: 0.7528\n",
      "layer2.0.conv3.weight: 0.6869\n",
      "layer2.0.downsample.0.weight: 0.8294\n",
      "layer2.1.conv1.weight: 0.7904\n",
      "layer2.1.conv2.weight: 0.8076\n",
      "layer2.1.conv3.weight: 0.7448\n",
      "layer2.2.conv1.weight: 0.7550\n",
      "layer2.2.conv2.weight: 0.8084\n",
      "layer2.2.conv3.weight: 0.7696\n",
      "layer2.3.conv1.weight: 0.7220\n",
      "layer2.3.conv2.weight: 0.7845\n",
      "layer2.3.conv3.weight: 0.7395\n",
      "layer3.0.conv1.weight: 0.6785\n",
      "layer3.0.conv2.weight: 0.8685\n",
      "layer3.0.conv3.weight: 0.7536\n",
      "layer3.0.downsample.0.weight: 0.9200\n",
      "layer3.1.conv1.weight: 0.8859\n",
      "layer3.1.conv2.weight: 0.9169\n",
      "layer3.1.conv3.weight: 0.8463\n",
      "layer3.2.conv1.weight: 0.9046\n",
      "layer3.2.conv2.weight: 0.9133\n",
      "layer3.2.conv3.weight: 0.8662\n",
      "layer3.3.conv1.weight: 0.8669\n",
      "layer3.3.conv2.weight: 0.9201\n",
      "layer3.3.conv3.weight: 0.8557\n",
      "layer3.4.conv1.weight: 0.8697\n",
      "layer3.4.conv2.weight: 0.9149\n",
      "layer3.4.conv3.weight: 0.8586\n",
      "layer3.5.conv1.weight: 0.8271\n",
      "layer3.5.conv2.weight: 0.9181\n",
      "layer3.5.conv3.weight: 0.8134\n",
      "layer4.0.conv1.weight: 0.7590\n",
      "layer4.0.conv2.weight: 0.9449\n",
      "layer4.0.conv3.weight: 0.8032\n",
      "layer4.0.downsample.0.weight: 0.9336\n",
      "layer4.1.conv1.weight: 0.9031\n",
      "layer4.1.conv2.weight: 0.9619\n",
      "layer4.1.conv3.weight: 0.8624\n",
      "layer4.2.conv1.weight: 0.9439\n",
      "layer4.2.conv2.weight: 0.9772\n",
      "layer4.2.conv3.weight: 0.8961\n",
      "fc.weight: 0.0000\n",
      "\n",
      "\n"
     ]
    }
   ],
   "source": [
    "# run transfer learning\n",
    "epoch = 0\n",
    "for epoch in range(manager.max_epochs):\n",
    "    # run training loop\n",
    "    epoch_name = f\"{epoch + 1}/{manager.max_epochs}\"\n",
    "    print(f\"Running Training Epoch {epoch_name}\")\n",
    "    train_loss, train_acc = run_model_one_epoch(\n",
    "        model, train_loader, criterion, device, train=True, optimizer=optimizer\n",
    "    )\n",
    "    print(\n",
    "        f\"Training Epoch: {epoch_name}\\nTraining Loss: {train_loss}\\nTop 1 Acc: {train_acc}\\n\"\n",
    "    )\n",
    "\n",
    "    # run validation loop\n",
    "    print(f\"Running Validation Epoch {epoch_name}\")\n",
    "    val_loss, val_acc = run_model_one_epoch(model, val_loader, criterion, device)\n",
    "    print(\n",
    "        f\"Validation Epoch: {epoch_name}\\nVal Loss: {val_loss}\\nTop 1 Acc: {val_acc}\\n\"\n",
    "    )\n",
    "    \n",
    "    print(f\"\\n\\nChecking Sparsity Level:\")\n",
    "    for (name, layer) in get_prunable_layers(model):\n",
    "        print(f\"{name}.weight: {tensor_sparsity(layer.weight).item():.4f}\")\n",
    "    print(f\"\\n\")\n",
    "    \n",
    "manager.finalize(model)"
   ]
  },
  {
   "cell_type": "code",
   "execution_count": 42,
   "id": "417ac105",
   "metadata": {},
   "outputs": [],
   "source": [
    "save_dir = \"experiment-0\"\n",
    "exporter = ModuleExporter(model, output_dir=save_dir)\n",
    "exporter.export_pytorch(name=\"resnet-50-sparse-experiment-0.pth\")"
   ]
  }
 ],
 "metadata": {
  "kernelspec": {
   "display_name": "Python 3 (ipykernel)",
   "language": "python",
   "name": "python3"
  },
  "language_info": {
   "codemirror_mode": {
    "name": "ipython",
    "version": 3
   },
   "file_extension": ".py",
   "mimetype": "text/x-python",
   "name": "python",
   "nbconvert_exporter": "python",
   "pygments_lexer": "ipython3",
   "version": "3.8.10"
  }
 },
 "nbformat": 4,
 "nbformat_minor": 5
}
