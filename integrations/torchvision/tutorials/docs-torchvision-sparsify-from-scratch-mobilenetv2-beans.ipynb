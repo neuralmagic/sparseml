{
 "cells": [
  {
   "cell_type": "code",
   "execution_count": 3,
   "id": "1ad80edf",
   "metadata": {},
   "outputs": [],
   "source": [
    "import sparseml\n",
    "from sparseml.pytorch.optim import ScheduledModifierManager\n",
    "from sparseml.pytorch.utils import get_prunable_layers, tensor_sparsity\n",
    "import torch\n",
    "import torchvision\n",
    "from torchvision import transforms\n",
    "from torch.utils.data import DataLoader\n",
    "from torch.nn import CrossEntropyLoss\n",
    "from torch.optim import Adam\n",
    "from tqdm.auto import tqdm\n",
    "import math\n",
    "from datasets import load_dataset"
   ]
  },
  {
   "cell_type": "code",
   "execution_count": 4,
   "id": "f8eb3642",
   "metadata": {},
   "outputs": [
    {
     "name": "stderr",
     "output_type": "stream",
     "text": [
      "Using custom data configuration default\n",
      "Reusing dataset beans (/home/ubuntu/.cache/huggingface/datasets/beans/default/0.0.0/d5abfbb94de45599d871182cff389bc870bf145b4829c4b0fe20f0cccd637cbd)\n"
     ]
    },
    {
     "data": {
      "application/vnd.jupyter.widget-view+json": {
       "model_id": "7700382ea347426fb3596590931e7f91",
       "version_major": 2,
       "version_minor": 0
      },
      "text/plain": [
       "  0%|          | 0/3 [00:00<?, ?it/s]"
      ]
     },
     "metadata": {},
     "output_type": "display_data"
    },
    {
     "name": "stdout",
     "output_type": "stream",
     "text": [
      "DatasetDict({\n",
      "    train: Dataset({\n",
      "        features: ['image_file_path', 'image', 'labels'],\n",
      "        num_rows: 1034\n",
      "    })\n",
      "    validation: Dataset({\n",
      "        features: ['image_file_path', 'image', 'labels'],\n",
      "        num_rows: 133\n",
      "    })\n",
      "    test: Dataset({\n",
      "        features: ['image_file_path', 'image', 'labels'],\n",
      "        num_rows: 128\n",
      "    })\n",
      "})\n"
     ]
    }
   ],
   "source": [
    "dataset = load_dataset(\"beans\")\n",
    "print(dataset)"
   ]
  },
  {
   "cell_type": "code",
   "execution_count": 6,
   "id": "b06fc4fd",
   "metadata": {},
   "outputs": [
    {
     "name": "stdout",
     "output_type": "stream",
     "text": [
      "/home/ubuntu/.cache/huggingface/datasets/downloads/extracted/eeb026374cf5ecfd5f40131a3159be9b9055ac21a3da11690e7eb4d117c99eee/train/bean_rust/bean_rust_train.84.jpg\n",
      "/home/ubuntu/.cache/huggingface/datasets/downloads/extracted/f287261265d2f9a3e8f87a5526a54d1847b17f7c3ec5714e5719432f2b3e4a73/validation/bean_rust/bean_rust_val.36.jpg\n"
     ]
    }
   ],
   "source": [
    "print(dataset[\"train\"][0][\"image_file_path\"])\n",
    "print(dataset[\"validation\"][0][\"image_file_path\"])"
   ]
  },
  {
   "cell_type": "code",
   "execution_count": 7,
   "id": "4ecdebad",
   "metadata": {},
   "outputs": [],
   "source": [
    "train_path = \"/home/ubuntu/.cache/huggingface/datasets/downloads/extracted/eeb026374cf5ecfd5f40131a3159be9b9055ac21a3da11690e7eb4d117c99eee/train\"\n",
    "val_path = \"/home/ubuntu/.cache/huggingface/datasets/downloads/extracted/f287261265d2f9a3e8f87a5526a54d1847b17f7c3ec5714e5719432f2b3e4a73/validation/\" "
   ]
  },
  {
   "cell_type": "code",
   "execution_count": 8,
   "id": "7d180bbc",
   "metadata": {},
   "outputs": [],
   "source": [
    "BATCH_SIZE = 32\n",
    "NUM_LABELS = 3\n",
    "\n",
    "# transforms\n",
    "imagenet_transform = transforms.Compose([\n",
    "   transforms.Resize(size=256, interpolation=transforms.InterpolationMode.BILINEAR, max_size=None, antialias=None),\n",
    "   transforms.CenterCrop(size=(224, 224)),\n",
    "   transforms.ToTensor(),\n",
    "   transforms.Normalize(mean=[0.485, 0.456, 0.406], std=[0.229, 0.224, 0.225])\n",
    "])\n",
    "\n",
    "# datasets\n",
    "train_dataset = torchvision.datasets.ImageFolder(\n",
    "    root=train_path,\n",
    "    transform=imagenet_transform\n",
    ")\n",
    "\n",
    "val_dataset = torchvision.datasets.ImageFolder(\n",
    "    root=val_path,\n",
    "    transform=imagenet_transform\n",
    ")\n",
    "\n",
    "# setup data loaders\n",
    "train_loader = DataLoader(train_dataset, BATCH_SIZE, shuffle=True, pin_memory=True, num_workers=16)\n",
    "val_loader = DataLoader(val_dataset, BATCH_SIZE, shuffle=False, pin_memory=True, num_workers=16)"
   ]
  },
  {
   "cell_type": "code",
   "execution_count": 9,
   "id": "c968c098",
   "metadata": {},
   "outputs": [],
   "source": [
    "device = \"cuda\" if torch.cuda.is_available() else \"cpu\""
   ]
  },
  {
   "cell_type": "code",
   "execution_count": 13,
   "id": "5f1b878a",
   "metadata": {},
   "outputs": [],
   "source": [
    "def run_model_one_epoch(model, data_loader, criterion, device, train=False, optimizer=None):\n",
    "    if train:\n",
    "        model.train()\n",
    "    else:\n",
    "        model.eval()\n",
    "\n",
    "    running_loss = 0.0\n",
    "    total_correct = 0\n",
    "    total_predictions = 0\n",
    "\n",
    "    # loop through batches\n",
    "    for step, (inputs, labels) in tqdm(enumerate(data_loader), total=len(data_loader)):\n",
    "        inputs = inputs.to(device)\n",
    "        labels = labels.to(device)\n",
    "\n",
    "        if train:\n",
    "            optimizer.zero_grad()\n",
    "\n",
    "        # compute loss, run backpropogation\n",
    "        outputs = model(inputs)  # model returns logits\n",
    "        loss = criterion(outputs, labels)\n",
    "        if train:\n",
    "            loss.backward()\n",
    "            optimizer.step()\n",
    "\n",
    "        running_loss += loss.item()\n",
    "\n",
    "        # run evaluation\n",
    "        predictions = outputs.argmax(dim=1)\n",
    "        total_correct += torch.sum(predictions == labels).item()\n",
    "        total_predictions += inputs.size(0)\n",
    "\n",
    "    # return loss and evaluation metric\n",
    "    loss = running_loss / (step + 1.0)\n",
    "    accuracy = total_correct / total_predictions\n",
    "    return loss, accuracy"
   ]
  },
  {
   "cell_type": "markdown",
   "id": "a3521e78",
   "metadata": {},
   "source": [
    "## Train Dense Model"
   ]
  },
  {
   "cell_type": "code",
   "execution_count": 12,
   "id": "4d554578",
   "metadata": {
    "scrolled": true
   },
   "outputs": [
    {
     "name": "stdout",
     "output_type": "stream",
     "text": [
      "MobileNetV2(\n",
      "  (features): Sequential(\n",
      "    (0): Conv2dNormActivation(\n",
      "      (0): Conv2d(3, 32, kernel_size=(3, 3), stride=(2, 2), padding=(1, 1), bias=False)\n",
      "      (1): BatchNorm2d(32, eps=1e-05, momentum=0.1, affine=True, track_running_stats=True)\n",
      "      (2): ReLU6(inplace=True)\n",
      "    )\n",
      "    (1): InvertedResidual(\n",
      "      (conv): Sequential(\n",
      "        (0): Conv2dNormActivation(\n",
      "          (0): Conv2d(32, 32, kernel_size=(3, 3), stride=(1, 1), padding=(1, 1), groups=32, bias=False)\n",
      "          (1): BatchNorm2d(32, eps=1e-05, momentum=0.1, affine=True, track_running_stats=True)\n",
      "          (2): ReLU6(inplace=True)\n",
      "        )\n",
      "        (1): Conv2d(32, 16, kernel_size=(1, 1), stride=(1, 1), bias=False)\n",
      "        (2): BatchNorm2d(16, eps=1e-05, momentum=0.1, affine=True, track_running_stats=True)\n",
      "      )\n",
      "    )\n",
      "    (2): InvertedResidual(\n",
      "      (conv): Sequential(\n",
      "        (0): Conv2dNormActivation(\n",
      "          (0): Conv2d(16, 96, kernel_size=(1, 1), stride=(1, 1), bias=False)\n",
      "          (1): BatchNorm2d(96, eps=1e-05, momentum=0.1, affine=True, track_running_stats=True)\n",
      "          (2): ReLU6(inplace=True)\n",
      "        )\n",
      "        (1): Conv2dNormActivation(\n",
      "          (0): Conv2d(96, 96, kernel_size=(3, 3), stride=(2, 2), padding=(1, 1), groups=96, bias=False)\n",
      "          (1): BatchNorm2d(96, eps=1e-05, momentum=0.1, affine=True, track_running_stats=True)\n",
      "          (2): ReLU6(inplace=True)\n",
      "        )\n",
      "        (2): Conv2d(96, 24, kernel_size=(1, 1), stride=(1, 1), bias=False)\n",
      "        (3): BatchNorm2d(24, eps=1e-05, momentum=0.1, affine=True, track_running_stats=True)\n",
      "      )\n",
      "    )\n",
      "    (3): InvertedResidual(\n",
      "      (conv): Sequential(\n",
      "        (0): Conv2dNormActivation(\n",
      "          (0): Conv2d(24, 144, kernel_size=(1, 1), stride=(1, 1), bias=False)\n",
      "          (1): BatchNorm2d(144, eps=1e-05, momentum=0.1, affine=True, track_running_stats=True)\n",
      "          (2): ReLU6(inplace=True)\n",
      "        )\n",
      "        (1): Conv2dNormActivation(\n",
      "          (0): Conv2d(144, 144, kernel_size=(3, 3), stride=(1, 1), padding=(1, 1), groups=144, bias=False)\n",
      "          (1): BatchNorm2d(144, eps=1e-05, momentum=0.1, affine=True, track_running_stats=True)\n",
      "          (2): ReLU6(inplace=True)\n",
      "        )\n",
      "        (2): Conv2d(144, 24, kernel_size=(1, 1), stride=(1, 1), bias=False)\n",
      "        (3): BatchNorm2d(24, eps=1e-05, momentum=0.1, affine=True, track_running_stats=True)\n",
      "      )\n",
      "    )\n",
      "    (4): InvertedResidual(\n",
      "      (conv): Sequential(\n",
      "        (0): Conv2dNormActivation(\n",
      "          (0): Conv2d(24, 144, kernel_size=(1, 1), stride=(1, 1), bias=False)\n",
      "          (1): BatchNorm2d(144, eps=1e-05, momentum=0.1, affine=True, track_running_stats=True)\n",
      "          (2): ReLU6(inplace=True)\n",
      "        )\n",
      "        (1): Conv2dNormActivation(\n",
      "          (0): Conv2d(144, 144, kernel_size=(3, 3), stride=(2, 2), padding=(1, 1), groups=144, bias=False)\n",
      "          (1): BatchNorm2d(144, eps=1e-05, momentum=0.1, affine=True, track_running_stats=True)\n",
      "          (2): ReLU6(inplace=True)\n",
      "        )\n",
      "        (2): Conv2d(144, 32, kernel_size=(1, 1), stride=(1, 1), bias=False)\n",
      "        (3): BatchNorm2d(32, eps=1e-05, momentum=0.1, affine=True, track_running_stats=True)\n",
      "      )\n",
      "    )\n",
      "    (5): InvertedResidual(\n",
      "      (conv): Sequential(\n",
      "        (0): Conv2dNormActivation(\n",
      "          (0): Conv2d(32, 192, kernel_size=(1, 1), stride=(1, 1), bias=False)\n",
      "          (1): BatchNorm2d(192, eps=1e-05, momentum=0.1, affine=True, track_running_stats=True)\n",
      "          (2): ReLU6(inplace=True)\n",
      "        )\n",
      "        (1): Conv2dNormActivation(\n",
      "          (0): Conv2d(192, 192, kernel_size=(3, 3), stride=(1, 1), padding=(1, 1), groups=192, bias=False)\n",
      "          (1): BatchNorm2d(192, eps=1e-05, momentum=0.1, affine=True, track_running_stats=True)\n",
      "          (2): ReLU6(inplace=True)\n",
      "        )\n",
      "        (2): Conv2d(192, 32, kernel_size=(1, 1), stride=(1, 1), bias=False)\n",
      "        (3): BatchNorm2d(32, eps=1e-05, momentum=0.1, affine=True, track_running_stats=True)\n",
      "      )\n",
      "    )\n",
      "    (6): InvertedResidual(\n",
      "      (conv): Sequential(\n",
      "        (0): Conv2dNormActivation(\n",
      "          (0): Conv2d(32, 192, kernel_size=(1, 1), stride=(1, 1), bias=False)\n",
      "          (1): BatchNorm2d(192, eps=1e-05, momentum=0.1, affine=True, track_running_stats=True)\n",
      "          (2): ReLU6(inplace=True)\n",
      "        )\n",
      "        (1): Conv2dNormActivation(\n",
      "          (0): Conv2d(192, 192, kernel_size=(3, 3), stride=(1, 1), padding=(1, 1), groups=192, bias=False)\n",
      "          (1): BatchNorm2d(192, eps=1e-05, momentum=0.1, affine=True, track_running_stats=True)\n",
      "          (2): ReLU6(inplace=True)\n",
      "        )\n",
      "        (2): Conv2d(192, 32, kernel_size=(1, 1), stride=(1, 1), bias=False)\n",
      "        (3): BatchNorm2d(32, eps=1e-05, momentum=0.1, affine=True, track_running_stats=True)\n",
      "      )\n",
      "    )\n",
      "    (7): InvertedResidual(\n",
      "      (conv): Sequential(\n",
      "        (0): Conv2dNormActivation(\n",
      "          (0): Conv2d(32, 192, kernel_size=(1, 1), stride=(1, 1), bias=False)\n",
      "          (1): BatchNorm2d(192, eps=1e-05, momentum=0.1, affine=True, track_running_stats=True)\n",
      "          (2): ReLU6(inplace=True)\n",
      "        )\n",
      "        (1): Conv2dNormActivation(\n",
      "          (0): Conv2d(192, 192, kernel_size=(3, 3), stride=(2, 2), padding=(1, 1), groups=192, bias=False)\n",
      "          (1): BatchNorm2d(192, eps=1e-05, momentum=0.1, affine=True, track_running_stats=True)\n",
      "          (2): ReLU6(inplace=True)\n",
      "        )\n",
      "        (2): Conv2d(192, 64, kernel_size=(1, 1), stride=(1, 1), bias=False)\n",
      "        (3): BatchNorm2d(64, eps=1e-05, momentum=0.1, affine=True, track_running_stats=True)\n",
      "      )\n",
      "    )\n",
      "    (8): InvertedResidual(\n",
      "      (conv): Sequential(\n",
      "        (0): Conv2dNormActivation(\n",
      "          (0): Conv2d(64, 384, kernel_size=(1, 1), stride=(1, 1), bias=False)\n",
      "          (1): BatchNorm2d(384, eps=1e-05, momentum=0.1, affine=True, track_running_stats=True)\n",
      "          (2): ReLU6(inplace=True)\n",
      "        )\n",
      "        (1): Conv2dNormActivation(\n",
      "          (0): Conv2d(384, 384, kernel_size=(3, 3), stride=(1, 1), padding=(1, 1), groups=384, bias=False)\n",
      "          (1): BatchNorm2d(384, eps=1e-05, momentum=0.1, affine=True, track_running_stats=True)\n",
      "          (2): ReLU6(inplace=True)\n",
      "        )\n",
      "        (2): Conv2d(384, 64, kernel_size=(1, 1), stride=(1, 1), bias=False)\n",
      "        (3): BatchNorm2d(64, eps=1e-05, momentum=0.1, affine=True, track_running_stats=True)\n",
      "      )\n",
      "    )\n",
      "    (9): InvertedResidual(\n",
      "      (conv): Sequential(\n",
      "        (0): Conv2dNormActivation(\n",
      "          (0): Conv2d(64, 384, kernel_size=(1, 1), stride=(1, 1), bias=False)\n",
      "          (1): BatchNorm2d(384, eps=1e-05, momentum=0.1, affine=True, track_running_stats=True)\n",
      "          (2): ReLU6(inplace=True)\n",
      "        )\n",
      "        (1): Conv2dNormActivation(\n",
      "          (0): Conv2d(384, 384, kernel_size=(3, 3), stride=(1, 1), padding=(1, 1), groups=384, bias=False)\n",
      "          (1): BatchNorm2d(384, eps=1e-05, momentum=0.1, affine=True, track_running_stats=True)\n",
      "          (2): ReLU6(inplace=True)\n",
      "        )\n",
      "        (2): Conv2d(384, 64, kernel_size=(1, 1), stride=(1, 1), bias=False)\n",
      "        (3): BatchNorm2d(64, eps=1e-05, momentum=0.1, affine=True, track_running_stats=True)\n",
      "      )\n",
      "    )\n",
      "    (10): InvertedResidual(\n",
      "      (conv): Sequential(\n",
      "        (0): Conv2dNormActivation(\n",
      "          (0): Conv2d(64, 384, kernel_size=(1, 1), stride=(1, 1), bias=False)\n",
      "          (1): BatchNorm2d(384, eps=1e-05, momentum=0.1, affine=True, track_running_stats=True)\n",
      "          (2): ReLU6(inplace=True)\n",
      "        )\n",
      "        (1): Conv2dNormActivation(\n",
      "          (0): Conv2d(384, 384, kernel_size=(3, 3), stride=(1, 1), padding=(1, 1), groups=384, bias=False)\n",
      "          (1): BatchNorm2d(384, eps=1e-05, momentum=0.1, affine=True, track_running_stats=True)\n",
      "          (2): ReLU6(inplace=True)\n",
      "        )\n",
      "        (2): Conv2d(384, 64, kernel_size=(1, 1), stride=(1, 1), bias=False)\n",
      "        (3): BatchNorm2d(64, eps=1e-05, momentum=0.1, affine=True, track_running_stats=True)\n",
      "      )\n",
      "    )\n",
      "    (11): InvertedResidual(\n",
      "      (conv): Sequential(\n",
      "        (0): Conv2dNormActivation(\n",
      "          (0): Conv2d(64, 384, kernel_size=(1, 1), stride=(1, 1), bias=False)\n",
      "          (1): BatchNorm2d(384, eps=1e-05, momentum=0.1, affine=True, track_running_stats=True)\n",
      "          (2): ReLU6(inplace=True)\n",
      "        )\n",
      "        (1): Conv2dNormActivation(\n",
      "          (0): Conv2d(384, 384, kernel_size=(3, 3), stride=(1, 1), padding=(1, 1), groups=384, bias=False)\n",
      "          (1): BatchNorm2d(384, eps=1e-05, momentum=0.1, affine=True, track_running_stats=True)\n",
      "          (2): ReLU6(inplace=True)\n",
      "        )\n",
      "        (2): Conv2d(384, 96, kernel_size=(1, 1), stride=(1, 1), bias=False)\n",
      "        (3): BatchNorm2d(96, eps=1e-05, momentum=0.1, affine=True, track_running_stats=True)\n",
      "      )\n",
      "    )\n",
      "    (12): InvertedResidual(\n",
      "      (conv): Sequential(\n",
      "        (0): Conv2dNormActivation(\n",
      "          (0): Conv2d(96, 576, kernel_size=(1, 1), stride=(1, 1), bias=False)\n",
      "          (1): BatchNorm2d(576, eps=1e-05, momentum=0.1, affine=True, track_running_stats=True)\n",
      "          (2): ReLU6(inplace=True)\n",
      "        )\n",
      "        (1): Conv2dNormActivation(\n",
      "          (0): Conv2d(576, 576, kernel_size=(3, 3), stride=(1, 1), padding=(1, 1), groups=576, bias=False)\n",
      "          (1): BatchNorm2d(576, eps=1e-05, momentum=0.1, affine=True, track_running_stats=True)\n",
      "          (2): ReLU6(inplace=True)\n",
      "        )\n",
      "        (2): Conv2d(576, 96, kernel_size=(1, 1), stride=(1, 1), bias=False)\n",
      "        (3): BatchNorm2d(96, eps=1e-05, momentum=0.1, affine=True, track_running_stats=True)\n",
      "      )\n",
      "    )\n",
      "    (13): InvertedResidual(\n",
      "      (conv): Sequential(\n",
      "        (0): Conv2dNormActivation(\n",
      "          (0): Conv2d(96, 576, kernel_size=(1, 1), stride=(1, 1), bias=False)\n",
      "          (1): BatchNorm2d(576, eps=1e-05, momentum=0.1, affine=True, track_running_stats=True)\n",
      "          (2): ReLU6(inplace=True)\n",
      "        )\n",
      "        (1): Conv2dNormActivation(\n",
      "          (0): Conv2d(576, 576, kernel_size=(3, 3), stride=(1, 1), padding=(1, 1), groups=576, bias=False)\n",
      "          (1): BatchNorm2d(576, eps=1e-05, momentum=0.1, affine=True, track_running_stats=True)\n",
      "          (2): ReLU6(inplace=True)\n",
      "        )\n",
      "        (2): Conv2d(576, 96, kernel_size=(1, 1), stride=(1, 1), bias=False)\n",
      "        (3): BatchNorm2d(96, eps=1e-05, momentum=0.1, affine=True, track_running_stats=True)\n",
      "      )\n",
      "    )\n",
      "    (14): InvertedResidual(\n",
      "      (conv): Sequential(\n",
      "        (0): Conv2dNormActivation(\n",
      "          (0): Conv2d(96, 576, kernel_size=(1, 1), stride=(1, 1), bias=False)\n",
      "          (1): BatchNorm2d(576, eps=1e-05, momentum=0.1, affine=True, track_running_stats=True)\n",
      "          (2): ReLU6(inplace=True)\n",
      "        )\n",
      "        (1): Conv2dNormActivation(\n",
      "          (0): Conv2d(576, 576, kernel_size=(3, 3), stride=(2, 2), padding=(1, 1), groups=576, bias=False)\n",
      "          (1): BatchNorm2d(576, eps=1e-05, momentum=0.1, affine=True, track_running_stats=True)\n",
      "          (2): ReLU6(inplace=True)\n",
      "        )\n",
      "        (2): Conv2d(576, 160, kernel_size=(1, 1), stride=(1, 1), bias=False)\n",
      "        (3): BatchNorm2d(160, eps=1e-05, momentum=0.1, affine=True, track_running_stats=True)\n",
      "      )\n",
      "    )\n",
      "    (15): InvertedResidual(\n",
      "      (conv): Sequential(\n",
      "        (0): Conv2dNormActivation(\n",
      "          (0): Conv2d(160, 960, kernel_size=(1, 1), stride=(1, 1), bias=False)\n",
      "          (1): BatchNorm2d(960, eps=1e-05, momentum=0.1, affine=True, track_running_stats=True)\n",
      "          (2): ReLU6(inplace=True)\n",
      "        )\n",
      "        (1): Conv2dNormActivation(\n",
      "          (0): Conv2d(960, 960, kernel_size=(3, 3), stride=(1, 1), padding=(1, 1), groups=960, bias=False)\n",
      "          (1): BatchNorm2d(960, eps=1e-05, momentum=0.1, affine=True, track_running_stats=True)\n",
      "          (2): ReLU6(inplace=True)\n",
      "        )\n",
      "        (2): Conv2d(960, 160, kernel_size=(1, 1), stride=(1, 1), bias=False)\n",
      "        (3): BatchNorm2d(160, eps=1e-05, momentum=0.1, affine=True, track_running_stats=True)\n",
      "      )\n",
      "    )\n",
      "    (16): InvertedResidual(\n",
      "      (conv): Sequential(\n",
      "        (0): Conv2dNormActivation(\n",
      "          (0): Conv2d(160, 960, kernel_size=(1, 1), stride=(1, 1), bias=False)\n",
      "          (1): BatchNorm2d(960, eps=1e-05, momentum=0.1, affine=True, track_running_stats=True)\n",
      "          (2): ReLU6(inplace=True)\n",
      "        )\n",
      "        (1): Conv2dNormActivation(\n",
      "          (0): Conv2d(960, 960, kernel_size=(3, 3), stride=(1, 1), padding=(1, 1), groups=960, bias=False)\n",
      "          (1): BatchNorm2d(960, eps=1e-05, momentum=0.1, affine=True, track_running_stats=True)\n",
      "          (2): ReLU6(inplace=True)\n",
      "        )\n",
      "        (2): Conv2d(960, 160, kernel_size=(1, 1), stride=(1, 1), bias=False)\n",
      "        (3): BatchNorm2d(160, eps=1e-05, momentum=0.1, affine=True, track_running_stats=True)\n",
      "      )\n",
      "    )\n",
      "    (17): InvertedResidual(\n",
      "      (conv): Sequential(\n",
      "        (0): Conv2dNormActivation(\n",
      "          (0): Conv2d(160, 960, kernel_size=(1, 1), stride=(1, 1), bias=False)\n",
      "          (1): BatchNorm2d(960, eps=1e-05, momentum=0.1, affine=True, track_running_stats=True)\n",
      "          (2): ReLU6(inplace=True)\n",
      "        )\n",
      "        (1): Conv2dNormActivation(\n",
      "          (0): Conv2d(960, 960, kernel_size=(3, 3), stride=(1, 1), padding=(1, 1), groups=960, bias=False)\n",
      "          (1): BatchNorm2d(960, eps=1e-05, momentum=0.1, affine=True, track_running_stats=True)\n",
      "          (2): ReLU6(inplace=True)\n",
      "        )\n",
      "        (2): Conv2d(960, 320, kernel_size=(1, 1), stride=(1, 1), bias=False)\n",
      "        (3): BatchNorm2d(320, eps=1e-05, momentum=0.1, affine=True, track_running_stats=True)\n",
      "      )\n",
      "    )\n",
      "    (18): Conv2dNormActivation(\n",
      "      (0): Conv2d(320, 1280, kernel_size=(1, 1), stride=(1, 1), bias=False)\n",
      "      (1): BatchNorm2d(1280, eps=1e-05, momentum=0.1, affine=True, track_running_stats=True)\n",
      "      (2): ReLU6(inplace=True)\n",
      "    )\n",
      "  )\n",
      "  (classifier): Sequential(\n",
      "    (0): Dropout(p=0.2, inplace=False)\n",
      "    (1): Linear(in_features=1280, out_features=3, bias=True)\n",
      "  )\n",
      ")\n",
      "Using device: cuda\n"
     ]
    }
   ],
   "source": [
    "model = torchvision.models.mobilenet_v2(weights=torchvision.models.MobileNet_V2_Weights.DEFAULT)\n",
    "model.classifier[1] = torch.nn.Linear(model.classifier[1].in_features, NUM_LABELS)\n",
    "model.to(device)\n",
    "print(model)\n",
    "print(f\"Using device: {device}\")"
   ]
  },
  {
   "cell_type": "code",
   "execution_count": 18,
   "id": "b0a623e1",
   "metadata": {},
   "outputs": [],
   "source": [
    "# setup loss function and optimizer, LR will be overriden by sparseml\n",
    "criterion = CrossEntropyLoss()\n",
    "optimizer = Adam(model.parameters(), lr=8e-3)"
   ]
  },
  {
   "cell_type": "code",
   "execution_count": 19,
   "id": "d4553beb",
   "metadata": {},
   "outputs": [
    {
     "name": "stdout",
     "output_type": "stream",
     "text": [
      "\r\n",
      "# Epoch and Learning-Rate variables\r\n",
      "num_epochs: 10.0\r\n",
      "init_lr: 0.0005\r\n",
      "\r\n",
      "training_modifiers:\r\n",
      "  - !EpochRangeModifier\r\n",
      "    start_epoch: 0.0\r\n",
      "    end_epoch: eval(num_epochs)\r\n",
      "\r\n",
      "  - !LearningRateFunctionModifier\r\n",
      "    final_lr: 0.0\r\n",
      "    init_lr: eval(init_lr)\r\n",
      "    lr_func: cosine\r\n",
      "    start_epoch: 0.0\r\n",
      "    end_epoch: eval(num_epochs)\r\n",
      "\r\n",
      "# Phase 1 Sparse Transfer Learning / Recovery\r\n",
      "sparse_transfer_learning_modifiers:\r\n",
      "  - !ConstantPruningModifier\r\n",
      "    start_epoch: 0.0\r\n",
      "    params: __ALL_PRUNABLE__\r\n"
     ]
    }
   ],
   "source": [
    "!cat ./dense_model/dense-recipe.yaml"
   ]
  },
  {
   "cell_type": "code",
   "execution_count": 20,
   "id": "1749e00d",
   "metadata": {},
   "outputs": [],
   "source": [
    "# create ScheduledModifierManager and Optimizer wrapper\n",
    "manager = ScheduledModifierManager.from_yaml(\"./dense_model/dense-recipe.yaml\")\n",
    "optimizer = manager.modify(model, optimizer, steps_per_epoch=len(train_loader))"
   ]
  },
  {
   "cell_type": "code",
   "execution_count": 21,
   "id": "d00d175b",
   "metadata": {
    "scrolled": false
   },
   "outputs": [
    {
     "name": "stdout",
     "output_type": "stream",
     "text": [
      "Running Training Epoch 1/10\n"
     ]
    },
    {
     "data": {
      "application/vnd.jupyter.widget-view+json": {
       "model_id": "f2c6b000774e4eaca928b6141d7c3213",
       "version_major": 2,
       "version_minor": 0
      },
      "text/plain": [
       "  0%|          | 0/33 [00:00<?, ?it/s]"
      ]
     },
     "metadata": {},
     "output_type": "display_data"
    },
    {
     "name": "stdout",
     "output_type": "stream",
     "text": [
      "Training Epoch: 1/10\n",
      "Training Loss: 0.49688769707625563\n",
      "Top 1 Acc: 0.811411992263056\n",
      "\n",
      "Running Validation Epoch 1/10\n"
     ]
    },
    {
     "data": {
      "application/vnd.jupyter.widget-view+json": {
       "model_id": "66fe4e0c0851461db6d884a40a607444",
       "version_major": 2,
       "version_minor": 0
      },
      "text/plain": [
       "  0%|          | 0/5 [00:00<?, ?it/s]"
      ]
     },
     "metadata": {},
     "output_type": "display_data"
    },
    {
     "name": "stdout",
     "output_type": "stream",
     "text": [
      "Validation Epoch: 1/10\n",
      "Val Loss: 0.10483174873515963\n",
      "Top 1 Acc: 0.9624060150375939\n",
      "\n",
      "Running Training Epoch 2/10\n"
     ]
    },
    {
     "data": {
      "application/vnd.jupyter.widget-view+json": {
       "model_id": "f5b6964760f44e1f98094732aadae9fb",
       "version_major": 2,
       "version_minor": 0
      },
      "text/plain": [
       "  0%|          | 0/33 [00:00<?, ?it/s]"
      ]
     },
     "metadata": {},
     "output_type": "display_data"
    },
    {
     "name": "stdout",
     "output_type": "stream",
     "text": [
      "Training Epoch: 2/10\n",
      "Training Loss: 0.13233664106916299\n",
      "Top 1 Acc: 0.9709864603481625\n",
      "\n",
      "Running Validation Epoch 2/10\n"
     ]
    },
    {
     "data": {
      "application/vnd.jupyter.widget-view+json": {
       "model_id": "03589fa8706b4b12915f425382227d0e",
       "version_major": 2,
       "version_minor": 0
      },
      "text/plain": [
       "  0%|          | 0/5 [00:00<?, ?it/s]"
      ]
     },
     "metadata": {},
     "output_type": "display_data"
    },
    {
     "name": "stdout",
     "output_type": "stream",
     "text": [
      "Validation Epoch: 2/10\n",
      "Val Loss: 0.10690611051395535\n",
      "Top 1 Acc: 0.9624060150375939\n",
      "\n",
      "Running Training Epoch 3/10\n"
     ]
    },
    {
     "data": {
      "application/vnd.jupyter.widget-view+json": {
       "model_id": "38fbbd378dcf47eba5ba2964d9515d90",
       "version_major": 2,
       "version_minor": 0
      },
      "text/plain": [
       "  0%|          | 0/33 [00:00<?, ?it/s]"
      ]
     },
     "metadata": {},
     "output_type": "display_data"
    },
    {
     "name": "stdout",
     "output_type": "stream",
     "text": [
      "Training Epoch: 3/10\n",
      "Training Loss: 0.061133282936432144\n",
      "Top 1 Acc: 0.9893617021276596\n",
      "\n",
      "Running Validation Epoch 3/10\n"
     ]
    },
    {
     "data": {
      "application/vnd.jupyter.widget-view+json": {
       "model_id": "ead52a74d6a84abfafcf7a8e095df868",
       "version_major": 2,
       "version_minor": 0
      },
      "text/plain": [
       "  0%|          | 0/5 [00:00<?, ?it/s]"
      ]
     },
     "metadata": {},
     "output_type": "display_data"
    },
    {
     "name": "stdout",
     "output_type": "stream",
     "text": [
      "Validation Epoch: 3/10\n",
      "Val Loss: 0.05752026969566941\n",
      "Top 1 Acc: 0.9774436090225563\n",
      "\n",
      "Running Training Epoch 4/10\n"
     ]
    },
    {
     "data": {
      "application/vnd.jupyter.widget-view+json": {
       "model_id": "6161054cadc746cc9f0972a15002e489",
       "version_major": 2,
       "version_minor": 0
      },
      "text/plain": [
       "  0%|          | 0/33 [00:00<?, ?it/s]"
      ]
     },
     "metadata": {},
     "output_type": "display_data"
    },
    {
     "name": "stdout",
     "output_type": "stream",
     "text": [
      "Training Epoch: 4/10\n",
      "Training Loss: 0.03709277432327243\n",
      "Top 1 Acc: 0.988394584139265\n",
      "\n",
      "Running Validation Epoch 4/10\n"
     ]
    },
    {
     "data": {
      "application/vnd.jupyter.widget-view+json": {
       "model_id": "393de368a783482dbf640966209195b8",
       "version_major": 2,
       "version_minor": 0
      },
      "text/plain": [
       "  0%|          | 0/5 [00:00<?, ?it/s]"
      ]
     },
     "metadata": {},
     "output_type": "display_data"
    },
    {
     "name": "stdout",
     "output_type": "stream",
     "text": [
      "Validation Epoch: 4/10\n",
      "Val Loss: 0.09043196495622396\n",
      "Top 1 Acc: 0.9699248120300752\n",
      "\n",
      "Running Training Epoch 5/10\n"
     ]
    },
    {
     "data": {
      "application/vnd.jupyter.widget-view+json": {
       "model_id": "e07443d60a154ebc946e6e49c7c2e2bd",
       "version_major": 2,
       "version_minor": 0
      },
      "text/plain": [
       "  0%|          | 0/33 [00:00<?, ?it/s]"
      ]
     },
     "metadata": {},
     "output_type": "display_data"
    },
    {
     "name": "stdout",
     "output_type": "stream",
     "text": [
      "Training Epoch: 5/10\n",
      "Training Loss: 0.011832633150995454\n",
      "Top 1 Acc: 0.9990328820116054\n",
      "\n",
      "Running Validation Epoch 5/10\n"
     ]
    },
    {
     "data": {
      "application/vnd.jupyter.widget-view+json": {
       "model_id": "8973eb27c13144489b86a1b4c8d7d0fd",
       "version_major": 2,
       "version_minor": 0
      },
      "text/plain": [
       "  0%|          | 0/5 [00:00<?, ?it/s]"
      ]
     },
     "metadata": {},
     "output_type": "display_data"
    },
    {
     "name": "stdout",
     "output_type": "stream",
     "text": [
      "Validation Epoch: 5/10\n",
      "Val Loss: 0.05438814461231232\n",
      "Top 1 Acc: 0.9774436090225563\n",
      "\n",
      "Running Training Epoch 6/10\n"
     ]
    },
    {
     "data": {
      "application/vnd.jupyter.widget-view+json": {
       "model_id": "91c3c9f4af124e609dc1690dffe6b98d",
       "version_major": 2,
       "version_minor": 0
      },
      "text/plain": [
       "  0%|          | 0/33 [00:00<?, ?it/s]"
      ]
     },
     "metadata": {},
     "output_type": "display_data"
    },
    {
     "name": "stdout",
     "output_type": "stream",
     "text": [
      "Training Epoch: 6/10\n",
      "Training Loss: 0.012920034544852873\n",
      "Top 1 Acc: 0.9970986460348162\n",
      "\n",
      "Running Validation Epoch 6/10\n"
     ]
    },
    {
     "data": {
      "application/vnd.jupyter.widget-view+json": {
       "model_id": "5abd456da44f4f11b1f6a495be13e49a",
       "version_major": 2,
       "version_minor": 0
      },
      "text/plain": [
       "  0%|          | 0/5 [00:00<?, ?it/s]"
      ]
     },
     "metadata": {},
     "output_type": "display_data"
    },
    {
     "name": "stdout",
     "output_type": "stream",
     "text": [
      "Validation Epoch: 6/10\n",
      "Val Loss: 0.05623044967651367\n",
      "Top 1 Acc: 0.9699248120300752\n",
      "\n",
      "Running Training Epoch 7/10\n"
     ]
    },
    {
     "data": {
      "application/vnd.jupyter.widget-view+json": {
       "model_id": "3afa211b71a94cf8b40378aff72b4efa",
       "version_major": 2,
       "version_minor": 0
      },
      "text/plain": [
       "  0%|          | 0/33 [00:00<?, ?it/s]"
      ]
     },
     "metadata": {},
     "output_type": "display_data"
    },
    {
     "name": "stdout",
     "output_type": "stream",
     "text": [
      "Training Epoch: 7/10\n",
      "Training Loss: 0.008218912644114233\n",
      "Top 1 Acc: 0.9980657640232108\n",
      "\n",
      "Running Validation Epoch 7/10\n"
     ]
    },
    {
     "data": {
      "application/vnd.jupyter.widget-view+json": {
       "model_id": "33f81ef07ca64adb92d3bdf059152274",
       "version_major": 2,
       "version_minor": 0
      },
      "text/plain": [
       "  0%|          | 0/5 [00:00<?, ?it/s]"
      ]
     },
     "metadata": {},
     "output_type": "display_data"
    },
    {
     "name": "stdout",
     "output_type": "stream",
     "text": [
      "Validation Epoch: 7/10\n",
      "Val Loss: 0.05101724807173014\n",
      "Top 1 Acc: 0.9774436090225563\n",
      "\n",
      "Running Training Epoch 8/10\n"
     ]
    },
    {
     "data": {
      "application/vnd.jupyter.widget-view+json": {
       "model_id": "aeb0f166f778426f9af9739f97ab7ac1",
       "version_major": 2,
       "version_minor": 0
      },
      "text/plain": [
       "  0%|          | 0/33 [00:00<?, ?it/s]"
      ]
     },
     "metadata": {},
     "output_type": "display_data"
    },
    {
     "name": "stdout",
     "output_type": "stream",
     "text": [
      "Training Epoch: 8/10\n",
      "Training Loss: 0.006811827950348908\n",
      "Top 1 Acc: 1.0\n",
      "\n",
      "Running Validation Epoch 8/10\n"
     ]
    },
    {
     "data": {
      "application/vnd.jupyter.widget-view+json": {
       "model_id": "4aad511d52e74ef981068b1cfffdf174",
       "version_major": 2,
       "version_minor": 0
      },
      "text/plain": [
       "  0%|          | 0/5 [00:00<?, ?it/s]"
      ]
     },
     "metadata": {},
     "output_type": "display_data"
    },
    {
     "name": "stdout",
     "output_type": "stream",
     "text": [
      "Validation Epoch: 8/10\n",
      "Val Loss: 0.0494396741501987\n",
      "Top 1 Acc: 0.9548872180451128\n",
      "\n",
      "Running Training Epoch 9/10\n"
     ]
    },
    {
     "data": {
      "application/vnd.jupyter.widget-view+json": {
       "model_id": "a7b8acace3c04d87b380c306b661159b",
       "version_major": 2,
       "version_minor": 0
      },
      "text/plain": [
       "  0%|          | 0/33 [00:00<?, ?it/s]"
      ]
     },
     "metadata": {},
     "output_type": "display_data"
    },
    {
     "name": "stdout",
     "output_type": "stream",
     "text": [
      "Training Epoch: 9/10\n",
      "Training Loss: 0.005579106432075302\n",
      "Top 1 Acc: 0.9990328820116054\n",
      "\n",
      "Running Validation Epoch 9/10\n"
     ]
    },
    {
     "data": {
      "application/vnd.jupyter.widget-view+json": {
       "model_id": "889d3c2e6a2f4560a0692f82b09e28f9",
       "version_major": 2,
       "version_minor": 0
      },
      "text/plain": [
       "  0%|          | 0/5 [00:00<?, ?it/s]"
      ]
     },
     "metadata": {},
     "output_type": "display_data"
    },
    {
     "name": "stdout",
     "output_type": "stream",
     "text": [
      "Validation Epoch: 9/10\n",
      "Val Loss: 0.050181417539715764\n",
      "Top 1 Acc: 0.9624060150375939\n",
      "\n",
      "Running Training Epoch 10/10\n"
     ]
    },
    {
     "data": {
      "application/vnd.jupyter.widget-view+json": {
       "model_id": "c662492b659f455499d40c9585a0918c",
       "version_major": 2,
       "version_minor": 0
      },
      "text/plain": [
       "  0%|          | 0/33 [00:00<?, ?it/s]"
      ]
     },
     "metadata": {},
     "output_type": "display_data"
    },
    {
     "name": "stdout",
     "output_type": "stream",
     "text": [
      "Training Epoch: 10/10\n",
      "Training Loss: 0.006127264015517678\n",
      "Top 1 Acc: 0.9980657640232108\n",
      "\n",
      "Running Validation Epoch 10/10\n"
     ]
    },
    {
     "data": {
      "application/vnd.jupyter.widget-view+json": {
       "model_id": "6b4cf87af07d404b935b414ead0be10c",
       "version_major": 2,
       "version_minor": 0
      },
      "text/plain": [
       "  0%|          | 0/5 [00:00<?, ?it/s]"
      ]
     },
     "metadata": {},
     "output_type": "display_data"
    },
    {
     "name": "stdout",
     "output_type": "stream",
     "text": [
      "Validation Epoch: 10/10\n",
      "Val Loss: 0.04676330639049411\n",
      "Top 1 Acc: 0.9624060150375939\n",
      "\n"
     ]
    }
   ],
   "source": [
    "# run transfer learning\n",
    "epoch = 0\n",
    "for epoch in range(manager.max_epochs):\n",
    "    # run training loop\n",
    "    epoch_name = f\"{epoch + 1}/{manager.max_epochs}\"\n",
    "    print(f\"Running Training Epoch {epoch_name}\")\n",
    "    train_loss, train_acc = run_model_one_epoch(\n",
    "        model, train_loader, criterion, device, train=True, optimizer=optimizer\n",
    "    )\n",
    "    print(\n",
    "        f\"Training Epoch: {epoch_name}\\nTraining Loss: {train_loss}\\nTop 1 Acc: {train_acc}\\n\"\n",
    "    )\n",
    "\n",
    "    # run validation loop\n",
    "    print(f\"Running Validation Epoch {epoch_name}\")\n",
    "    val_loss, val_acc = run_model_one_epoch(model, val_loader, criterion, device)\n",
    "    print(\n",
    "        f\"Validation Epoch: {epoch_name}\\nVal Loss: {val_loss}\\nTop 1 Acc: {val_acc}\\n\"\n",
    "    )\n",
    "\n",
    "manager.finalize(model)"
   ]
  },
  {
   "cell_type": "code",
   "execution_count": 22,
   "id": "1217c3e9",
   "metadata": {
    "scrolled": false
   },
   "outputs": [
    {
     "name": "stdout",
     "output_type": "stream",
     "text": [
      "features.0.0.weight: 0.0000\n",
      "features.1.conv.0.0.weight: 0.0000\n",
      "features.1.conv.1.weight: 0.0000\n",
      "features.2.conv.0.0.weight: 0.0000\n",
      "features.2.conv.1.0.weight: 0.0000\n",
      "features.2.conv.2.weight: 0.0000\n",
      "features.3.conv.0.0.weight: 0.0000\n",
      "features.3.conv.1.0.weight: 0.0000\n",
      "features.3.conv.2.weight: 0.0000\n",
      "features.4.conv.0.0.weight: 0.0000\n",
      "features.4.conv.1.0.weight: 0.0000\n",
      "features.4.conv.2.weight: 0.0000\n",
      "features.5.conv.0.0.weight: 0.0000\n",
      "features.5.conv.1.0.weight: 0.0000\n",
      "features.5.conv.2.weight: 0.0000\n",
      "features.6.conv.0.0.weight: 0.0000\n",
      "features.6.conv.1.0.weight: 0.0000\n",
      "features.6.conv.2.weight: 0.0000\n",
      "features.7.conv.0.0.weight: 0.0000\n",
      "features.7.conv.1.0.weight: 0.0000\n",
      "features.7.conv.2.weight: 0.0000\n",
      "features.8.conv.0.0.weight: 0.0000\n",
      "features.8.conv.1.0.weight: 0.0000\n",
      "features.8.conv.2.weight: 0.0000\n",
      "features.9.conv.0.0.weight: 0.0000\n",
      "features.9.conv.1.0.weight: 0.0000\n",
      "features.9.conv.2.weight: 0.0000\n",
      "features.10.conv.0.0.weight: 0.0000\n",
      "features.10.conv.1.0.weight: 0.0000\n",
      "features.10.conv.2.weight: 0.0000\n",
      "features.11.conv.0.0.weight: 0.0000\n",
      "features.11.conv.1.0.weight: 0.0000\n",
      "features.11.conv.2.weight: 0.0000\n",
      "features.12.conv.0.0.weight: 0.0000\n",
      "features.12.conv.1.0.weight: 0.0000\n",
      "features.12.conv.2.weight: 0.0000\n",
      "features.13.conv.0.0.weight: 0.0000\n",
      "features.13.conv.1.0.weight: 0.0000\n",
      "features.13.conv.2.weight: 0.0000\n",
      "features.14.conv.0.0.weight: 0.0000\n",
      "features.14.conv.1.0.weight: 0.0000\n",
      "features.14.conv.2.weight: 0.0000\n",
      "features.15.conv.0.0.weight: 0.0000\n",
      "features.15.conv.1.0.weight: 0.0000\n",
      "features.15.conv.2.weight: 0.0000\n",
      "features.16.conv.0.0.weight: 0.0000\n",
      "features.16.conv.1.0.weight: 0.0000\n",
      "features.16.conv.2.weight: 0.0000\n",
      "features.17.conv.0.0.weight: 0.0000\n",
      "features.17.conv.1.0.weight: 0.0000\n",
      "features.17.conv.2.weight: 0.0000\n",
      "features.18.0.weight: 0.0000\n",
      "classifier.1.weight: 0.0000\n"
     ]
    }
   ],
   "source": [
    "# print sparsities of each layer\n",
    "for (name, layer) in get_prunable_layers(model):\n",
    "    print(f\"{name}.weight: {tensor_sparsity(layer.weight).item():.4f}\")"
   ]
  },
  {
   "cell_type": "code",
   "execution_count": 25,
   "id": "11fa4cf2",
   "metadata": {},
   "outputs": [],
   "source": [
    "from sparseml.pytorch.utils import ModuleExporter\n",
    "\n",
    "save_dir = \"dense_model\"\n",
    "exporter = ModuleExporter(model, output_dir=save_dir)\n",
    "exporter.export_pytorch(name=\"mobilenet-v2-dense-beans.pth\")"
   ]
  },
  {
   "cell_type": "markdown",
   "id": "273ce478",
   "metadata": {},
   "source": [
    "## Prune The Model"
   ]
  },
  {
   "cell_type": "code",
   "execution_count": 27,
   "id": "8447d074",
   "metadata": {},
   "outputs": [],
   "source": [
    "checkpoint = torch.load(\"./dense_model/training/mobilenet-v2-dense-beans.pth\")\n",
    "model = torchvision.models.mobilenet_v2()\n",
    "model.classifier[1] = torch.nn.Linear(model.classifier[1].in_features, NUM_LABELS)\n",
    "model.load_state_dict(checkpoint['state_dict'])\n",
    "model.to(device)\n",
    "\n",
    "# setup loss function and optimizer, LR will be overriden by sparseml\n",
    "criterion = CrossEntropyLoss()\n",
    "optimizer = Adam(model.parameters(), lr=8e-3)"
   ]
  },
  {
   "cell_type": "code",
   "execution_count": 28,
   "id": "9154d351",
   "metadata": {},
   "outputs": [
    {
     "name": "stdout",
     "output_type": "stream",
     "text": [
      "MobileNetV2(\n",
      "  (features): Sequential(\n",
      "    (0): Conv2dNormActivation(\n",
      "      (0): Conv2d(3, 32, kernel_size=(3, 3), stride=(2, 2), padding=(1, 1), bias=False)\n",
      "      (1): BatchNorm2d(32, eps=1e-05, momentum=0.1, affine=True, track_running_stats=True)\n",
      "      (2): ReLU6(inplace=True)\n",
      "    )\n",
      "    (1): InvertedResidual(\n",
      "      (conv): Sequential(\n",
      "        (0): Conv2dNormActivation(\n",
      "          (0): Conv2d(32, 32, kernel_size=(3, 3), stride=(1, 1), padding=(1, 1), groups=32, bias=False)\n",
      "          (1): BatchNorm2d(32, eps=1e-05, momentum=0.1, affine=True, track_running_stats=True)\n",
      "          (2): ReLU6(inplace=True)\n",
      "        )\n",
      "        (1): Conv2d(32, 16, kernel_size=(1, 1), stride=(1, 1), bias=False)\n",
      "        (2): BatchNorm2d(16, eps=1e-05, momentum=0.1, affine=True, track_running_stats=True)\n",
      "      )\n",
      "    )\n",
      "    (2): InvertedResidual(\n",
      "      (conv): Sequential(\n",
      "        (0): Conv2dNormActivation(\n",
      "          (0): Conv2d(16, 96, kernel_size=(1, 1), stride=(1, 1), bias=False)\n",
      "          (1): BatchNorm2d(96, eps=1e-05, momentum=0.1, affine=True, track_running_stats=True)\n",
      "          (2): ReLU6(inplace=True)\n",
      "        )\n",
      "        (1): Conv2dNormActivation(\n",
      "          (0): Conv2d(96, 96, kernel_size=(3, 3), stride=(2, 2), padding=(1, 1), groups=96, bias=False)\n",
      "          (1): BatchNorm2d(96, eps=1e-05, momentum=0.1, affine=True, track_running_stats=True)\n",
      "          (2): ReLU6(inplace=True)\n",
      "        )\n",
      "        (2): Conv2d(96, 24, kernel_size=(1, 1), stride=(1, 1), bias=False)\n",
      "        (3): BatchNorm2d(24, eps=1e-05, momentum=0.1, affine=True, track_running_stats=True)\n",
      "      )\n",
      "    )\n",
      "    (3): InvertedResidual(\n",
      "      (conv): Sequential(\n",
      "        (0): Conv2dNormActivation(\n",
      "          (0): Conv2d(24, 144, kernel_size=(1, 1), stride=(1, 1), bias=False)\n",
      "          (1): BatchNorm2d(144, eps=1e-05, momentum=0.1, affine=True, track_running_stats=True)\n",
      "          (2): ReLU6(inplace=True)\n",
      "        )\n",
      "        (1): Conv2dNormActivation(\n",
      "          (0): Conv2d(144, 144, kernel_size=(3, 3), stride=(1, 1), padding=(1, 1), groups=144, bias=False)\n",
      "          (1): BatchNorm2d(144, eps=1e-05, momentum=0.1, affine=True, track_running_stats=True)\n",
      "          (2): ReLU6(inplace=True)\n",
      "        )\n",
      "        (2): Conv2d(144, 24, kernel_size=(1, 1), stride=(1, 1), bias=False)\n",
      "        (3): BatchNorm2d(24, eps=1e-05, momentum=0.1, affine=True, track_running_stats=True)\n",
      "      )\n",
      "    )\n",
      "    (4): InvertedResidual(\n",
      "      (conv): Sequential(\n",
      "        (0): Conv2dNormActivation(\n",
      "          (0): Conv2d(24, 144, kernel_size=(1, 1), stride=(1, 1), bias=False)\n",
      "          (1): BatchNorm2d(144, eps=1e-05, momentum=0.1, affine=True, track_running_stats=True)\n",
      "          (2): ReLU6(inplace=True)\n",
      "        )\n",
      "        (1): Conv2dNormActivation(\n",
      "          (0): Conv2d(144, 144, kernel_size=(3, 3), stride=(2, 2), padding=(1, 1), groups=144, bias=False)\n",
      "          (1): BatchNorm2d(144, eps=1e-05, momentum=0.1, affine=True, track_running_stats=True)\n",
      "          (2): ReLU6(inplace=True)\n",
      "        )\n",
      "        (2): Conv2d(144, 32, kernel_size=(1, 1), stride=(1, 1), bias=False)\n",
      "        (3): BatchNorm2d(32, eps=1e-05, momentum=0.1, affine=True, track_running_stats=True)\n",
      "      )\n",
      "    )\n",
      "    (5): InvertedResidual(\n",
      "      (conv): Sequential(\n",
      "        (0): Conv2dNormActivation(\n",
      "          (0): Conv2d(32, 192, kernel_size=(1, 1), stride=(1, 1), bias=False)\n",
      "          (1): BatchNorm2d(192, eps=1e-05, momentum=0.1, affine=True, track_running_stats=True)\n",
      "          (2): ReLU6(inplace=True)\n",
      "        )\n",
      "        (1): Conv2dNormActivation(\n",
      "          (0): Conv2d(192, 192, kernel_size=(3, 3), stride=(1, 1), padding=(1, 1), groups=192, bias=False)\n",
      "          (1): BatchNorm2d(192, eps=1e-05, momentum=0.1, affine=True, track_running_stats=True)\n",
      "          (2): ReLU6(inplace=True)\n",
      "        )\n",
      "        (2): Conv2d(192, 32, kernel_size=(1, 1), stride=(1, 1), bias=False)\n",
      "        (3): BatchNorm2d(32, eps=1e-05, momentum=0.1, affine=True, track_running_stats=True)\n",
      "      )\n",
      "    )\n",
      "    (6): InvertedResidual(\n",
      "      (conv): Sequential(\n",
      "        (0): Conv2dNormActivation(\n",
      "          (0): Conv2d(32, 192, kernel_size=(1, 1), stride=(1, 1), bias=False)\n",
      "          (1): BatchNorm2d(192, eps=1e-05, momentum=0.1, affine=True, track_running_stats=True)\n",
      "          (2): ReLU6(inplace=True)\n",
      "        )\n",
      "        (1): Conv2dNormActivation(\n",
      "          (0): Conv2d(192, 192, kernel_size=(3, 3), stride=(1, 1), padding=(1, 1), groups=192, bias=False)\n",
      "          (1): BatchNorm2d(192, eps=1e-05, momentum=0.1, affine=True, track_running_stats=True)\n",
      "          (2): ReLU6(inplace=True)\n",
      "        )\n",
      "        (2): Conv2d(192, 32, kernel_size=(1, 1), stride=(1, 1), bias=False)\n",
      "        (3): BatchNorm2d(32, eps=1e-05, momentum=0.1, affine=True, track_running_stats=True)\n",
      "      )\n",
      "    )\n",
      "    (7): InvertedResidual(\n",
      "      (conv): Sequential(\n",
      "        (0): Conv2dNormActivation(\n",
      "          (0): Conv2d(32, 192, kernel_size=(1, 1), stride=(1, 1), bias=False)\n",
      "          (1): BatchNorm2d(192, eps=1e-05, momentum=0.1, affine=True, track_running_stats=True)\n",
      "          (2): ReLU6(inplace=True)\n",
      "        )\n",
      "        (1): Conv2dNormActivation(\n",
      "          (0): Conv2d(192, 192, kernel_size=(3, 3), stride=(2, 2), padding=(1, 1), groups=192, bias=False)\n",
      "          (1): BatchNorm2d(192, eps=1e-05, momentum=0.1, affine=True, track_running_stats=True)\n",
      "          (2): ReLU6(inplace=True)\n",
      "        )\n",
      "        (2): Conv2d(192, 64, kernel_size=(1, 1), stride=(1, 1), bias=False)\n",
      "        (3): BatchNorm2d(64, eps=1e-05, momentum=0.1, affine=True, track_running_stats=True)\n",
      "      )\n",
      "    )\n",
      "    (8): InvertedResidual(\n",
      "      (conv): Sequential(\n",
      "        (0): Conv2dNormActivation(\n",
      "          (0): Conv2d(64, 384, kernel_size=(1, 1), stride=(1, 1), bias=False)\n",
      "          (1): BatchNorm2d(384, eps=1e-05, momentum=0.1, affine=True, track_running_stats=True)\n",
      "          (2): ReLU6(inplace=True)\n",
      "        )\n",
      "        (1): Conv2dNormActivation(\n",
      "          (0): Conv2d(384, 384, kernel_size=(3, 3), stride=(1, 1), padding=(1, 1), groups=384, bias=False)\n",
      "          (1): BatchNorm2d(384, eps=1e-05, momentum=0.1, affine=True, track_running_stats=True)\n",
      "          (2): ReLU6(inplace=True)\n",
      "        )\n",
      "        (2): Conv2d(384, 64, kernel_size=(1, 1), stride=(1, 1), bias=False)\n",
      "        (3): BatchNorm2d(64, eps=1e-05, momentum=0.1, affine=True, track_running_stats=True)\n",
      "      )\n",
      "    )\n",
      "    (9): InvertedResidual(\n",
      "      (conv): Sequential(\n",
      "        (0): Conv2dNormActivation(\n",
      "          (0): Conv2d(64, 384, kernel_size=(1, 1), stride=(1, 1), bias=False)\n",
      "          (1): BatchNorm2d(384, eps=1e-05, momentum=0.1, affine=True, track_running_stats=True)\n",
      "          (2): ReLU6(inplace=True)\n",
      "        )\n",
      "        (1): Conv2dNormActivation(\n",
      "          (0): Conv2d(384, 384, kernel_size=(3, 3), stride=(1, 1), padding=(1, 1), groups=384, bias=False)\n",
      "          (1): BatchNorm2d(384, eps=1e-05, momentum=0.1, affine=True, track_running_stats=True)\n",
      "          (2): ReLU6(inplace=True)\n",
      "        )\n",
      "        (2): Conv2d(384, 64, kernel_size=(1, 1), stride=(1, 1), bias=False)\n",
      "        (3): BatchNorm2d(64, eps=1e-05, momentum=0.1, affine=True, track_running_stats=True)\n",
      "      )\n",
      "    )\n",
      "    (10): InvertedResidual(\n",
      "      (conv): Sequential(\n",
      "        (0): Conv2dNormActivation(\n",
      "          (0): Conv2d(64, 384, kernel_size=(1, 1), stride=(1, 1), bias=False)\n",
      "          (1): BatchNorm2d(384, eps=1e-05, momentum=0.1, affine=True, track_running_stats=True)\n",
      "          (2): ReLU6(inplace=True)\n",
      "        )\n",
      "        (1): Conv2dNormActivation(\n",
      "          (0): Conv2d(384, 384, kernel_size=(3, 3), stride=(1, 1), padding=(1, 1), groups=384, bias=False)\n",
      "          (1): BatchNorm2d(384, eps=1e-05, momentum=0.1, affine=True, track_running_stats=True)\n",
      "          (2): ReLU6(inplace=True)\n",
      "        )\n",
      "        (2): Conv2d(384, 64, kernel_size=(1, 1), stride=(1, 1), bias=False)\n",
      "        (3): BatchNorm2d(64, eps=1e-05, momentum=0.1, affine=True, track_running_stats=True)\n",
      "      )\n",
      "    )\n",
      "    (11): InvertedResidual(\n",
      "      (conv): Sequential(\n",
      "        (0): Conv2dNormActivation(\n",
      "          (0): Conv2d(64, 384, kernel_size=(1, 1), stride=(1, 1), bias=False)\n",
      "          (1): BatchNorm2d(384, eps=1e-05, momentum=0.1, affine=True, track_running_stats=True)\n",
      "          (2): ReLU6(inplace=True)\n",
      "        )\n",
      "        (1): Conv2dNormActivation(\n",
      "          (0): Conv2d(384, 384, kernel_size=(3, 3), stride=(1, 1), padding=(1, 1), groups=384, bias=False)\n",
      "          (1): BatchNorm2d(384, eps=1e-05, momentum=0.1, affine=True, track_running_stats=True)\n",
      "          (2): ReLU6(inplace=True)\n",
      "        )\n",
      "        (2): Conv2d(384, 96, kernel_size=(1, 1), stride=(1, 1), bias=False)\n",
      "        (3): BatchNorm2d(96, eps=1e-05, momentum=0.1, affine=True, track_running_stats=True)\n",
      "      )\n",
      "    )\n",
      "    (12): InvertedResidual(\n",
      "      (conv): Sequential(\n",
      "        (0): Conv2dNormActivation(\n",
      "          (0): Conv2d(96, 576, kernel_size=(1, 1), stride=(1, 1), bias=False)\n",
      "          (1): BatchNorm2d(576, eps=1e-05, momentum=0.1, affine=True, track_running_stats=True)\n",
      "          (2): ReLU6(inplace=True)\n",
      "        )\n",
      "        (1): Conv2dNormActivation(\n",
      "          (0): Conv2d(576, 576, kernel_size=(3, 3), stride=(1, 1), padding=(1, 1), groups=576, bias=False)\n",
      "          (1): BatchNorm2d(576, eps=1e-05, momentum=0.1, affine=True, track_running_stats=True)\n",
      "          (2): ReLU6(inplace=True)\n",
      "        )\n",
      "        (2): Conv2d(576, 96, kernel_size=(1, 1), stride=(1, 1), bias=False)\n",
      "        (3): BatchNorm2d(96, eps=1e-05, momentum=0.1, affine=True, track_running_stats=True)\n",
      "      )\n",
      "    )\n",
      "    (13): InvertedResidual(\n",
      "      (conv): Sequential(\n",
      "        (0): Conv2dNormActivation(\n",
      "          (0): Conv2d(96, 576, kernel_size=(1, 1), stride=(1, 1), bias=False)\n",
      "          (1): BatchNorm2d(576, eps=1e-05, momentum=0.1, affine=True, track_running_stats=True)\n",
      "          (2): ReLU6(inplace=True)\n",
      "        )\n",
      "        (1): Conv2dNormActivation(\n",
      "          (0): Conv2d(576, 576, kernel_size=(3, 3), stride=(1, 1), padding=(1, 1), groups=576, bias=False)\n",
      "          (1): BatchNorm2d(576, eps=1e-05, momentum=0.1, affine=True, track_running_stats=True)\n",
      "          (2): ReLU6(inplace=True)\n",
      "        )\n",
      "        (2): Conv2d(576, 96, kernel_size=(1, 1), stride=(1, 1), bias=False)\n",
      "        (3): BatchNorm2d(96, eps=1e-05, momentum=0.1, affine=True, track_running_stats=True)\n",
      "      )\n",
      "    )\n",
      "    (14): InvertedResidual(\n",
      "      (conv): Sequential(\n",
      "        (0): Conv2dNormActivation(\n",
      "          (0): Conv2d(96, 576, kernel_size=(1, 1), stride=(1, 1), bias=False)\n",
      "          (1): BatchNorm2d(576, eps=1e-05, momentum=0.1, affine=True, track_running_stats=True)\n",
      "          (2): ReLU6(inplace=True)\n",
      "        )\n",
      "        (1): Conv2dNormActivation(\n",
      "          (0): Conv2d(576, 576, kernel_size=(3, 3), stride=(2, 2), padding=(1, 1), groups=576, bias=False)\n",
      "          (1): BatchNorm2d(576, eps=1e-05, momentum=0.1, affine=True, track_running_stats=True)\n",
      "          (2): ReLU6(inplace=True)\n",
      "        )\n",
      "        (2): Conv2d(576, 160, kernel_size=(1, 1), stride=(1, 1), bias=False)\n",
      "        (3): BatchNorm2d(160, eps=1e-05, momentum=0.1, affine=True, track_running_stats=True)\n",
      "      )\n",
      "    )\n",
      "    (15): InvertedResidual(\n",
      "      (conv): Sequential(\n",
      "        (0): Conv2dNormActivation(\n",
      "          (0): Conv2d(160, 960, kernel_size=(1, 1), stride=(1, 1), bias=False)\n",
      "          (1): BatchNorm2d(960, eps=1e-05, momentum=0.1, affine=True, track_running_stats=True)\n",
      "          (2): ReLU6(inplace=True)\n",
      "        )\n",
      "        (1): Conv2dNormActivation(\n",
      "          (0): Conv2d(960, 960, kernel_size=(3, 3), stride=(1, 1), padding=(1, 1), groups=960, bias=False)\n",
      "          (1): BatchNorm2d(960, eps=1e-05, momentum=0.1, affine=True, track_running_stats=True)\n",
      "          (2): ReLU6(inplace=True)\n",
      "        )\n",
      "        (2): Conv2d(960, 160, kernel_size=(1, 1), stride=(1, 1), bias=False)\n",
      "        (3): BatchNorm2d(160, eps=1e-05, momentum=0.1, affine=True, track_running_stats=True)\n",
      "      )\n",
      "    )\n",
      "    (16): InvertedResidual(\n",
      "      (conv): Sequential(\n",
      "        (0): Conv2dNormActivation(\n",
      "          (0): Conv2d(160, 960, kernel_size=(1, 1), stride=(1, 1), bias=False)\n",
      "          (1): BatchNorm2d(960, eps=1e-05, momentum=0.1, affine=True, track_running_stats=True)\n",
      "          (2): ReLU6(inplace=True)\n",
      "        )\n",
      "        (1): Conv2dNormActivation(\n",
      "          (0): Conv2d(960, 960, kernel_size=(3, 3), stride=(1, 1), padding=(1, 1), groups=960, bias=False)\n",
      "          (1): BatchNorm2d(960, eps=1e-05, momentum=0.1, affine=True, track_running_stats=True)\n",
      "          (2): ReLU6(inplace=True)\n",
      "        )\n",
      "        (2): Conv2d(960, 160, kernel_size=(1, 1), stride=(1, 1), bias=False)\n",
      "        (3): BatchNorm2d(160, eps=1e-05, momentum=0.1, affine=True, track_running_stats=True)\n",
      "      )\n",
      "    )\n",
      "    (17): InvertedResidual(\n",
      "      (conv): Sequential(\n",
      "        (0): Conv2dNormActivation(\n",
      "          (0): Conv2d(160, 960, kernel_size=(1, 1), stride=(1, 1), bias=False)\n",
      "          (1): BatchNorm2d(960, eps=1e-05, momentum=0.1, affine=True, track_running_stats=True)\n",
      "          (2): ReLU6(inplace=True)\n",
      "        )\n",
      "        (1): Conv2dNormActivation(\n",
      "          (0): Conv2d(960, 960, kernel_size=(3, 3), stride=(1, 1), padding=(1, 1), groups=960, bias=False)\n",
      "          (1): BatchNorm2d(960, eps=1e-05, momentum=0.1, affine=True, track_running_stats=True)\n",
      "          (2): ReLU6(inplace=True)\n",
      "        )\n",
      "        (2): Conv2d(960, 320, kernel_size=(1, 1), stride=(1, 1), bias=False)\n",
      "        (3): BatchNorm2d(320, eps=1e-05, momentum=0.1, affine=True, track_running_stats=True)\n",
      "      )\n",
      "    )\n",
      "    (18): Conv2dNormActivation(\n",
      "      (0): Conv2d(320, 1280, kernel_size=(1, 1), stride=(1, 1), bias=False)\n",
      "      (1): BatchNorm2d(1280, eps=1e-05, momentum=0.1, affine=True, track_running_stats=True)\n",
      "      (2): ReLU6(inplace=True)\n",
      "    )\n",
      "  )\n",
      "  (classifier): Sequential(\n",
      "    (0): Dropout(p=0.2, inplace=False)\n",
      "    (1): Linear(in_features=1280, out_features=3, bias=True)\n",
      "  )\n",
      ")\n"
     ]
    }
   ],
   "source": [
    "print(model)"
   ]
  },
  {
   "cell_type": "code",
   "execution_count": 29,
   "id": "44578399",
   "metadata": {},
   "outputs": [
    {
     "name": "stdout",
     "output_type": "stream",
     "text": [
      "# Epoch and Learning-Rate variables\r\n",
      "num_epochs: 13.0\r\n",
      "pruning_epochs: 10.0\r\n",
      "init_lr: 0.0005\r\n",
      "inter_func: cubic\r\n",
      "mask_type: unstructured\r\n",
      "\r\n",
      "training_modifiers:\r\n",
      "  - !EpochRangeModifier\r\n",
      "    start_epoch: 0.0\r\n",
      "    end_epoch: eval(num_epochs)\r\n",
      "\r\n",
      "  - !LearningRateFunctionModifier\r\n",
      "    final_lr: 0.0\r\n",
      "    init_lr: eval(init_lr)\r\n",
      "    lr_func: cosine\r\n",
      "    start_epoch: 0.0\r\n",
      "    end_epoch: eval(num_epochs)\r\n",
      "\r\n",
      "# Pruning\r\n",
      "pruning_modifiers:\r\n",
      "  - !GlobalMagnitudePruningModifier\r\n",
      "    init_sparsity: 0.05\r\n",
      "    final_sparsity: 0.90\r\n",
      "    start_epoch: 0.0\r\n",
      "    end_epoch: eval(pruning_epochs)\r\n",
      "    update_frequency: 1.0\r\n",
      "    params: \r\n",
      "        - 'features.0.0.weight'\r\n",
      "        - 'features.18.0.weight'\r\n",
      "        - 're:features.*.conv.*.weight'\r\n",
      "        - 're:features.*.conv.*.*.weight'\r\n",
      "    leave_enabled: True\r\n",
      "    inter_func: eval(inter_func)\r\n",
      "    mask_type: eval(mask_type)\r\n",
      "\r\n",
      "finetuning_modifiers:\r\n",
      "  - !ConstantPruningModifier\r\n",
      "    start_epoch: eval(pruning_epochs)\r\n",
      "    params: __ALL_PRUNABLE__"
     ]
    }
   ],
   "source": [
    "!cat recipe-0.yaml"
   ]
  },
  {
   "cell_type": "code",
   "execution_count": 30,
   "id": "68646bc7",
   "metadata": {},
   "outputs": [],
   "source": [
    "# create ScheduledModifierManager and Optimizer wrapper\n",
    "manager = ScheduledModifierManager.from_yaml(\"./recipe-0.yaml\")\n",
    "optimizer = manager.modify(model, optimizer, steps_per_epoch=len(train_loader))"
   ]
  },
  {
   "cell_type": "code",
   "execution_count": 31,
   "id": "00d26fb4",
   "metadata": {},
   "outputs": [
    {
     "name": "stdout",
     "output_type": "stream",
     "text": [
      "features.0.0.weight: 0.0000\n",
      "features.1.conv.0.0.weight: 0.0000\n",
      "features.1.conv.1.weight: 0.0000\n",
      "features.2.conv.0.0.weight: 0.0000\n",
      "features.2.conv.1.0.weight: 0.0000\n",
      "features.2.conv.2.weight: 0.0000\n",
      "features.3.conv.0.0.weight: 0.0000\n",
      "features.3.conv.1.0.weight: 0.0000\n",
      "features.3.conv.2.weight: 0.0000\n",
      "features.4.conv.0.0.weight: 0.0000\n",
      "features.4.conv.1.0.weight: 0.0000\n",
      "features.4.conv.2.weight: 0.0000\n",
      "features.5.conv.0.0.weight: 0.0000\n",
      "features.5.conv.1.0.weight: 0.0000\n",
      "features.5.conv.2.weight: 0.0000\n",
      "features.6.conv.0.0.weight: 0.0000\n",
      "features.6.conv.1.0.weight: 0.0000\n",
      "features.6.conv.2.weight: 0.0000\n",
      "features.7.conv.0.0.weight: 0.0000\n",
      "features.7.conv.1.0.weight: 0.0000\n",
      "features.7.conv.2.weight: 0.0000\n",
      "features.8.conv.0.0.weight: 0.0000\n",
      "features.8.conv.1.0.weight: 0.0000\n",
      "features.8.conv.2.weight: 0.0000\n",
      "features.9.conv.0.0.weight: 0.0000\n",
      "features.9.conv.1.0.weight: 0.0000\n",
      "features.9.conv.2.weight: 0.0000\n",
      "features.10.conv.0.0.weight: 0.0000\n",
      "features.10.conv.1.0.weight: 0.0000\n",
      "features.10.conv.2.weight: 0.0000\n",
      "features.11.conv.0.0.weight: 0.0000\n",
      "features.11.conv.1.0.weight: 0.0000\n",
      "features.11.conv.2.weight: 0.0000\n",
      "features.12.conv.0.0.weight: 0.0000\n",
      "features.12.conv.1.0.weight: 0.0000\n",
      "features.12.conv.2.weight: 0.0000\n",
      "features.13.conv.0.0.weight: 0.0000\n",
      "features.13.conv.1.0.weight: 0.0000\n",
      "features.13.conv.2.weight: 0.0000\n",
      "features.14.conv.0.0.weight: 0.0000\n",
      "features.14.conv.1.0.weight: 0.0000\n",
      "features.14.conv.2.weight: 0.0000\n",
      "features.15.conv.0.0.weight: 0.0000\n",
      "features.15.conv.1.0.weight: 0.0000\n",
      "features.15.conv.2.weight: 0.0000\n",
      "features.16.conv.0.0.weight: 0.0000\n",
      "features.16.conv.1.0.weight: 0.0000\n",
      "features.16.conv.2.weight: 0.0000\n",
      "features.17.conv.0.0.weight: 0.0000\n",
      "features.17.conv.1.0.weight: 0.0000\n",
      "features.17.conv.2.weight: 0.0000\n",
      "features.18.0.weight: 0.0000\n",
      "classifier.1.weight: 0.0000\n"
     ]
    }
   ],
   "source": [
    "for (name, layer) in get_prunable_layers(model):\n",
    "    print(f\"{name}.weight: {tensor_sparsity(layer.weight).item():.4f}\")"
   ]
  },
  {
   "cell_type": "code",
   "execution_count": 32,
   "id": "601c8c21",
   "metadata": {
    "scrolled": false
   },
   "outputs": [
    {
     "name": "stdout",
     "output_type": "stream",
     "text": [
      "Running Training Epoch 1/13\n"
     ]
    },
    {
     "data": {
      "application/vnd.jupyter.widget-view+json": {
       "model_id": "45a3d93cbb884f808293e613b1af95df",
       "version_major": 2,
       "version_minor": 0
      },
      "text/plain": [
       "  0%|          | 0/33 [00:00<?, ?it/s]"
      ]
     },
     "metadata": {},
     "output_type": "display_data"
    },
    {
     "name": "stdout",
     "output_type": "stream",
     "text": [
      "Training Epoch: 1/13\n",
      "Training Loss: 0.05181791849088657\n",
      "Top 1 Acc: 0.9835589941972921\n",
      "\n",
      "Running Validation Epoch 1/13\n"
     ]
    },
    {
     "data": {
      "application/vnd.jupyter.widget-view+json": {
       "model_id": "3b1b5e3918a142809e09b1fcaaac71fe",
       "version_major": 2,
       "version_minor": 0
      },
      "text/plain": [
       "  0%|          | 0/5 [00:00<?, ?it/s]"
      ]
     },
     "metadata": {},
     "output_type": "display_data"
    },
    {
     "name": "stdout",
     "output_type": "stream",
     "text": [
      "Validation Epoch: 1/13\n",
      "Val Loss: 0.08574707275256514\n",
      "Top 1 Acc: 0.9624060150375939\n",
      "\n",
      "\n",
      "\n",
      "Checking Sparsity Level:\n",
      "features.0.0.weight: 0.0880\n",
      "features.1.conv.0.0.weight: 0.0729\n",
      "features.1.conv.1.weight: 0.0820\n",
      "features.2.conv.0.0.weight: 0.0293\n",
      "features.2.conv.1.0.weight: 0.0081\n",
      "features.2.conv.2.weight: 0.0169\n",
      "features.3.conv.0.0.weight: 0.0321\n",
      "features.3.conv.1.0.weight: 0.0255\n",
      "features.3.conv.2.weight: 0.0286\n",
      "features.4.conv.0.0.weight: 0.0240\n",
      "features.4.conv.1.0.weight: 0.0008\n",
      "features.4.conv.2.weight: 0.0197\n",
      "features.5.conv.0.0.weight: 0.0343\n",
      "features.5.conv.1.0.weight: 0.0237\n",
      "features.5.conv.2.weight: 0.0288\n",
      "features.6.conv.0.0.weight: 0.0319\n",
      "features.6.conv.1.0.weight: 0.0272\n",
      "features.6.conv.2.weight: 0.0334\n",
      "features.7.conv.0.0.weight: 0.0218\n",
      "features.7.conv.1.0.weight: 0.0035\n",
      "features.7.conv.2.weight: 0.0228\n",
      "features.8.conv.0.0.weight: 0.0445\n",
      "features.8.conv.1.0.weight: 0.0341\n",
      "features.8.conv.2.weight: 0.0502\n",
      "features.9.conv.0.0.weight: 0.0424\n",
      "features.9.conv.1.0.weight: 0.0292\n",
      "features.9.conv.2.weight: 0.0465\n",
      "features.10.conv.0.0.weight: 0.0409\n",
      "features.10.conv.1.0.weight: 0.0301\n",
      "features.10.conv.2.weight: 0.0433\n",
      "features.11.conv.0.0.weight: 0.0298\n",
      "features.11.conv.1.0.weight: 0.0388\n",
      "features.11.conv.2.weight: 0.0329\n",
      "features.12.conv.0.0.weight: 0.0428\n",
      "features.12.conv.1.0.weight: 0.0266\n",
      "features.12.conv.2.weight: 0.0466\n",
      "features.13.conv.0.0.weight: 0.0434\n",
      "features.13.conv.1.0.weight: 0.0249\n",
      "features.13.conv.2.weight: 0.0480\n",
      "features.14.conv.0.0.weight: 0.0341\n",
      "features.14.conv.1.0.weight: 0.0008\n",
      "features.14.conv.2.weight: 0.0362\n",
      "features.15.conv.0.0.weight: 0.0569\n",
      "features.15.conv.1.0.weight: 0.0270\n",
      "features.15.conv.2.weight: 0.0610\n",
      "features.16.conv.0.0.weight: 0.0499\n",
      "features.16.conv.1.0.weight: 0.0309\n",
      "features.16.conv.2.weight: 0.0591\n",
      "features.17.conv.0.0.weight: 0.0420\n",
      "features.17.conv.1.0.weight: 0.0058\n",
      "features.17.conv.2.weight: 0.0554\n",
      "features.18.0.weight: 0.0610\n",
      "classifier.1.weight: 0.0000\n",
      "\n",
      "\n",
      "Running Training Epoch 2/13\n"
     ]
    },
    {
     "data": {
      "application/vnd.jupyter.widget-view+json": {
       "model_id": "f16282ed566640b0a5932df06e6cbf44",
       "version_major": 2,
       "version_minor": 0
      },
      "text/plain": [
       "  0%|          | 0/33 [00:00<?, ?it/s]"
      ]
     },
     "metadata": {},
     "output_type": "display_data"
    },
    {
     "name": "stdout",
     "output_type": "stream",
     "text": [
      "Training Epoch: 2/13\n",
      "Training Loss: 0.01928500584361962\n",
      "Top 1 Acc: 0.9941972920696325\n",
      "\n",
      "Running Validation Epoch 2/13\n"
     ]
    },
    {
     "data": {
      "application/vnd.jupyter.widget-view+json": {
       "model_id": "8c088aadcbc842a188c6f148e5af0f21",
       "version_major": 2,
       "version_minor": 0
      },
      "text/plain": [
       "  0%|          | 0/5 [00:00<?, ?it/s]"
      ]
     },
     "metadata": {},
     "output_type": "display_data"
    },
    {
     "name": "stdout",
     "output_type": "stream",
     "text": [
      "Validation Epoch: 2/13\n",
      "Val Loss: 0.04039517091587186\n",
      "Top 1 Acc: 0.9849624060150376\n",
      "\n",
      "\n",
      "\n",
      "Checking Sparsity Level:\n",
      "features.0.0.weight: 0.1910\n",
      "features.1.conv.0.0.weight: 0.1319\n",
      "features.1.conv.1.weight: 0.1875\n",
      "features.2.conv.0.0.weight: 0.1680\n",
      "features.2.conv.1.0.weight: 0.0532\n",
      "features.2.conv.2.weight: 0.1115\n",
      "features.3.conv.0.0.weight: 0.1450\n",
      "features.3.conv.1.0.weight: 0.1142\n",
      "features.3.conv.2.weight: 0.1534\n",
      "features.4.conv.0.0.weight: 0.1279\n",
      "features.4.conv.1.0.weight: 0.0085\n",
      "features.4.conv.2.weight: 0.1152\n",
      "features.5.conv.0.0.weight: 0.1758\n",
      "features.5.conv.1.0.weight: 0.1337\n",
      "features.5.conv.2.weight: 0.1759\n",
      "features.6.conv.0.0.weight: 0.1637\n",
      "features.6.conv.1.0.weight: 0.1337\n",
      "features.6.conv.2.weight: 0.1898\n",
      "features.7.conv.0.0.weight: 0.1243\n",
      "features.7.conv.1.0.weight: 0.0069\n",
      "features.7.conv.2.weight: 0.1381\n",
      "features.8.conv.0.0.weight: 0.2351\n",
      "features.8.conv.1.0.weight: 0.1765\n",
      "features.8.conv.2.weight: 0.2569\n",
      "features.9.conv.0.0.weight: 0.2288\n",
      "features.9.conv.1.0.weight: 0.1837\n",
      "features.9.conv.2.weight: 0.2562\n",
      "features.10.conv.0.0.weight: 0.2262\n",
      "features.10.conv.1.0.weight: 0.1927\n",
      "features.10.conv.2.weight: 0.2558\n",
      "features.11.conv.0.0.weight: 0.1801\n",
      "features.11.conv.1.0.weight: 0.2274\n",
      "features.11.conv.2.weight: 0.1899\n",
      "features.12.conv.0.0.weight: 0.2417\n",
      "features.12.conv.1.0.weight: 0.1530\n",
      "features.12.conv.2.weight: 0.2620\n",
      "features.13.conv.0.0.weight: 0.2393\n",
      "features.13.conv.1.0.weight: 0.1458\n",
      "features.13.conv.2.weight: 0.2699\n",
      "features.14.conv.0.0.weight: 0.1983\n",
      "features.14.conv.1.0.weight: 0.0023\n",
      "features.14.conv.2.weight: 0.2086\n",
      "features.15.conv.0.0.weight: 0.3115\n",
      "features.15.conv.1.0.weight: 0.1448\n",
      "features.15.conv.2.weight: 0.3267\n",
      "features.16.conv.0.0.weight: 0.2854\n",
      "features.16.conv.1.0.weight: 0.1593\n",
      "features.16.conv.2.weight: 0.3279\n",
      "features.17.conv.0.0.weight: 0.2446\n",
      "features.17.conv.1.0.weight: 0.0365\n",
      "features.17.conv.2.weight: 0.3121\n",
      "features.18.0.weight: 0.3458\n",
      "classifier.1.weight: 0.0000\n",
      "\n",
      "\n",
      "Running Training Epoch 3/13\n"
     ]
    },
    {
     "data": {
      "application/vnd.jupyter.widget-view+json": {
       "model_id": "ab8d6edec3194b9582d4116e9314ca1d",
       "version_major": 2,
       "version_minor": 0
      },
      "text/plain": [
       "  0%|          | 0/33 [00:00<?, ?it/s]"
      ]
     },
     "metadata": {},
     "output_type": "display_data"
    },
    {
     "name": "stdout",
     "output_type": "stream",
     "text": [
      "Training Epoch: 3/13\n",
      "Training Loss: 0.02513152473274562\n",
      "Top 1 Acc: 0.9941972920696325\n",
      "\n",
      "Running Validation Epoch 3/13\n"
     ]
    },
    {
     "data": {
      "application/vnd.jupyter.widget-view+json": {
       "model_id": "3e2265f99bca47e8b7c668a736d1b153",
       "version_major": 2,
       "version_minor": 0
      },
      "text/plain": [
       "  0%|          | 0/5 [00:00<?, ?it/s]"
      ]
     },
     "metadata": {},
     "output_type": "display_data"
    },
    {
     "name": "stdout",
     "output_type": "stream",
     "text": [
      "Validation Epoch: 3/13\n",
      "Val Loss: 0.04448752112220973\n",
      "Top 1 Acc: 0.9924812030075187\n",
      "\n",
      "\n",
      "\n",
      "Checking Sparsity Level:\n",
      "features.0.0.weight: 0.2558\n",
      "features.1.conv.0.0.weight: 0.1944\n",
      "features.1.conv.1.weight: 0.2910\n",
      "features.2.conv.0.0.weight: 0.2728\n",
      "features.2.conv.1.0.weight: 0.0891\n",
      "features.2.conv.2.weight: 0.1910\n",
      "features.3.conv.0.0.weight: 0.2393\n",
      "features.3.conv.1.0.weight: 0.1975\n",
      "features.3.conv.2.weight: 0.2564\n",
      "features.4.conv.0.0.weight: 0.2115\n",
      "features.4.conv.1.0.weight: 0.0177\n",
      "features.4.conv.2.weight: 0.2018\n",
      "features.5.conv.0.0.weight: 0.2970\n",
      "features.5.conv.1.0.weight: 0.2193\n",
      "features.5.conv.2.weight: 0.2944\n",
      "features.6.conv.0.0.weight: 0.2752\n",
      "features.6.conv.1.0.weight: 0.2454\n",
      "features.6.conv.2.weight: 0.3210\n",
      "features.7.conv.0.0.weight: 0.2137\n",
      "features.7.conv.1.0.weight: 0.0197\n",
      "features.7.conv.2.weight: 0.2357\n",
      "features.8.conv.0.0.weight: 0.3953\n",
      "features.8.conv.1.0.weight: 0.2914\n",
      "features.8.conv.2.weight: 0.4281\n",
      "features.9.conv.0.0.weight: 0.3828\n",
      "features.9.conv.1.0.weight: 0.3137\n",
      "features.9.conv.2.weight: 0.4207\n",
      "features.10.conv.0.0.weight: 0.3823\n",
      "features.10.conv.1.0.weight: 0.3484\n",
      "features.10.conv.2.weight: 0.4315\n",
      "features.11.conv.0.0.weight: 0.3088\n",
      "features.11.conv.1.0.weight: 0.3733\n",
      "features.11.conv.2.weight: 0.3270\n",
      "features.12.conv.0.0.weight: 0.4098\n",
      "features.12.conv.1.0.weight: 0.2824\n",
      "features.12.conv.2.weight: 0.4380\n",
      "features.13.conv.0.0.weight: 0.4031\n",
      "features.13.conv.1.0.weight: 0.2764\n",
      "features.13.conv.2.weight: 0.4497\n",
      "features.14.conv.0.0.weight: 0.3376\n",
      "features.14.conv.1.0.weight: 0.0069\n",
      "features.14.conv.2.weight: 0.3574\n",
      "features.15.conv.0.0.weight: 0.5099\n",
      "features.15.conv.1.0.weight: 0.2616\n",
      "features.15.conv.2.weight: 0.5345\n",
      "features.16.conv.0.0.weight: 0.4732\n",
      "features.16.conv.1.0.weight: 0.2870\n",
      "features.16.conv.2.weight: 0.5376\n",
      "features.17.conv.0.0.weight: 0.4112\n",
      "features.17.conv.1.0.weight: 0.1214\n",
      "features.17.conv.2.weight: 0.5147\n",
      "features.18.0.weight: 0.5670\n",
      "classifier.1.weight: 0.0000\n",
      "\n",
      "\n",
      "Running Training Epoch 4/13\n"
     ]
    },
    {
     "data": {
      "application/vnd.jupyter.widget-view+json": {
       "model_id": "b5d30d22947442c3aa9a796ab1f3a0f0",
       "version_major": 2,
       "version_minor": 0
      },
      "text/plain": [
       "  0%|          | 0/33 [00:00<?, ?it/s]"
      ]
     },
     "metadata": {},
     "output_type": "display_data"
    },
    {
     "name": "stdout",
     "output_type": "stream",
     "text": [
      "Training Epoch: 4/13\n",
      "Training Loss: 0.0277155696160414\n",
      "Top 1 Acc: 0.9903288201160542\n",
      "\n",
      "Running Validation Epoch 4/13\n"
     ]
    },
    {
     "data": {
      "application/vnd.jupyter.widget-view+json": {
       "model_id": "e438aeaf9d274f31aa15e0880e59276f",
       "version_major": 2,
       "version_minor": 0
      },
      "text/plain": [
       "  0%|          | 0/5 [00:00<?, ?it/s]"
      ]
     },
     "metadata": {},
     "output_type": "display_data"
    },
    {
     "name": "stdout",
     "output_type": "stream",
     "text": [
      "Validation Epoch: 4/13\n",
      "Val Loss: 0.05159115699352697\n",
      "Top 1 Acc: 0.9849624060150376\n",
      "\n",
      "\n",
      "\n",
      "Checking Sparsity Level:\n",
      "features.0.0.weight: 0.3241\n",
      "features.1.conv.0.0.weight: 0.2535\n",
      "features.1.conv.1.weight: 0.3340\n",
      "features.2.conv.0.0.weight: 0.3503\n",
      "features.2.conv.1.0.weight: 0.1227\n",
      "features.2.conv.2.weight: 0.2582\n",
      "features.3.conv.0.0.weight: 0.3247\n",
      "features.3.conv.1.0.weight: 0.2708\n",
      "features.3.conv.2.weight: 0.3406\n",
      "features.4.conv.0.0.weight: 0.2908\n",
      "features.4.conv.1.0.weight: 0.0394\n",
      "features.4.conv.2.weight: 0.2745\n",
      "features.5.conv.0.0.weight: 0.3975\n",
      "features.5.conv.1.0.weight: 0.2992\n",
      "features.5.conv.2.weight: 0.4062\n",
      "features.6.conv.0.0.weight: 0.3833\n",
      "features.6.conv.1.0.weight: 0.3409\n",
      "features.6.conv.2.weight: 0.4261\n",
      "features.7.conv.0.0.weight: 0.2909\n",
      "features.7.conv.1.0.weight: 0.0509\n",
      "features.7.conv.2.weight: 0.3217\n",
      "features.8.conv.0.0.weight: 0.5207\n",
      "features.8.conv.1.0.weight: 0.3961\n",
      "features.8.conv.2.weight: 0.5641\n",
      "features.9.conv.0.0.weight: 0.5110\n",
      "features.9.conv.1.0.weight: 0.4265\n",
      "features.9.conv.2.weight: 0.5567\n",
      "features.10.conv.0.0.weight: 0.5105\n",
      "features.10.conv.1.0.weight: 0.4737\n",
      "features.10.conv.2.weight: 0.5682\n",
      "features.11.conv.0.0.weight: 0.4186\n",
      "features.11.conv.1.0.weight: 0.4948\n",
      "features.11.conv.2.weight: 0.4411\n",
      "features.12.conv.0.0.weight: 0.5493\n",
      "features.12.conv.1.0.weight: 0.4186\n",
      "features.12.conv.2.weight: 0.5831\n",
      "features.13.conv.0.0.weight: 0.5396\n",
      "features.13.conv.1.0.weight: 0.4292\n",
      "features.13.conv.2.weight: 0.5943\n",
      "features.14.conv.0.0.weight: 0.4563\n",
      "features.14.conv.1.0.weight: 0.0436\n",
      "features.14.conv.2.weight: 0.4845\n",
      "features.15.conv.0.0.weight: 0.6613\n",
      "features.15.conv.1.0.weight: 0.3944\n",
      "features.15.conv.2.weight: 0.6902\n",
      "features.16.conv.0.0.weight: 0.6202\n",
      "features.16.conv.1.0.weight: 0.4291\n",
      "features.16.conv.2.weight: 0.6922\n",
      "features.17.conv.0.0.weight: 0.5500\n",
      "features.17.conv.1.0.weight: 0.2991\n",
      "features.17.conv.2.weight: 0.6667\n",
      "features.18.0.weight: 0.7281\n",
      "classifier.1.weight: 0.0000\n",
      "\n",
      "\n",
      "Running Training Epoch 5/13\n"
     ]
    },
    {
     "data": {
      "application/vnd.jupyter.widget-view+json": {
       "model_id": "aa70980a0056483cbd491aa4259ff4f6",
       "version_major": 2,
       "version_minor": 0
      },
      "text/plain": [
       "  0%|          | 0/33 [00:00<?, ?it/s]"
      ]
     },
     "metadata": {},
     "output_type": "display_data"
    },
    {
     "name": "stdout",
     "output_type": "stream",
     "text": [
      "Training Epoch: 5/13\n",
      "Training Loss: 0.05216440672732212\n",
      "Top 1 Acc: 0.9874274661508704\n",
      "\n",
      "Running Validation Epoch 5/13\n"
     ]
    },
    {
     "data": {
      "application/vnd.jupyter.widget-view+json": {
       "model_id": "38d5ecf86f6840b298f92dc301d2388d",
       "version_major": 2,
       "version_minor": 0
      },
      "text/plain": [
       "  0%|          | 0/5 [00:00<?, ?it/s]"
      ]
     },
     "metadata": {},
     "output_type": "display_data"
    },
    {
     "name": "stdout",
     "output_type": "stream",
     "text": [
      "Validation Epoch: 5/13\n",
      "Val Loss: 0.033026803645771\n",
      "Top 1 Acc: 0.9774436090225563\n",
      "\n",
      "\n",
      "\n",
      "Checking Sparsity Level:\n",
      "features.0.0.weight: 0.3889\n",
      "features.1.conv.0.0.weight: 0.3368\n",
      "features.1.conv.1.weight: 0.3809\n",
      "features.2.conv.0.0.weight: 0.4062\n",
      "features.2.conv.1.0.weight: 0.1551\n",
      "features.2.conv.2.weight: 0.3242\n",
      "features.3.conv.0.0.weight: 0.4144\n",
      "features.3.conv.1.0.weight: 0.3341\n",
      "features.3.conv.2.weight: 0.4149\n",
      "features.4.conv.0.0.weight: 0.3539\n",
      "features.4.conv.1.0.weight: 0.0725\n",
      "features.4.conv.2.weight: 0.3409\n",
      "features.5.conv.0.0.weight: 0.4842\n",
      "features.5.conv.1.0.weight: 0.3750\n",
      "features.5.conv.2.weight: 0.5052\n",
      "features.6.conv.0.0.weight: 0.4787\n",
      "features.6.conv.1.0.weight: 0.4265\n",
      "features.6.conv.2.weight: 0.5290\n",
      "features.7.conv.0.0.weight: 0.3649\n",
      "features.7.conv.1.0.weight: 0.0943\n",
      "features.7.conv.2.weight: 0.4023\n",
      "features.8.conv.0.0.weight: 0.6228\n",
      "features.8.conv.1.0.weight: 0.4951\n",
      "features.8.conv.2.weight: 0.6655\n",
      "features.9.conv.0.0.weight: 0.6145\n",
      "features.9.conv.1.0.weight: 0.5255\n",
      "features.9.conv.2.weight: 0.6592\n",
      "features.10.conv.0.0.weight: 0.6125\n",
      "features.10.conv.1.0.weight: 0.5770\n",
      "features.10.conv.2.weight: 0.6728\n",
      "features.11.conv.0.0.weight: 0.5109\n",
      "features.11.conv.1.0.weight: 0.5998\n",
      "features.11.conv.2.weight: 0.5421\n",
      "features.12.conv.0.0.weight: 0.6615\n",
      "features.12.conv.1.0.weight: 0.5409\n",
      "features.12.conv.2.weight: 0.6970\n",
      "features.13.conv.0.0.weight: 0.6503\n",
      "features.13.conv.1.0.weight: 0.5656\n",
      "features.13.conv.2.weight: 0.7066\n",
      "features.14.conv.0.0.weight: 0.5590\n",
      "features.14.conv.1.0.weight: 0.1989\n",
      "features.14.conv.2.weight: 0.5913\n",
      "features.15.conv.0.0.weight: 0.7713\n",
      "features.15.conv.1.0.weight: 0.5274\n",
      "features.15.conv.2.weight: 0.7982\n",
      "features.16.conv.0.0.weight: 0.7312\n",
      "features.16.conv.1.0.weight: 0.5626\n",
      "features.16.conv.2.weight: 0.8016\n",
      "features.17.conv.0.0.weight: 0.6607\n",
      "features.17.conv.1.0.weight: 0.4676\n",
      "features.17.conv.2.weight: 0.7779\n",
      "features.18.0.weight: 0.8380\n",
      "classifier.1.weight: 0.0000\n",
      "\n",
      "\n",
      "Running Training Epoch 6/13\n"
     ]
    },
    {
     "data": {
      "application/vnd.jupyter.widget-view+json": {
       "model_id": "09d444e6137d4d899f30f1a59c980f7a",
       "version_major": 2,
       "version_minor": 0
      },
      "text/plain": [
       "  0%|          | 0/33 [00:00<?, ?it/s]"
      ]
     },
     "metadata": {},
     "output_type": "display_data"
    },
    {
     "name": "stdout",
     "output_type": "stream",
     "text": [
      "Training Epoch: 6/13\n",
      "Training Loss: 0.08560408513541475\n",
      "Top 1 Acc: 0.9806576402321083\n",
      "\n",
      "Running Validation Epoch 6/13\n"
     ]
    },
    {
     "data": {
      "application/vnd.jupyter.widget-view+json": {
       "model_id": "e56f3c9009d74d93b4ac4335699ceeff",
       "version_major": 2,
       "version_minor": 0
      },
      "text/plain": [
       "  0%|          | 0/5 [00:00<?, ?it/s]"
      ]
     },
     "metadata": {},
     "output_type": "display_data"
    },
    {
     "name": "stdout",
     "output_type": "stream",
     "text": [
      "Validation Epoch: 6/13\n",
      "Val Loss: 0.047504376620054245\n",
      "Top 1 Acc: 0.9924812030075187\n",
      "\n",
      "\n",
      "\n",
      "Checking Sparsity Level:\n",
      "features.0.0.weight: 0.4282\n",
      "features.1.conv.0.0.weight: 0.3854\n",
      "features.1.conv.1.weight: 0.4277\n",
      "features.2.conv.0.0.weight: 0.4473\n",
      "features.2.conv.1.0.weight: 0.2002\n",
      "features.2.conv.2.weight: 0.3728\n",
      "features.3.conv.0.0.weight: 0.4884\n",
      "features.3.conv.1.0.weight: 0.3904\n",
      "features.3.conv.2.weight: 0.4818\n",
      "features.4.conv.0.0.weight: 0.4141\n",
      "features.4.conv.1.0.weight: 0.1258\n",
      "features.4.conv.2.weight: 0.4039\n",
      "features.5.conv.0.0.weight: 0.5547\n",
      "features.5.conv.1.0.weight: 0.4421\n",
      "features.5.conv.2.weight: 0.5843\n",
      "features.6.conv.0.0.weight: 0.5542\n",
      "features.6.conv.1.0.weight: 0.5098\n",
      "features.6.conv.2.weight: 0.6082\n",
      "features.7.conv.0.0.weight: 0.4259\n",
      "features.7.conv.1.0.weight: 0.1609\n",
      "features.7.conv.2.weight: 0.4735\n",
      "features.8.conv.0.0.weight: 0.7039\n",
      "features.8.conv.1.0.weight: 0.5929\n",
      "features.8.conv.2.weight: 0.7467\n",
      "features.9.conv.0.0.weight: 0.6944\n",
      "features.9.conv.1.0.weight: 0.6045\n",
      "features.9.conv.2.weight: 0.7405\n",
      "features.10.conv.0.0.weight: 0.6935\n",
      "features.10.conv.1.0.weight: 0.6722\n",
      "features.10.conv.2.weight: 0.7526\n",
      "features.11.conv.0.0.weight: 0.5883\n",
      "features.11.conv.1.0.weight: 0.6849\n",
      "features.11.conv.2.weight: 0.6238\n",
      "features.12.conv.0.0.weight: 0.7493\n",
      "features.12.conv.1.0.weight: 0.6464\n",
      "features.12.conv.2.weight: 0.7824\n",
      "features.13.conv.0.0.weight: 0.7355\n",
      "features.13.conv.1.0.weight: 0.6696\n",
      "features.13.conv.2.weight: 0.7912\n",
      "features.14.conv.0.0.weight: 0.6435\n",
      "features.14.conv.1.0.weight: 0.3752\n",
      "features.14.conv.2.weight: 0.6782\n",
      "features.15.conv.0.0.weight: 0.8472\n",
      "features.15.conv.1.0.weight: 0.6318\n",
      "features.15.conv.2.weight: 0.8700\n",
      "features.16.conv.0.0.weight: 0.8124\n",
      "features.16.conv.1.0.weight: 0.6519\n",
      "features.16.conv.2.weight: 0.8720\n",
      "features.17.conv.0.0.weight: 0.7464\n",
      "features.17.conv.1.0.weight: 0.6255\n",
      "features.17.conv.2.weight: 0.8551\n",
      "features.18.0.weight: 0.9067\n",
      "classifier.1.weight: 0.0000\n",
      "\n",
      "\n",
      "Running Training Epoch 7/13\n"
     ]
    },
    {
     "data": {
      "application/vnd.jupyter.widget-view+json": {
       "model_id": "edfdeabc46284b12aa4e6aa15bb863b4",
       "version_major": 2,
       "version_minor": 0
      },
      "text/plain": [
       "  0%|          | 0/33 [00:00<?, ?it/s]"
      ]
     },
     "metadata": {},
     "output_type": "display_data"
    },
    {
     "name": "stdout",
     "output_type": "stream",
     "text": [
      "Training Epoch: 7/13\n",
      "Training Loss: 0.13826644358535609\n",
      "Top 1 Acc: 0.9555125725338491\n",
      "\n",
      "Running Validation Epoch 7/13\n"
     ]
    },
    {
     "data": {
      "application/vnd.jupyter.widget-view+json": {
       "model_id": "2ad5b73b968e4adabb3d2a6c23129b2a",
       "version_major": 2,
       "version_minor": 0
      },
      "text/plain": [
       "  0%|          | 0/5 [00:00<?, ?it/s]"
      ]
     },
     "metadata": {},
     "output_type": "display_data"
    },
    {
     "name": "stdout",
     "output_type": "stream",
     "text": [
      "Validation Epoch: 7/13\n",
      "Val Loss: 0.06480909623205662\n",
      "Top 1 Acc: 0.9924812030075187\n",
      "\n",
      "\n",
      "\n",
      "Checking Sparsity Level:\n",
      "features.0.0.weight: 0.4583\n",
      "features.1.conv.0.0.weight: 0.4201\n",
      "features.1.conv.1.weight: 0.4590\n",
      "features.2.conv.0.0.weight: 0.4876\n",
      "features.2.conv.1.0.weight: 0.2396\n",
      "features.2.conv.2.weight: 0.4175\n",
      "features.3.conv.0.0.weight: 0.5408\n",
      "features.3.conv.1.0.weight: 0.4383\n",
      "features.3.conv.2.weight: 0.5362\n",
      "features.4.conv.0.0.weight: 0.4589\n",
      "features.4.conv.1.0.weight: 0.1713\n",
      "features.4.conv.2.weight: 0.4505\n",
      "features.5.conv.0.0.weight: 0.6123\n",
      "features.5.conv.1.0.weight: 0.4994\n",
      "features.5.conv.2.weight: 0.6411\n",
      "features.6.conv.0.0.weight: 0.6138\n",
      "features.6.conv.1.0.weight: 0.5527\n",
      "features.6.conv.2.weight: 0.6644\n",
      "features.7.conv.0.0.weight: 0.4774\n",
      "features.7.conv.1.0.weight: 0.2442\n",
      "features.7.conv.2.weight: 0.5317\n",
      "features.8.conv.0.0.weight: 0.7644\n",
      "features.8.conv.1.0.weight: 0.6707\n",
      "features.8.conv.2.weight: 0.8041\n",
      "features.9.conv.0.0.weight: 0.7559\n",
      "features.9.conv.1.0.weight: 0.6652\n",
      "features.9.conv.2.weight: 0.7982\n",
      "features.10.conv.0.0.weight: 0.7552\n",
      "features.10.conv.1.0.weight: 0.7286\n",
      "features.10.conv.2.weight: 0.8081\n",
      "features.11.conv.0.0.weight: 0.6488\n",
      "features.11.conv.1.0.weight: 0.7367\n",
      "features.11.conv.2.weight: 0.6914\n",
      "features.12.conv.0.0.weight: 0.8122\n",
      "features.12.conv.1.0.weight: 0.7209\n",
      "features.12.conv.2.weight: 0.8414\n",
      "features.13.conv.0.0.weight: 0.7991\n",
      "features.13.conv.1.0.weight: 0.7363\n",
      "features.13.conv.2.weight: 0.8495\n",
      "features.14.conv.0.0.weight: 0.7071\n",
      "features.14.conv.1.0.weight: 0.4716\n",
      "features.14.conv.2.weight: 0.7443\n",
      "features.15.conv.0.0.weight: 0.8963\n",
      "features.15.conv.1.0.weight: 0.7072\n",
      "features.15.conv.2.weight: 0.9140\n",
      "features.16.conv.0.0.weight: 0.8670\n",
      "features.16.conv.1.0.weight: 0.7153\n",
      "features.16.conv.2.weight: 0.9165\n",
      "features.17.conv.0.0.weight: 0.8084\n",
      "features.17.conv.1.0.weight: 0.7810\n",
      "features.17.conv.2.weight: 0.9038\n",
      "features.18.0.weight: 0.9459\n",
      "classifier.1.weight: 0.0000\n",
      "\n",
      "\n",
      "Running Training Epoch 8/13\n"
     ]
    },
    {
     "data": {
      "application/vnd.jupyter.widget-view+json": {
       "model_id": "e82652b654e446cd8116dcd19a0be296",
       "version_major": 2,
       "version_minor": 0
      },
      "text/plain": [
       "  0%|          | 0/33 [00:00<?, ?it/s]"
      ]
     },
     "metadata": {},
     "output_type": "display_data"
    },
    {
     "name": "stdout",
     "output_type": "stream",
     "text": [
      "Training Epoch: 8/13\n",
      "Training Loss: 0.24723159487951885\n",
      "Top 1 Acc: 0.9168278529980658\n",
      "\n",
      "Running Validation Epoch 8/13\n"
     ]
    },
    {
     "data": {
      "application/vnd.jupyter.widget-view+json": {
       "model_id": "237b92f48c0c4bfd96a69d263038f2cb",
       "version_major": 2,
       "version_minor": 0
      },
      "text/plain": [
       "  0%|          | 0/5 [00:00<?, ?it/s]"
      ]
     },
     "metadata": {},
     "output_type": "display_data"
    },
    {
     "name": "stdout",
     "output_type": "stream",
     "text": [
      "Validation Epoch: 8/13\n",
      "Val Loss: 0.12623528838157655\n",
      "Top 1 Acc: 0.9699248120300752\n",
      "\n",
      "\n",
      "\n",
      "Checking Sparsity Level:\n",
      "features.0.0.weight: 0.4769\n",
      "features.1.conv.0.0.weight: 0.4410\n",
      "features.1.conv.1.weight: 0.4902\n",
      "features.2.conv.0.0.weight: 0.5215\n",
      "features.2.conv.1.0.weight: 0.2697\n",
      "features.2.conv.2.weight: 0.4562\n",
      "features.3.conv.0.0.weight: 0.5819\n",
      "features.3.conv.1.0.weight: 0.4691\n",
      "features.3.conv.2.weight: 0.5799\n",
      "features.4.conv.0.0.weight: 0.4905\n",
      "features.4.conv.1.0.weight: 0.2168\n",
      "features.4.conv.2.weight: 0.4863\n",
      "features.5.conv.0.0.weight: 0.6523\n",
      "features.5.conv.1.0.weight: 0.5469\n",
      "features.5.conv.2.weight: 0.6816\n",
      "features.6.conv.0.0.weight: 0.6556\n",
      "features.6.conv.1.0.weight: 0.5822\n",
      "features.6.conv.2.weight: 0.7048\n",
      "features.7.conv.0.0.weight: 0.5181\n",
      "features.7.conv.1.0.weight: 0.3142\n",
      "features.7.conv.2.weight: 0.5773\n",
      "features.8.conv.0.0.weight: 0.8066\n",
      "features.8.conv.1.0.weight: 0.7153\n",
      "features.8.conv.2.weight: 0.8413\n",
      "features.9.conv.0.0.weight: 0.7955\n",
      "features.9.conv.1.0.weight: 0.7063\n",
      "features.9.conv.2.weight: 0.8360\n",
      "features.10.conv.0.0.weight: 0.7968\n",
      "features.10.conv.1.0.weight: 0.7584\n",
      "features.10.conv.2.weight: 0.8444\n",
      "features.11.conv.0.0.weight: 0.6906\n",
      "features.11.conv.1.0.weight: 0.7705\n",
      "features.11.conv.2.weight: 0.7354\n",
      "features.12.conv.0.0.weight: 0.8520\n",
      "features.12.conv.1.0.weight: 0.7660\n",
      "features.12.conv.2.weight: 0.8779\n",
      "features.13.conv.0.0.weight: 0.8402\n",
      "features.13.conv.1.0.weight: 0.7859\n",
      "features.13.conv.2.weight: 0.8848\n",
      "features.14.conv.0.0.weight: 0.7510\n",
      "features.14.conv.1.0.weight: 0.5687\n",
      "features.14.conv.2.weight: 0.7902\n",
      "features.15.conv.0.0.weight: 0.9249\n",
      "features.15.conv.1.0.weight: 0.7522\n",
      "features.15.conv.2.weight: 0.9395\n",
      "features.16.conv.0.0.weight: 0.9001\n",
      "features.16.conv.1.0.weight: 0.7598\n",
      "features.16.conv.2.weight: 0.9410\n",
      "features.17.conv.0.0.weight: 0.8472\n",
      "features.17.conv.1.0.weight: 0.8656\n",
      "features.17.conv.2.weight: 0.9319\n",
      "features.18.0.weight: 0.9658\n",
      "classifier.1.weight: 0.0000\n",
      "\n",
      "\n",
      "Running Training Epoch 9/13\n"
     ]
    },
    {
     "data": {
      "application/vnd.jupyter.widget-view+json": {
       "model_id": "720780c6a14141f994122f20191161b5",
       "version_major": 2,
       "version_minor": 0
      },
      "text/plain": [
       "  0%|          | 0/33 [00:00<?, ?it/s]"
      ]
     },
     "metadata": {},
     "output_type": "display_data"
    },
    {
     "name": "stdout",
     "output_type": "stream",
     "text": [
      "Training Epoch: 9/13\n",
      "Training Loss: 0.1767726969538313\n",
      "Top 1 Acc: 0.9487427466150871\n",
      "\n",
      "Running Validation Epoch 9/13\n"
     ]
    },
    {
     "data": {
      "application/vnd.jupyter.widget-view+json": {
       "model_id": "1358ccec50044e43b4719064ce830298",
       "version_major": 2,
       "version_minor": 0
      },
      "text/plain": [
       "  0%|          | 0/5 [00:00<?, ?it/s]"
      ]
     },
     "metadata": {},
     "output_type": "display_data"
    },
    {
     "name": "stdout",
     "output_type": "stream",
     "text": [
      "Validation Epoch: 9/13\n",
      "Val Loss: 0.14729779064655305\n",
      "Top 1 Acc: 0.9849624060150376\n",
      "\n",
      "\n",
      "\n",
      "Checking Sparsity Level:\n",
      "features.0.0.weight: 0.4873\n",
      "features.1.conv.0.0.weight: 0.4549\n",
      "features.1.conv.1.weight: 0.5000\n",
      "features.2.conv.0.0.weight: 0.5430\n",
      "features.2.conv.1.0.weight: 0.2812\n",
      "features.2.conv.2.weight: 0.4787\n",
      "features.3.conv.0.0.weight: 0.6042\n",
      "features.3.conv.1.0.weight: 0.4846\n",
      "features.3.conv.2.weight: 0.6042\n",
      "features.4.conv.0.0.weight: 0.5119\n",
      "features.4.conv.1.0.weight: 0.2546\n",
      "features.4.conv.2.weight: 0.5067\n",
      "features.5.conv.0.0.weight: 0.6763\n",
      "features.5.conv.1.0.weight: 0.5758\n",
      "features.5.conv.2.weight: 0.7051\n",
      "features.6.conv.0.0.weight: 0.6816\n",
      "features.6.conv.1.0.weight: 0.6042\n",
      "features.6.conv.2.weight: 0.7293\n",
      "features.7.conv.0.0.weight: 0.5369\n",
      "features.7.conv.1.0.weight: 0.3455\n",
      "features.7.conv.2.weight: 0.6029\n",
      "features.8.conv.0.0.weight: 0.8276\n",
      "features.8.conv.1.0.weight: 0.7341\n",
      "features.8.conv.2.weight: 0.8612\n",
      "features.9.conv.0.0.weight: 0.8167\n",
      "features.9.conv.1.0.weight: 0.7277\n",
      "features.9.conv.2.weight: 0.8552\n",
      "features.10.conv.0.0.weight: 0.8191\n",
      "features.10.conv.1.0.weight: 0.7812\n",
      "features.10.conv.2.weight: 0.8632\n",
      "features.11.conv.0.0.weight: 0.7159\n",
      "features.11.conv.1.0.weight: 0.7908\n",
      "features.11.conv.2.weight: 0.7609\n",
      "features.12.conv.0.0.weight: 0.8726\n",
      "features.12.conv.1.0.weight: 0.7863\n",
      "features.12.conv.2.weight: 0.8965\n",
      "features.13.conv.0.0.weight: 0.8621\n",
      "features.13.conv.1.0.weight: 0.8084\n",
      "features.13.conv.2.weight: 0.9030\n",
      "features.14.conv.0.0.weight: 0.7746\n",
      "features.14.conv.1.0.weight: 0.6524\n",
      "features.14.conv.2.weight: 0.8163\n",
      "features.15.conv.0.0.weight: 0.9390\n",
      "features.15.conv.1.0.weight: 0.7749\n",
      "features.15.conv.2.weight: 0.9517\n",
      "features.16.conv.0.0.weight: 0.9172\n",
      "features.16.conv.1.0.weight: 0.7837\n",
      "features.16.conv.2.weight: 0.9527\n",
      "features.17.conv.0.0.weight: 0.8682\n",
      "features.17.conv.1.0.weight: 0.8979\n",
      "features.17.conv.2.weight: 0.9457\n",
      "features.18.0.weight: 0.9749\n",
      "classifier.1.weight: 0.0000\n",
      "\n",
      "\n",
      "Running Training Epoch 10/13\n"
     ]
    },
    {
     "data": {
      "application/vnd.jupyter.widget-view+json": {
       "model_id": "dfa7ad602c8541ff9a0c3895106cb7e7",
       "version_major": 2,
       "version_minor": 0
      },
      "text/plain": [
       "  0%|          | 0/33 [00:00<?, ?it/s]"
      ]
     },
     "metadata": {},
     "output_type": "display_data"
    },
    {
     "name": "stdout",
     "output_type": "stream",
     "text": [
      "Training Epoch: 10/13\n",
      "Training Loss: 0.12266924277399525\n",
      "Top 1 Acc: 0.9700193423597679\n",
      "\n",
      "Running Validation Epoch 10/13\n"
     ]
    },
    {
     "data": {
      "application/vnd.jupyter.widget-view+json": {
       "model_id": "9bd9cf7852294b72aa3226cb6f21f592",
       "version_major": 2,
       "version_minor": 0
      },
      "text/plain": [
       "  0%|          | 0/5 [00:00<?, ?it/s]"
      ]
     },
     "metadata": {},
     "output_type": "display_data"
    },
    {
     "name": "stdout",
     "output_type": "stream",
     "text": [
      "Validation Epoch: 10/13\n",
      "Val Loss: 0.104463392496109\n",
      "Top 1 Acc: 0.9849624060150376\n",
      "\n",
      "\n",
      "\n",
      "Checking Sparsity Level:\n",
      "features.0.0.weight: 0.4919\n",
      "features.1.conv.0.0.weight: 0.4618\n",
      "features.1.conv.1.weight: 0.5098\n",
      "features.2.conv.0.0.weight: 0.5475\n",
      "features.2.conv.1.0.weight: 0.2951\n",
      "features.2.conv.2.weight: 0.4852\n",
      "features.3.conv.0.0.weight: 0.6137\n",
      "features.3.conv.1.0.weight: 0.4915\n",
      "features.3.conv.2.weight: 0.6126\n",
      "features.4.conv.0.0.weight: 0.5171\n",
      "features.4.conv.1.0.weight: 0.2639\n",
      "features.4.conv.2.weight: 0.5163\n",
      "features.5.conv.0.0.weight: 0.6842\n",
      "features.5.conv.1.0.weight: 0.5856\n",
      "features.5.conv.2.weight: 0.7145\n",
      "features.6.conv.0.0.weight: 0.6914\n",
      "features.6.conv.1.0.weight: 0.6146\n",
      "features.6.conv.2.weight: 0.7373\n",
      "features.7.conv.0.0.weight: 0.5449\n",
      "features.7.conv.1.0.weight: 0.3640\n",
      "features.7.conv.2.weight: 0.6121\n",
      "features.8.conv.0.0.weight: 0.8355\n",
      "features.8.conv.1.0.weight: 0.7399\n",
      "features.8.conv.2.weight: 0.8680\n",
      "features.9.conv.0.0.weight: 0.8251\n",
      "features.9.conv.1.0.weight: 0.7355\n",
      "features.9.conv.2.weight: 0.8634\n",
      "features.10.conv.0.0.weight: 0.8276\n",
      "features.10.conv.1.0.weight: 0.7862\n",
      "features.10.conv.2.weight: 0.8713\n",
      "features.11.conv.0.0.weight: 0.7245\n",
      "features.11.conv.1.0.weight: 0.7960\n",
      "features.11.conv.2.weight: 0.7710\n",
      "features.12.conv.0.0.weight: 0.8798\n",
      "features.12.conv.1.0.weight: 0.7932\n",
      "features.12.conv.2.weight: 0.9038\n",
      "features.13.conv.0.0.weight: 0.8704\n",
      "features.13.conv.1.0.weight: 0.8169\n",
      "features.13.conv.2.weight: 0.9103\n",
      "features.14.conv.0.0.weight: 0.7845\n",
      "features.14.conv.1.0.weight: 0.6823\n",
      "features.14.conv.2.weight: 0.8260\n",
      "features.15.conv.0.0.weight: 0.9442\n",
      "features.15.conv.1.0.weight: 0.7847\n",
      "features.15.conv.2.weight: 0.9561\n",
      "features.16.conv.0.0.weight: 0.9233\n",
      "features.16.conv.1.0.weight: 0.7920\n",
      "features.16.conv.2.weight: 0.9565\n",
      "features.17.conv.0.0.weight: 0.8762\n",
      "features.17.conv.1.0.weight: 0.9093\n",
      "features.17.conv.2.weight: 0.9509\n",
      "features.18.0.weight: 0.9779\n",
      "classifier.1.weight: 0.0000\n",
      "\n",
      "\n",
      "Running Training Epoch 11/13\n"
     ]
    },
    {
     "data": {
      "application/vnd.jupyter.widget-view+json": {
       "model_id": "1b1fef1cd5644d10a5aa75ebb98829e2",
       "version_major": 2,
       "version_minor": 0
      },
      "text/plain": [
       "  0%|          | 0/33 [00:00<?, ?it/s]"
      ]
     },
     "metadata": {},
     "output_type": "display_data"
    },
    {
     "name": "stdout",
     "output_type": "stream",
     "text": [
      "Training Epoch: 11/13\n",
      "Training Loss: 0.08148531587512205\n",
      "Top 1 Acc: 0.9787234042553191\n",
      "\n",
      "Running Validation Epoch 11/13\n"
     ]
    },
    {
     "data": {
      "application/vnd.jupyter.widget-view+json": {
       "model_id": "86a99646d91c48e9ac7524c8b3743110",
       "version_major": 2,
       "version_minor": 0
      },
      "text/plain": [
       "  0%|          | 0/5 [00:00<?, ?it/s]"
      ]
     },
     "metadata": {},
     "output_type": "display_data"
    },
    {
     "name": "stdout",
     "output_type": "stream",
     "text": [
      "Validation Epoch: 11/13\n",
      "Val Loss: 0.07646273151040077\n",
      "Top 1 Acc: 0.9774436090225563\n",
      "\n",
      "\n",
      "\n",
      "Checking Sparsity Level:\n",
      "features.0.0.weight: 0.4919\n",
      "features.1.conv.0.0.weight: 0.4618\n",
      "features.1.conv.1.weight: 0.5156\n",
      "features.2.conv.0.0.weight: 0.5495\n",
      "features.2.conv.1.0.weight: 0.2951\n",
      "features.2.conv.2.weight: 0.4852\n",
      "features.3.conv.0.0.weight: 0.6152\n",
      "features.3.conv.1.0.weight: 0.4915\n",
      "features.3.conv.2.weight: 0.6137\n",
      "features.4.conv.0.0.weight: 0.5185\n",
      "features.4.conv.1.0.weight: 0.2670\n",
      "features.4.conv.2.weight: 0.5167\n",
      "features.5.conv.0.0.weight: 0.6847\n",
      "features.5.conv.1.0.weight: 0.5880\n",
      "features.5.conv.2.weight: 0.7153\n",
      "features.6.conv.0.0.weight: 0.6929\n",
      "features.6.conv.1.0.weight: 0.6169\n",
      "features.6.conv.2.weight: 0.7378\n",
      "features.7.conv.0.0.weight: 0.5461\n",
      "features.7.conv.1.0.weight: 0.3646\n",
      "features.7.conv.2.weight: 0.6134\n",
      "features.8.conv.0.0.weight: 0.8370\n",
      "features.8.conv.1.0.weight: 0.7410\n",
      "features.8.conv.2.weight: 0.8693\n",
      "features.9.conv.0.0.weight: 0.8263\n",
      "features.9.conv.1.0.weight: 0.7367\n",
      "features.9.conv.2.weight: 0.8643\n",
      "features.10.conv.0.0.weight: 0.8288\n",
      "features.10.conv.1.0.weight: 0.7870\n",
      "features.10.conv.2.weight: 0.8721\n",
      "features.11.conv.0.0.weight: 0.7257\n",
      "features.11.conv.1.0.weight: 0.7966\n",
      "features.11.conv.2.weight: 0.7720\n",
      "features.12.conv.0.0.weight: 0.8809\n",
      "features.12.conv.1.0.weight: 0.7944\n",
      "features.12.conv.2.weight: 0.9048\n",
      "features.13.conv.0.0.weight: 0.8716\n",
      "features.13.conv.1.0.weight: 0.8177\n",
      "features.13.conv.2.weight: 0.9112\n",
      "features.14.conv.0.0.weight: 0.7858\n",
      "features.14.conv.1.0.weight: 0.6860\n",
      "features.14.conv.2.weight: 0.8276\n",
      "features.15.conv.0.0.weight: 0.9448\n",
      "features.15.conv.1.0.weight: 0.7856\n",
      "features.15.conv.2.weight: 0.9567\n",
      "features.16.conv.0.0.weight: 0.9241\n",
      "features.16.conv.1.0.weight: 0.7929\n",
      "features.16.conv.2.weight: 0.9572\n",
      "features.17.conv.0.0.weight: 0.8773\n",
      "features.17.conv.1.0.weight: 0.9105\n",
      "features.17.conv.2.weight: 0.9516\n",
      "features.18.0.weight: 0.9785\n",
      "classifier.1.weight: 0.0000\n",
      "\n",
      "\n",
      "Running Training Epoch 12/13\n"
     ]
    },
    {
     "data": {
      "application/vnd.jupyter.widget-view+json": {
       "model_id": "2ca0fe6eeb4042439d0172b6899b6629",
       "version_major": 2,
       "version_minor": 0
      },
      "text/plain": [
       "  0%|          | 0/33 [00:00<?, ?it/s]"
      ]
     },
     "metadata": {},
     "output_type": "display_data"
    },
    {
     "name": "stdout",
     "output_type": "stream",
     "text": [
      "Training Epoch: 12/13\n",
      "Training Loss: 0.0749947436605439\n",
      "Top 1 Acc: 0.9816247582205029\n",
      "\n",
      "Running Validation Epoch 12/13\n"
     ]
    },
    {
     "data": {
      "application/vnd.jupyter.widget-view+json": {
       "model_id": "f0a08db8228c4bc384cfb4bc60302d3c",
       "version_major": 2,
       "version_minor": 0
      },
      "text/plain": [
       "  0%|          | 0/5 [00:00<?, ?it/s]"
      ]
     },
     "metadata": {},
     "output_type": "display_data"
    },
    {
     "name": "stdout",
     "output_type": "stream",
     "text": [
      "Validation Epoch: 12/13\n",
      "Val Loss: 0.07313197031617165\n",
      "Top 1 Acc: 0.9774436090225563\n",
      "\n",
      "\n",
      "\n",
      "Checking Sparsity Level:\n",
      "features.0.0.weight: 0.4919\n",
      "features.1.conv.0.0.weight: 0.4618\n",
      "features.1.conv.1.weight: 0.5156\n",
      "features.2.conv.0.0.weight: 0.5495\n",
      "features.2.conv.1.0.weight: 0.2951\n",
      "features.2.conv.2.weight: 0.4852\n",
      "features.3.conv.0.0.weight: 0.6152\n",
      "features.3.conv.1.0.weight: 0.4915\n",
      "features.3.conv.2.weight: 0.6137\n",
      "features.4.conv.0.0.weight: 0.5185\n",
      "features.4.conv.1.0.weight: 0.2670\n",
      "features.4.conv.2.weight: 0.5167\n",
      "features.5.conv.0.0.weight: 0.6847\n",
      "features.5.conv.1.0.weight: 0.5880\n",
      "features.5.conv.2.weight: 0.7153\n",
      "features.6.conv.0.0.weight: 0.6929\n",
      "features.6.conv.1.0.weight: 0.6169\n",
      "features.6.conv.2.weight: 0.7378\n",
      "features.7.conv.0.0.weight: 0.5461\n",
      "features.7.conv.1.0.weight: 0.3646\n",
      "features.7.conv.2.weight: 0.6134\n",
      "features.8.conv.0.0.weight: 0.8370\n",
      "features.8.conv.1.0.weight: 0.7410\n",
      "features.8.conv.2.weight: 0.8693\n",
      "features.9.conv.0.0.weight: 0.8263\n",
      "features.9.conv.1.0.weight: 0.7367\n",
      "features.9.conv.2.weight: 0.8643\n",
      "features.10.conv.0.0.weight: 0.8288\n",
      "features.10.conv.1.0.weight: 0.7870\n",
      "features.10.conv.2.weight: 0.8721\n",
      "features.11.conv.0.0.weight: 0.7257\n",
      "features.11.conv.1.0.weight: 0.7966\n",
      "features.11.conv.2.weight: 0.7720\n",
      "features.12.conv.0.0.weight: 0.8809\n",
      "features.12.conv.1.0.weight: 0.7944\n",
      "features.12.conv.2.weight: 0.9048\n",
      "features.13.conv.0.0.weight: 0.8716\n",
      "features.13.conv.1.0.weight: 0.8177\n",
      "features.13.conv.2.weight: 0.9112\n",
      "features.14.conv.0.0.weight: 0.7858\n",
      "features.14.conv.1.0.weight: 0.6860\n",
      "features.14.conv.2.weight: 0.8276\n",
      "features.15.conv.0.0.weight: 0.9448\n",
      "features.15.conv.1.0.weight: 0.7856\n",
      "features.15.conv.2.weight: 0.9567\n",
      "features.16.conv.0.0.weight: 0.9241\n",
      "features.16.conv.1.0.weight: 0.7929\n",
      "features.16.conv.2.weight: 0.9572\n",
      "features.17.conv.0.0.weight: 0.8773\n",
      "features.17.conv.1.0.weight: 0.9105\n",
      "features.17.conv.2.weight: 0.9516\n",
      "features.18.0.weight: 0.9785\n",
      "classifier.1.weight: 0.0000\n",
      "\n",
      "\n",
      "Running Training Epoch 13/13\n"
     ]
    },
    {
     "data": {
      "application/vnd.jupyter.widget-view+json": {
       "model_id": "ae1760d53ad1445c87ba323ef6a9f2d2",
       "version_major": 2,
       "version_minor": 0
      },
      "text/plain": [
       "  0%|          | 0/33 [00:00<?, ?it/s]"
      ]
     },
     "metadata": {},
     "output_type": "display_data"
    },
    {
     "name": "stdout",
     "output_type": "stream",
     "text": [
      "Training Epoch: 13/13\n",
      "Training Loss: 0.08235379680991173\n",
      "Top 1 Acc: 0.97678916827853\n",
      "\n",
      "Running Validation Epoch 13/13\n"
     ]
    },
    {
     "data": {
      "application/vnd.jupyter.widget-view+json": {
       "model_id": "c65ce0fddfac48749bda269035f42c72",
       "version_major": 2,
       "version_minor": 0
      },
      "text/plain": [
       "  0%|          | 0/5 [00:00<?, ?it/s]"
      ]
     },
     "metadata": {},
     "output_type": "display_data"
    },
    {
     "name": "stdout",
     "output_type": "stream",
     "text": [
      "Validation Epoch: 13/13\n",
      "Val Loss: 0.07470075637102128\n",
      "Top 1 Acc: 0.9774436090225563\n",
      "\n",
      "\n",
      "\n",
      "Checking Sparsity Level:\n",
      "features.0.0.weight: 0.4919\n",
      "features.1.conv.0.0.weight: 0.4618\n",
      "features.1.conv.1.weight: 0.5156\n",
      "features.2.conv.0.0.weight: 0.5495\n",
      "features.2.conv.1.0.weight: 0.2951\n",
      "features.2.conv.2.weight: 0.4852\n",
      "features.3.conv.0.0.weight: 0.6152\n",
      "features.3.conv.1.0.weight: 0.4915\n",
      "features.3.conv.2.weight: 0.6137\n",
      "features.4.conv.0.0.weight: 0.5185\n",
      "features.4.conv.1.0.weight: 0.2670\n",
      "features.4.conv.2.weight: 0.5167\n",
      "features.5.conv.0.0.weight: 0.6847\n",
      "features.5.conv.1.0.weight: 0.5880\n",
      "features.5.conv.2.weight: 0.7153\n",
      "features.6.conv.0.0.weight: 0.6929\n",
      "features.6.conv.1.0.weight: 0.6169\n",
      "features.6.conv.2.weight: 0.7378\n",
      "features.7.conv.0.0.weight: 0.5461\n",
      "features.7.conv.1.0.weight: 0.3646\n",
      "features.7.conv.2.weight: 0.6134\n",
      "features.8.conv.0.0.weight: 0.8370\n",
      "features.8.conv.1.0.weight: 0.7410\n",
      "features.8.conv.2.weight: 0.8693\n",
      "features.9.conv.0.0.weight: 0.8263\n",
      "features.9.conv.1.0.weight: 0.7367\n",
      "features.9.conv.2.weight: 0.8643\n",
      "features.10.conv.0.0.weight: 0.8288\n",
      "features.10.conv.1.0.weight: 0.7870\n",
      "features.10.conv.2.weight: 0.8721\n",
      "features.11.conv.0.0.weight: 0.7257\n",
      "features.11.conv.1.0.weight: 0.7966\n",
      "features.11.conv.2.weight: 0.7720\n",
      "features.12.conv.0.0.weight: 0.8809\n",
      "features.12.conv.1.0.weight: 0.7944\n",
      "features.12.conv.2.weight: 0.9048\n",
      "features.13.conv.0.0.weight: 0.8716\n",
      "features.13.conv.1.0.weight: 0.8177\n",
      "features.13.conv.2.weight: 0.9112\n",
      "features.14.conv.0.0.weight: 0.7858\n",
      "features.14.conv.1.0.weight: 0.6860\n",
      "features.14.conv.2.weight: 0.8276\n",
      "features.15.conv.0.0.weight: 0.9448\n",
      "features.15.conv.1.0.weight: 0.7856\n",
      "features.15.conv.2.weight: 0.9567\n",
      "features.16.conv.0.0.weight: 0.9241\n",
      "features.16.conv.1.0.weight: 0.7929\n",
      "features.16.conv.2.weight: 0.9572\n",
      "features.17.conv.0.0.weight: 0.8773\n",
      "features.17.conv.1.0.weight: 0.9105\n",
      "features.17.conv.2.weight: 0.9516\n",
      "features.18.0.weight: 0.9785\n",
      "classifier.1.weight: 0.0000\n",
      "\n",
      "\n"
     ]
    }
   ],
   "source": [
    "# run transfer learning\n",
    "epoch = 0\n",
    "for epoch in range(manager.max_epochs):\n",
    "    # run training loop\n",
    "    epoch_name = f\"{epoch + 1}/{manager.max_epochs}\"\n",
    "    print(f\"Running Training Epoch {epoch_name}\")\n",
    "    train_loss, train_acc = run_model_one_epoch(\n",
    "        model, train_loader, criterion, device, train=True, optimizer=optimizer\n",
    "    )\n",
    "    print(\n",
    "        f\"Training Epoch: {epoch_name}\\nTraining Loss: {train_loss}\\nTop 1 Acc: {train_acc}\\n\"\n",
    "    )\n",
    "\n",
    "    # run validation loop\n",
    "    print(f\"Running Validation Epoch {epoch_name}\")\n",
    "    val_loss, val_acc = run_model_one_epoch(model, val_loader, criterion, device)\n",
    "    print(\n",
    "        f\"Validation Epoch: {epoch_name}\\nVal Loss: {val_loss}\\nTop 1 Acc: {val_acc}\\n\"\n",
    "    )\n",
    "    \n",
    "    print(f\"\\n\\nChecking Sparsity Level:\")\n",
    "    for (name, layer) in get_prunable_layers(model):\n",
    "        print(f\"{name}.weight: {tensor_sparsity(layer.weight).item():.4f}\")\n",
    "    print(f\"\\n\")\n",
    "    \n",
    "manager.finalize(model)"
   ]
  },
  {
   "cell_type": "code",
   "execution_count": 33,
   "id": "417ac105",
   "metadata": {},
   "outputs": [
    {
     "name": "stderr",
     "output_type": "stream",
     "text": [
      "/home/ubuntu/rshaw/python-venvs/sparseml-env/lib/python3.8/site-packages/torch/onnx/utils.py:439: UserWarning: It is recommended that constant folding be turned off ('do_constant_folding=False') when exporting the model in training-amenable mode, i.e. with 'training=TrainingMode.TRAIN' or 'training=TrainingMode.PRESERVE' (when model is in training mode). Otherwise, some learnable model parameters may not translate correctly in the exported ONNX model because constant folding mutates model parameters. Please consider turning off constant folding or setting the training=TrainingMode.EVAL.\n",
      "  warnings.warn(\n"
     ]
    }
   ],
   "source": [
    "from sparseml.pytorch.utils import ModuleExporter\n",
    "\n",
    "save_dir = \"experiment-0\"\n",
    "exporter = ModuleExporter(model, output_dir=save_dir)\n",
    "exporter.export_pytorch(name=\"mobilenet_v2-sparse-experiment-0.pth\")\n",
    "exporter.export_onnx(torch.randn(1, 3, 224, 224), name=\"sparse-model.onnx\", convert_qat=True)"
   ]
  },
  {
   "cell_type": "code",
   "execution_count": 34,
   "id": "d7193990",
   "metadata": {},
   "outputs": [
    {
     "data": {
      "text/plain": [
       "<All keys matched successfully>"
      ]
     },
     "execution_count": 34,
     "metadata": {},
     "output_type": "execute_result"
    }
   ],
   "source": [
    "checkpoint2 = torch.load(\"./dense_model/training/mobilenet-v2-dense-beans.pth\")\n",
    "model2 = torchvision.models.mobilenet_v2()\n",
    "model2.classifier[1] = torch.nn.Linear(model.classifier[1].in_features, NUM_LABELS)\n",
    "model2.load_state_dict(checkpoint['state_dict'])"
   ]
  },
  {
   "cell_type": "code",
   "execution_count": 36,
   "id": "b4333b3a",
   "metadata": {},
   "outputs": [],
   "source": [
    "exporter = ModuleExporter(model2, output_dir=\"./test\")\n",
    "exporter.export_onnx(torch.randn(1, 3, 224, 224), name=\"dense-model.onnx\", convert_qat=True)"
   ]
  },
  {
   "cell_type": "code",
   "execution_count": null,
   "id": "59702f10",
   "metadata": {},
   "outputs": [],
   "source": []
  }
 ],
 "metadata": {
  "kernelspec": {
   "display_name": "Python 3 (ipykernel)",
   "language": "python",
   "name": "python3"
  },
  "language_info": {
   "codemirror_mode": {
    "name": "ipython",
    "version": 3
   },
   "file_extension": ".py",
   "mimetype": "text/x-python",
   "name": "python",
   "nbconvert_exporter": "python",
   "pygments_lexer": "ipython3",
   "version": "3.8.10"
  }
 },
 "nbformat": 4,
 "nbformat_minor": 5
}
